{
 "cells": [
  {
   "cell_type": "markdown",
   "metadata": {},
   "source": [
    "# ETL Processes\n",
    "Use this notebook to develop the ETL process for each of your tables before completing the `etl.py` file to load the whole datasets."
   ]
  },
  {
   "cell_type": "code",
   "execution_count": null,
   "metadata": {
    "ExecuteTime": {
     "end_time": "2021-08-15T12:34:37.000557Z",
     "start_time": "2021-08-15T12:34:35.851002Z"
    }
   },
   "outputs": [],
   "source": [
    "import os\n",
    "import re\n",
    "import glob\n",
    "import psycopg2\n",
    "import pandas as pd\n",
    "import sql_queries as sq"
   ]
  },
  {
   "cell_type": "code",
   "execution_count": null,
   "metadata": {
    "ExecuteTime": {
     "end_time": "2021-08-15T12:34:40.477936Z",
     "start_time": "2021-08-15T12:34:40.340135Z"
    }
   },
   "outputs": [],
   "source": [
    "#|-----20--char-----||-----20--char-----||-----20--char-----||-doc-lim-||code|#\n",
    "conn = psycopg2.connect(\n",
    "    user=\"admin\",\n",
    "    password=\"<password>\",\n",
    "    host=\"localhost\", \n",
    "    port=\"5432\",\n",
    "    dbname=\"sparkifydb\"\n",
    ")\n",
    "#|-----20--char-----||-----20--char-----||-----20--char-----||-doc-lim-||code|#"
   ]
  },
  {
   "cell_type": "code",
   "execution_count": null,
   "metadata": {
    "ExecuteTime": {
     "end_time": "2021-08-15T12:34:41.215190Z",
     "start_time": "2021-08-15T12:34:41.180309Z"
    }
   },
   "outputs": [],
   "source": [
    "#|-----20--char-----||-----20--char-----||-----20--char-----||-doc-lim-||code|#\n",
    "cur = conn.cursor()\n",
    "def get_files(filepath):\n",
    "    all_files = []\n",
    "    for root, dirs, files in os.walk(filepath):\n",
    "        files = glob.glob(os.path.join(root,'*.json'))\n",
    "        for f in files :\n",
    "            all_files.append(os.path.abspath(f))\n",
    "    \n",
    "    return all_files\n",
    "\n",
    "def single_quote_converter(sentence):\n",
    "    sentence = re.sub(r'\\'', r'<single_quote_tag>', sentence)\n",
    "\n",
    "    return sentence\n",
    "#|-----20--char-----||-----20--char-----||-----20--char-----||-doc-lim-||code|#"
   ]
  },
  {
   "cell_type": "markdown",
   "metadata": {},
   "source": [
    "## Process `song_data`\n",
    "In this first part, you'll perform ETL on the first dataset, `song_data`, to create the `songs` and `artists` dimensional tables.\n",
    "\n",
    "Let's perform ETL on a single song file and load a single record into each table to start.\n",
    "- Use the `get_files` function provided above to get a list of all song JSON files in `data/song_data`\n",
    "- Select the first song in this list\n",
    "- Read the song file and view the data"
   ]
  },
  {
   "cell_type": "code",
   "execution_count": null,
   "metadata": {
    "ExecuteTime": {
     "end_time": "2021-08-15T12:34:43.946027Z",
     "start_time": "2021-08-15T12:34:43.899221Z"
    }
   },
   "outputs": [],
   "source": [
    "#|-----20--char-----||-----20--char-----||-----20--char-----||-doc-lim-||code|#\n",
    "song_files = get_files(os.path.join(os.getcwd(), \"data/song_data\"))"
   ]
  },
  {
   "cell_type": "code",
   "execution_count": null,
   "metadata": {
    "ExecuteTime": {
     "end_time": "2021-08-15T12:34:44.730571Z",
     "start_time": "2021-08-15T12:34:44.700622Z"
    }
   },
   "outputs": [],
   "source": [
    "#|-----20--char-----||-----20--char-----||-----20--char-----||-doc-lim-||code|#\n",
    "print(f\"Total number of JSON files: {len(song_files)}\")\n",
    "print(f\"Example index 0: {os.path.basename(song_files[0])}\")"
   ]
  },
  {
   "cell_type": "code",
   "execution_count": null,
   "metadata": {
    "ExecuteTime": {
     "end_time": "2021-08-15T12:34:45.332567Z",
     "start_time": "2021-08-15T12:34:45.316949Z"
    }
   },
   "outputs": [],
   "source": [
    "#|-----20--char-----||-----20--char-----||-----20--char-----||-doc-lim-||code|#\n",
    "filepath = song_files[0]"
   ]
  },
  {
   "cell_type": "code",
   "execution_count": null,
   "metadata": {
    "ExecuteTime": {
     "end_time": "2021-08-15T12:34:46.002976Z",
     "start_time": "2021-08-15T12:34:45.949591Z"
    }
   },
   "outputs": [],
   "source": [
    "#|-----20--char-----||-----20--char-----||-----20--char-----||-doc-lim-||code|#\n",
    "songs_df = pd.read_json(filepath, lines=True)\n",
    "songs_df.head()"
   ]
  },
  {
   "cell_type": "code",
   "execution_count": null,
   "metadata": {
    "ExecuteTime": {
     "end_time": "2021-08-15T12:34:46.732640Z",
     "start_time": "2021-08-15T12:34:46.704289Z"
    }
   },
   "outputs": [],
   "source": [
    "#|-----20--char-----||-----20--char-----||-----20--char-----||-doc-lim-||code|#\n",
    "print(f\"Artist ID, characters lenght: {len(songs_df['artist_id'].values[0])}\")\n",
    "print(f\"Artist ID, characters lenght: {len(songs_df['song_id'].values[0])}\")"
   ]
  },
  {
   "cell_type": "markdown",
   "metadata": {},
   "source": [
    "### `artists` Table"
   ]
  },
  {
   "cell_type": "markdown",
   "metadata": {},
   "source": [
    "#### Extract Data for Artists Table"
   ]
  },
  {
   "cell_type": "markdown",
   "metadata": {},
   "source": [
    "- Select columns for artist ID, name, location, latitude, and longitude\n",
    "- Use `df.values` to select just the values from the dataframe\n",
    "- Index to select the first (only) record in the dataframe\n",
    "- Convert the array to a list and set it to `artist_data`"
   ]
  },
  {
   "cell_type": "code",
   "execution_count": null,
   "metadata": {
    "ExecuteTime": {
     "end_time": "2021-08-15T12:34:50.145488Z",
     "start_time": "2021-08-15T12:34:50.126291Z"
    }
   },
   "outputs": [],
   "source": [
    "#|-----20--char-----||-----20--char-----||-----20--char-----||-doc-lim-||code|#\n",
    "columns = [\n",
    "    \"artist_id\",\n",
    "    \"artist_name\",\n",
    "    \"artist_location\",\n",
    "    \"artist_latitude\",\n",
    "    \"artist_longitude\"\n",
    "]\n",
    "artist_data = songs_df[columns]\n",
    "artist_data[:][\"artist_name\"] = artist_data[\"artist_name\"].map(\n",
    "    single_quote_converter, na_action='ignore'\n",
    ")\n",
    "artist_data[:][\"artist_location\"] = artist_data[\"artist_location\"].map(\n",
    "    single_quote_converter, na_action='ignore'\n",
    ")\n",
    "artist_data.head()\n",
    "#|-----20--char-----||-----20--char-----||-----20--char-----||-doc-lim-||code|#"
   ]
  },
  {
   "cell_type": "markdown",
   "metadata": {},
   "source": [
    "#### Insert Record into Artist Table"
   ]
  },
  {
   "cell_type": "markdown",
   "metadata": {},
   "source": [
    "Implement the `artist_table_insert` query in `sql_queries.py` and run the cell below to insert a record for this song's artist into the `artists` table. Remember to run `create_tables.py` before running the cell below to ensure you've created/resetted the `artists` table in the sparkify database."
   ]
  },
  {
   "cell_type": "code",
   "execution_count": null,
   "metadata": {
    "ExecuteTime": {
     "end_time": "2021-08-15T12:34:52.676512Z",
     "start_time": "2021-08-15T12:34:52.660994Z"
    }
   },
   "outputs": [],
   "source": [
    "#|-----20--char-----||-----20--char-----||-----20--char-----||-doc-lim-||code|#\n",
    "# Test query creation\n",
    "query = sq.artist_table_insert(dataframe=artist_data, verbose=True)"
   ]
  },
  {
   "cell_type": "code",
   "execution_count": null,
   "metadata": {
    "ExecuteTime": {
     "end_time": "2021-08-15T12:34:53.465778Z",
     "start_time": "2021-08-15T12:34:53.434531Z"
    }
   },
   "outputs": [],
   "source": [
    "cur.execute(query)\n",
    "conn.commit()"
   ]
  },
  {
   "cell_type": "markdown",
   "metadata": {},
   "source": [
    "Run `test.ipynb` to see if you've successfully added a record to this table."
   ]
  },
  {
   "cell_type": "markdown",
   "metadata": {},
   "source": [
    "### `songs` Table"
   ]
  },
  {
   "cell_type": "markdown",
   "metadata": {},
   "source": [
    "#### Extract Data for Songs Table"
   ]
  },
  {
   "cell_type": "markdown",
   "metadata": {},
   "source": [
    "- Select columns for song ID, title, artist ID, year, and duration\n",
    "- Use `df.values` to select just the values from the dataframe\n",
    "- Index to select the first (only) record in the dataframe\n",
    "- Convert the array to a list and set it to `song_data`"
   ]
  },
  {
   "cell_type": "code",
   "execution_count": null,
   "metadata": {
    "ExecuteTime": {
     "end_time": "2021-08-15T12:34:55.118650Z",
     "start_time": "2021-08-15T12:34:55.087398Z"
    }
   },
   "outputs": [],
   "source": [
    "#|-----20--char-----||-----20--char-----||-----20--char-----||-doc-lim-||code|#\n",
    "columns = [\"song_id\", \"title\", \"artist_id\", \"year\", \"duration\"]\n",
    "song_data = songs_df[columns]\n",
    "song_data[:][\"title\"] = song_data[\"title\"].map(\n",
    "    single_quote_converter, na_action='ignore'\n",
    ")\n",
    "song_data.head()"
   ]
  },
  {
   "cell_type": "markdown",
   "metadata": {},
   "source": [
    "#### Insert Record into Song Table\n",
    "Implement the `song_table_insert` query in `sql_queries.py` and run the cell below to insert a record for this song into the `songs` table. Remember to run `create_tables.py` before running the cell below to ensure you've created/resetted the `songs` table in the sparkify database."
   ]
  },
  {
   "cell_type": "code",
   "execution_count": null,
   "metadata": {
    "ExecuteTime": {
     "end_time": "2021-08-15T12:34:56.320378Z",
     "start_time": "2021-08-15T12:34:56.304757Z"
    }
   },
   "outputs": [],
   "source": [
    "#|-----20--char-----||-----20--char-----||-----20--char-----||-doc-lim-||code|#\n",
    "# Test query creation\n",
    "query = sq.song_table_insert(dataframe=song_data, verbose=True)"
   ]
  },
  {
   "cell_type": "code",
   "execution_count": null,
   "metadata": {
    "ExecuteTime": {
     "end_time": "2021-08-15T12:34:57.307005Z",
     "start_time": "2021-08-15T12:34:57.286868Z"
    }
   },
   "outputs": [],
   "source": [
    "cur.execute(sq.song_table_insert(song_data))\n",
    "conn.commit()"
   ]
  },
  {
   "cell_type": "markdown",
   "metadata": {},
   "source": [
    "Run `test.ipynb` to see if you've successfully added a record to this table."
   ]
  },
  {
   "cell_type": "markdown",
   "metadata": {},
   "source": [
    "## Process `log_data`\n",
    "In this part, you'll perform ETL on the second dataset, `log_data`, to create the `time` and `users` dimensional tables, as well as the `songplays` fact table.\n",
    "\n",
    "Let's perform ETL on a single log file and load a single record into each table.\n",
    "- Use the `get_files` function provided above to get a list of all log JSON files in `data/log_data`\n",
    "- Select the first log file in this list\n",
    "- Read the log file and view the data"
   ]
  },
  {
   "cell_type": "code",
   "execution_count": null,
   "metadata": {
    "ExecuteTime": {
     "end_time": "2021-08-15T12:34:59.226798Z",
     "start_time": "2021-08-15T12:34:59.195547Z"
    }
   },
   "outputs": [],
   "source": [
    "#|-----20--char-----||-----20--char-----||-----20--char-----||-doc-lim-||code|#\n",
    "log_files = get_files(os.path.join(os.getcwd(), \"data/log_data\"))"
   ]
  },
  {
   "cell_type": "code",
   "execution_count": null,
   "metadata": {
    "ExecuteTime": {
     "end_time": "2021-08-15T12:35:00.078977Z",
     "start_time": "2021-08-15T12:35:00.063160Z"
    }
   },
   "outputs": [],
   "source": [
    "#|-----20--char-----||-----20--char-----||-----20--char-----||-doc-lim-||code|#\n",
    "print(f\"Total number of JSON files: {len(log_files)}\")\n",
    "print(f\"Example index 0: {os.path.basename(log_files[0])}\")"
   ]
  },
  {
   "cell_type": "code",
   "execution_count": null,
   "metadata": {
    "ExecuteTime": {
     "end_time": "2021-08-15T12:35:00.915492Z",
     "start_time": "2021-08-15T12:35:00.892330Z"
    }
   },
   "outputs": [],
   "source": [
    "#|-----20--char-----||-----20--char-----||-----20--char-----||-doc-lim-||code|#\n",
    "filepath = log_files[0]"
   ]
  },
  {
   "cell_type": "code",
   "execution_count": null,
   "metadata": {
    "ExecuteTime": {
     "end_time": "2021-08-15T12:35:01.790837Z",
     "start_time": "2021-08-15T12:35:01.747224Z"
    }
   },
   "outputs": [],
   "source": [
    "#|-----20--char-----||-----20--char-----||-----20--char-----||-doc-lim-||code|#\n",
    "logs_df = pd.read_json(filepath, lines=True)\n",
    "logs_df.head()"
   ]
  },
  {
   "cell_type": "code",
   "execution_count": null,
   "metadata": {
    "ExecuteTime": {
     "end_time": "2021-08-15T12:35:03.125831Z",
     "start_time": "2021-08-15T12:35:03.103011Z"
    }
   },
   "outputs": [],
   "source": [
    "logs_df.info()"
   ]
  },
  {
   "cell_type": "code",
   "execution_count": null,
   "metadata": {
    "ExecuteTime": {
     "end_time": "2021-08-15T12:35:04.376643Z",
     "start_time": "2021-08-15T12:35:04.361020Z"
    }
   },
   "outputs": [],
   "source": [
    "logs_df[\"page\"].value_counts()"
   ]
  },
  {
   "cell_type": "markdown",
   "metadata": {},
   "source": [
    "### `time` Table"
   ]
  },
  {
   "cell_type": "markdown",
   "metadata": {},
   "source": [
    "#### Extract Data for Time Table"
   ]
  },
  {
   "cell_type": "markdown",
   "metadata": {},
   "source": [
    "- Filter records by `NextSong` action\n",
    "- Convert the `ts` timestamp column to datetime\n",
    "  - Hint: the current timestamp is in milliseconds\n",
    "- Extract the timestamp, hour, day, week of year, month, year, and weekday from the `ts` column and set `time_data` to a list containing these values in order\n",
    "  - Hint: use pandas' [`dt` attribute](https://pandas.pydata.org/pandas-docs/stable/reference/api/pandas.Series.dt.html) to access easily datetimelike properties.\n",
    "- Specify labels for these columns and set to `column_labels`\n",
    "- Create a dataframe, `time_df,` containing the time data for this file by combining `column_labels` and `time_data` into a dictionary and converting this into a dataframe"
   ]
  },
  {
   "cell_type": "code",
   "execution_count": null,
   "metadata": {
    "ExecuteTime": {
     "end_time": "2021-08-15T12:35:08.695279Z",
     "start_time": "2021-08-15T12:35:08.660992Z"
    }
   },
   "outputs": [],
   "source": [
    "#|-----20--char-----||-----20--char-----||-----20--char-----||-doc-lim-||code|#\n",
    "logs_df = logs_df[logs_df[\"page\"] == 'NextSong']\n",
    "logs_df.head()"
   ]
  },
  {
   "cell_type": "code",
   "execution_count": null,
   "metadata": {
    "ExecuteTime": {
     "end_time": "2021-08-15T12:35:13.971774Z",
     "start_time": "2021-08-15T12:35:13.927118Z"
    }
   },
   "outputs": [],
   "source": [
    "#|-----20--char-----||-----20--char-----||-----20--char-----||-doc-lim-||code|#\n",
    "logs_df['ts'] = pd.to_datetime(logs_df['ts'], unit='ms')\n",
    "logs_df.head()"
   ]
  },
  {
   "cell_type": "code",
   "execution_count": null,
   "metadata": {
    "ExecuteTime": {
     "end_time": "2021-08-15T12:35:15.191890Z",
     "start_time": "2021-08-15T12:35:15.176662Z"
    }
   },
   "outputs": [],
   "source": [
    "#|-----20--char-----||-----20--char-----||-----20--char-----||-doc-lim-||code|#\n",
    "time_data = list(\n",
    "    map(\n",
    "        lambda item: [\n",
    "            item.strftime('%Y-%m-%dT%H:%M:%S'),\n",
    "            item.hour,\n",
    "            item.day,\n",
    "            item.week,\n",
    "            item.month,\n",
    "            item.year,\n",
    "            item.weekday() + 1\n",
    "        ],\n",
    "        logs_df['ts']\n",
    "    )\n",
    ")\n",
    "print(f\"Print element list sample:\\n{time_data[0]}\\n\")\n",
    "column_labels = [\n",
    "    'start_time', 'hour', 'day', 'week', 'month', 'year', 'weekday'\n",
    "]\n",
    "print(f\"Print column names:\\n{column_labels}\\n\")\n",
    "#|-----20--char-----||-----20--char-----||-----20--char-----||-doc-lim-||code|#"
   ]
  },
  {
   "cell_type": "code",
   "execution_count": null,
   "metadata": {
    "ExecuteTime": {
     "end_time": "2021-08-15T12:35:16.331724Z",
     "start_time": "2021-08-15T12:35:16.310012Z"
    }
   },
   "outputs": [],
   "source": [
    "#|-----20--char-----||-----20--char-----||-----20--char-----||-doc-lim-||code|#\n",
    "time_list_dict = [dict(zip(column_labels, row)) for row in time_data]\n",
    "print(f\"Print first row dictionary sample:\\n{time_list_dict[0]}\\n\")"
   ]
  },
  {
   "cell_type": "code",
   "execution_count": null,
   "metadata": {
    "ExecuteTime": {
     "end_time": "2021-08-15T12:35:17.858324Z",
     "start_time": "2021-08-15T12:35:17.828851Z"
    }
   },
   "outputs": [],
   "source": [
    "time_df = pd.DataFrame(time_list_dict)\n",
    "print(f\"Current dataframe dimensions:\\n{time_df.shape}\\n\")\n",
    "time_df.head()"
   ]
  },
  {
   "cell_type": "markdown",
   "metadata": {},
   "source": [
    "#### Insert Records into Time Table\n",
    "Implement the `time_table_insert` query in `sql_queries.py` and run the cell below to insert records for the timestamps in this log file into the `time` table. Remember to run `create_tables.py` before running the cell below to ensure you've created/resetted the `time` table in the sparkify database."
   ]
  },
  {
   "cell_type": "code",
   "execution_count": null,
   "metadata": {
    "ExecuteTime": {
     "end_time": "2021-08-15T12:39:06.522240Z",
     "start_time": "2021-08-15T12:39:06.497252Z"
    }
   },
   "outputs": [],
   "source": [
    "#|-----20--char-----||-----20--char-----||-----20--char-----||-doc-lim-||code|#\n",
    "# Test query creation\n",
    "for index in range(0, time_df.shape[0], 5_000):\n",
    "    print(f\"Send batch from idx '{index}'...\")\n",
    "    query = sq.time_table_insert(dataframe=time_df.iloc[index:], verbose=True)\n",
    "    cur.execute(query)\n",
    "    conn.commit()"
   ]
  },
  {
   "cell_type": "markdown",
   "metadata": {},
   "source": [
    "Run `test.ipynb` to see if you've successfully added records to this table."
   ]
  },
  {
   "cell_type": "markdown",
   "metadata": {},
   "source": [
    "## #4: `users` Table\n",
    "#### Extract Data for Users Table\n",
    "- Select columns for user ID, first name, last name, gender and level and set to `user_df`"
   ]
  },
  {
   "cell_type": "code",
   "execution_count": null,
   "metadata": {},
   "outputs": [],
   "source": [
    "user_df = "
   ]
  },
  {
   "cell_type": "markdown",
   "metadata": {},
   "source": [
    "#### Insert Records into Users Table\n",
    "Implement the `user_table_insert` query in `sql_queries.py` and run the cell below to insert records for the users in this log file into the `users` table. Remember to run `create_tables.py` before running the cell below to ensure you've created/resetted the `users` table in the sparkify database."
   ]
  },
  {
   "cell_type": "code",
   "execution_count": null,
   "metadata": {},
   "outputs": [],
   "source": [
    "for i, row in user_df.iterrows():\n",
    "    cur.execute(user_table_insert, row)\n",
    "    conn.commit()"
   ]
  },
  {
   "cell_type": "markdown",
   "metadata": {},
   "source": [
    "Run `test.ipynb` to see if you've successfully added records to this table."
   ]
  },
  {
   "cell_type": "markdown",
   "metadata": {},
   "source": [
    "## #5: `songplays` Table\n",
    "#### Extract Data and Songplays Table\n",
    "This one is a little more complicated since information from the songs table, artists table, and original log file are all needed for the `songplays` table. Since the log file does not specify an ID for either the song or the artist, you'll need to get the song ID and artist ID by querying the songs and artists tables to find matches based on song title, artist name, and song duration time.\n",
    "- Implement the `song_select` query in `sql_queries.py` to find the song ID and artist ID based on the title, artist name, and duration of a song.\n",
    "- Select the timestamp, user ID, level, song ID, artist ID, session ID, location, and user agent and set to `songplay_data`\n",
    "\n",
    "#### Insert Records into Songplays Table\n",
    "- Implement the `songplay_table_insert` query and run the cell below to insert records for the songplay actions in this log file into the `songplays` table. Remember to run `create_tables.py` before running the cell below to ensure you've created/resetted the `songplays` table in the sparkify database."
   ]
  },
  {
   "cell_type": "code",
   "execution_count": null,
   "metadata": {},
   "outputs": [],
   "source": [
    "for index, row in df.iterrows():\n",
    "\n",
    "    # get songid and artistid from song and artist tables\n",
    "    cur.execute(song_select, (row.song, row.artist, row.length))\n",
    "    results = cur.fetchone()\n",
    "    \n",
    "    if results:\n",
    "        songid, artistid = results\n",
    "    else:\n",
    "        songid, artistid = None, None\n",
    "\n",
    "    # insert songplay record\n",
    "    songplay_data = ()\n",
    "    cur.execute(songplay_table_insert, songplay_data)\n",
    "    conn.commit()"
   ]
  },
  {
   "cell_type": "markdown",
   "metadata": {},
   "source": [
    "Run `test.ipynb` to see if you've successfully added records to this table."
   ]
  },
  {
   "cell_type": "markdown",
   "metadata": {},
   "source": [
    "# Close Connection to Sparkify Database"
   ]
  },
  {
   "cell_type": "code",
   "execution_count": null,
   "metadata": {},
   "outputs": [],
   "source": [
    "conn.close()"
   ]
  },
  {
   "cell_type": "markdown",
   "metadata": {},
   "source": [
    "# Implement `etl.py`\n",
    "Use what you've completed in this notebook to implement `etl.py`."
   ]
  },
  {
   "cell_type": "code",
   "execution_count": null,
   "metadata": {},
   "outputs": [],
   "source": []
  }
 ],
 "metadata": {
  "kernelspec": {
   "display_name": "Python v.3.9.6 (data_engineer)",
   "language": "python",
   "name": "data_engineer"
  },
  "language_info": {
   "codemirror_mode": {
    "name": "ipython",
    "version": 3
   },
   "file_extension": ".py",
   "mimetype": "text/x-python",
   "name": "python",
   "nbconvert_exporter": "python",
   "pygments_lexer": "ipython3",
   "version": "3.9.6"
  },
  "toc": {
   "base_numbering": 1,
   "nav_menu": {},
   "number_sections": true,
   "sideBar": true,
   "skip_h1_title": true,
   "title_cell": "Table of Contents",
   "title_sidebar": "Contents",
   "toc_cell": false,
   "toc_position": {},
   "toc_section_display": true,
   "toc_window_display": true
  },
  "varInspector": {
   "cols": {
    "lenName": 16,
    "lenType": 16,
    "lenVar": 40
   },
   "kernels_config": {
    "python": {
     "delete_cmd_postfix": "",
     "delete_cmd_prefix": "del ",
     "library": "var_list.py",
     "varRefreshCmd": "print(var_dic_list())"
    },
    "r": {
     "delete_cmd_postfix": ") ",
     "delete_cmd_prefix": "rm(",
     "library": "var_list.r",
     "varRefreshCmd": "cat(var_dic_list()) "
    }
   },
   "types_to_exclude": [
    "module",
    "function",
    "builtin_function_or_method",
    "instance",
    "_Feature"
   ],
   "window_display": false
  }
 },
 "nbformat": 4,
 "nbformat_minor": 2
}
