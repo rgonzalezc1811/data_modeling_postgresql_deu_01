{
 "cells": [
  {
   "cell_type": "markdown",
   "metadata": {},
   "source": [
    "# ETL Processes\n",
    "Use this notebook to develop the ETL process for each of your tables before completing the `etl.py` file to load the whole datasets."
   ]
  },
  {
   "cell_type": "markdown",
   "metadata": {},
   "source": [
    "## Open Connection"
   ]
  },
  {
   "cell_type": "code",
   "execution_count": null,
   "metadata": {
    "ExecuteTime": {
     "end_time": "2021-08-17T13:41:01.636925Z",
     "start_time": "2021-08-17T13:41:00.679427Z"
    }
   },
   "outputs": [],
   "source": [
    "import os\n",
    "import re\n",
    "import glob\n",
    "import uuid\n",
    "import psycopg2\n",
    "import pandas as pd\n",
    "import sql_queries as sq"
   ]
  },
  {
   "cell_type": "code",
   "execution_count": null,
   "metadata": {
    "ExecuteTime": {
     "end_time": "2021-08-17T13:41:02.862648Z",
     "start_time": "2021-08-17T13:41:02.708059Z"
    }
   },
   "outputs": [],
   "source": [
    "#|-----20--char-----||-----20--char-----||-----20--char-----||-doc-lim-||code|#\n",
    "conn = psycopg2.connect(\n",
    "    user=\"admin\",\n",
    "    password=\"<password>\",\n",
    "    host=\"localhost\", \n",
    "    port=\"5432\",\n",
    "    dbname=\"sparkifydb\"\n",
    ")\n",
    "cur = conn.cursor()\n",
    "#|-----20--char-----||-----20--char-----||-----20--char-----||-doc-lim-||code|#"
   ]
  },
  {
   "cell_type": "code",
   "execution_count": null,
   "metadata": {
    "ExecuteTime": {
     "end_time": "2021-08-17T13:41:03.726364Z",
     "start_time": "2021-08-17T13:41:03.721377Z"
    }
   },
   "outputs": [],
   "source": [
    "#|-----20--char-----||-----20--char-----||-----20--char-----||-doc-lim-||code|#\n",
    "def get_files(filepath):\n",
    "    all_files = []\n",
    "    for root, dirs, files in os.walk(filepath):\n",
    "        files = glob.glob(os.path.join(root,'*.json'))\n",
    "        for f in files :\n",
    "            all_files.append(os.path.abspath(f))\n",
    "    \n",
    "    return all_files\n",
    "\n",
    "def single_quote_converter(sentence):\n",
    "    sentence = re.sub(r'\\'', r'<single_quote_tag>', sentence)\n",
    "\n",
    "    return sentence\n",
    "#|-----20--char-----||-----20--char-----||-----20--char-----||-doc-lim-||code|#"
   ]
  },
  {
   "cell_type": "markdown",
   "metadata": {},
   "source": [
    "## Process `song_data`\n",
    "In this first part, you'll perform ETL on the first dataset, `song_data`, to create the `songs` and `artists` dimensional tables.\n",
    "\n",
    "Let's perform ETL on a single song file and load a single record into each table to start.\n",
    "- Use the `get_files` function provided above to get a list of all song JSON files in `data/song_data`\n",
    "- Select the first song in this list\n",
    "- Read the song file and view the data"
   ]
  },
  {
   "cell_type": "code",
   "execution_count": null,
   "metadata": {
    "ExecuteTime": {
     "end_time": "2021-08-17T13:41:06.119034Z",
     "start_time": "2021-08-17T13:41:06.092106Z"
    }
   },
   "outputs": [],
   "source": [
    "#|-----20--char-----||-----20--char-----||-----20--char-----||-doc-lim-||code|#\n",
    "song_files = get_files(os.path.join(os.getcwd(), \"data/song_data\"))"
   ]
  },
  {
   "cell_type": "code",
   "execution_count": null,
   "metadata": {
    "ExecuteTime": {
     "end_time": "2021-08-17T13:41:06.773317Z",
     "start_time": "2021-08-17T13:41:06.770311Z"
    }
   },
   "outputs": [],
   "source": [
    "#|-----20--char-----||-----20--char-----||-----20--char-----||-doc-lim-||code|#\n",
    "print(f\"Total number of JSON files: {len(song_files)}\")\n",
    "print(f\"Example index 0: {os.path.basename(song_files[0])}\")"
   ]
  },
  {
   "cell_type": "code",
   "execution_count": null,
   "metadata": {
    "ExecuteTime": {
     "end_time": "2021-08-17T13:41:08.855793Z",
     "start_time": "2021-08-17T13:41:08.850806Z"
    }
   },
   "outputs": [],
   "source": [
    "#|-----20--char-----||-----20--char-----||-----20--char-----||-doc-lim-||code|#\n",
    "filepath = song_files[0]"
   ]
  },
  {
   "cell_type": "code",
   "execution_count": null,
   "metadata": {
    "ExecuteTime": {
     "end_time": "2021-08-17T13:41:09.684601Z",
     "start_time": "2021-08-17T13:41:09.621768Z"
    }
   },
   "outputs": [],
   "source": [
    "#|-----20--char-----||-----20--char-----||-----20--char-----||-doc-lim-||code|#\n",
    "songs_df = pd.read_json(filepath, lines=True)\n",
    "songs_df.head()"
   ]
  },
  {
   "cell_type": "code",
   "execution_count": null,
   "metadata": {
    "ExecuteTime": {
     "end_time": "2021-08-17T13:41:14.448352Z",
     "start_time": "2021-08-17T13:41:14.441371Z"
    }
   },
   "outputs": [],
   "source": [
    "#|-----20--char-----||-----20--char-----||-----20--char-----||-doc-lim-||code|#\n",
    "print(f\"Artist ID, characters lenght: {len(songs_df['artist_id'].values[0])}\")\n",
    "print(f\"Artist ID, characters lenght: {len(songs_df['song_id'].values[0])}\")"
   ]
  },
  {
   "cell_type": "markdown",
   "metadata": {},
   "source": [
    "### Load all `song_data`"
   ]
  },
  {
   "cell_type": "code",
   "execution_count": null,
   "metadata": {
    "ExecuteTime": {
     "end_time": "2021-08-17T13:41:17.082900Z",
     "start_time": "2021-08-17T13:41:16.360802Z"
    }
   },
   "outputs": [],
   "source": [
    "#|-----20--char-----||-----20--char-----||-----20--char-----||-doc-lim-||code|#\n",
    "songs_df = pd.DataFrame(columns=songs_df.columns)\n",
    "for filepath in song_files:\n",
    "    songs_df = songs_df.append(\n",
    "        pd.read_json(filepath, lines=True),\n",
    "        ignore_index=True\n",
    "    )\n",
    "\n",
    "print(f\"Total number of songs:\\n{songs_df.shape[0]}\\n\")\n",
    "songs_df.head()"
   ]
  },
  {
   "cell_type": "markdown",
   "metadata": {},
   "source": [
    "### `artists` Table"
   ]
  },
  {
   "cell_type": "markdown",
   "metadata": {},
   "source": [
    "#### Extract Data for Artists Table"
   ]
  },
  {
   "cell_type": "markdown",
   "metadata": {},
   "source": [
    "- Select columns for artist ID, name, location, latitude, and longitude\n",
    "- Use `df.values` to select just the values from the dataframe\n",
    "- Index to select the first (only) record in the dataframe\n",
    "- Convert the array to a list and set it to `artist_data`"
   ]
  },
  {
   "cell_type": "code",
   "execution_count": null,
   "metadata": {
    "ExecuteTime": {
     "end_time": "2021-08-17T13:42:57.259154Z",
     "start_time": "2021-08-17T13:42:57.235218Z"
    }
   },
   "outputs": [],
   "source": [
    "#|-----20--char-----||-----20--char-----||-----20--char-----||-doc-lim-||code|#\n",
    "columns = [\n",
    "    \"artist_id\",\n",
    "    \"artist_name\",\n",
    "    \"artist_location\",\n",
    "    \"artist_latitude\",\n",
    "    \"artist_longitude\"\n",
    "]\n",
    "artist_data = songs_df[columns]\n",
    "artist_data[:][\"artist_name\"] = artist_data[\"artist_name\"].map(\n",
    "    single_quote_converter, na_action='ignore'\n",
    ")\n",
    "artist_data[:][\"artist_location\"] = artist_data[\"artist_location\"].map(\n",
    "    single_quote_converter, na_action='ignore'\n",
    ")\n",
    "artist_data = artist_data.drop_duplicates()\n",
    "artist_data = artist_data.reset_index(drop=True)\n",
    "print(f\"Total number of artists:\\n{artist_data.shape[0]}\\n\")\n",
    "artist_data.head()\n",
    "#|-----20--char-----||-----20--char-----||-----20--char-----||-doc-lim-||code|#"
   ]
  },
  {
   "cell_type": "markdown",
   "metadata": {},
   "source": [
    "##### Insert Record into Artist Table"
   ]
  },
  {
   "cell_type": "markdown",
   "metadata": {},
   "source": [
    "Implement the `artist_table_insert` query in `sql_queries.py` and run the cell below to insert a record for this song's artist into the `artists` table. Remember to run `create_tables.py` before running the cell below to ensure you've created/resetted the `artists` table in the sparkify database."
   ]
  },
  {
   "cell_type": "code",
   "execution_count": null,
   "metadata": {
    "ExecuteTime": {
     "end_time": "2021-08-17T13:43:18.739237Z",
     "start_time": "2021-08-17T13:43:18.732972Z"
    }
   },
   "outputs": [],
   "source": [
    "#|-----20--char-----||-----20--char-----||-----20--char-----||-doc-lim-||code|#\n",
    "# Test query creation\n",
    "print(\"Print a query example (incomplete data, just a sample).\\n\")\n",
    "query = sq.artist_table_insert(dataframe=artist_data[0:5], verbose=True)"
   ]
  },
  {
   "cell_type": "code",
   "execution_count": null,
   "metadata": {
    "ExecuteTime": {
     "end_time": "2021-08-17T13:43:27.642751Z",
     "start_time": "2021-08-17T13:43:27.618818Z"
    }
   },
   "outputs": [],
   "source": [
    "#|-----20--char-----||-----20--char-----||-----20--char-----||-doc-lim-||code|#\n",
    "start_index = 0\n",
    "end_index = artist_data.shape[0]\n",
    "batch_size = 5_000\n",
    "for index in range(start_index, end_index, batch_size):\n",
    "    print(f\"Send batch from idx '{index}'...\")\n",
    "    query = sq.artist_table_insert(\n",
    "        dataframe=artist_data.iloc[index:index + batch_size]\n",
    "    )\n",
    "    cur.execute(query)\n",
    "    conn.commit()"
   ]
  },
  {
   "cell_type": "markdown",
   "metadata": {},
   "source": [
    "Run `test.ipynb` to see if you've successfully added a record to this table."
   ]
  },
  {
   "cell_type": "markdown",
   "metadata": {},
   "source": [
    "### `songs` Table"
   ]
  },
  {
   "cell_type": "markdown",
   "metadata": {},
   "source": [
    "#### Extract Data for Songs Table"
   ]
  },
  {
   "cell_type": "markdown",
   "metadata": {},
   "source": [
    "- Select columns for song ID, title, artist ID, year, and duration\n",
    "- Use `df.values` to select just the values from the dataframe\n",
    "- Index to select the first (only) record in the dataframe\n",
    "- Convert the array to a list and set it to `song_data`"
   ]
  },
  {
   "cell_type": "code",
   "execution_count": null,
   "metadata": {
    "ExecuteTime": {
     "end_time": "2021-08-17T13:44:32.251306Z",
     "start_time": "2021-08-17T13:44:32.229364Z"
    }
   },
   "outputs": [],
   "source": [
    "#|-----20--char-----||-----20--char-----||-----20--char-----||-doc-lim-||code|#\n",
    "columns = [\"song_id\", \"title\", \"artist_id\", \"year\", \"duration\"]\n",
    "song_data = songs_df[columns]\n",
    "song_data[:][\"title\"] = song_data[\"title\"].map(\n",
    "    single_quote_converter, na_action='ignore'\n",
    ")\n",
    "song_data = song_data.drop_duplicates()\n",
    "song_data = song_data.reset_index(drop=True)\n",
    "print(f\"Total number of songs:\\n{song_data.shape[0]}\\n\")\n",
    "song_data.head()"
   ]
  },
  {
   "cell_type": "markdown",
   "metadata": {},
   "source": [
    "#### Insert Record into Song Table\n",
    "Implement the `song_table_insert` query in `sql_queries.py` and run the cell below to insert a record for this song into the `songs` table. Remember to run `create_tables.py` before running the cell below to ensure you've created/resetted the `songs` table in the sparkify database."
   ]
  },
  {
   "cell_type": "code",
   "execution_count": null,
   "metadata": {
    "ExecuteTime": {
     "end_time": "2021-08-17T13:44:45.577133Z",
     "start_time": "2021-08-17T13:44:45.572146Z"
    }
   },
   "outputs": [],
   "source": [
    "#|-----20--char-----||-----20--char-----||-----20--char-----||-doc-lim-||code|#\n",
    "# Test query creation\n",
    "query = sq.song_table_insert(dataframe=song_data.iloc[0:5], verbose=True)"
   ]
  },
  {
   "cell_type": "code",
   "execution_count": null,
   "metadata": {
    "ExecuteTime": {
     "end_time": "2021-08-17T13:44:51.286018Z",
     "start_time": "2021-08-17T13:44:51.268065Z"
    }
   },
   "outputs": [],
   "source": [
    "#|-----20--char-----||-----20--char-----||-----20--char-----||-doc-lim-||code|#\n",
    "start_index = 0\n",
    "end_index = song_data.shape[0]\n",
    "batch_size = 5_000\n",
    "for index in range(start_index, end_index, batch_size):\n",
    "    print(f\"Send batch from idx '{index}'...\")\n",
    "    query = sq.song_table_insert(\n",
    "        dataframe=song_data.iloc[index:index + batch_size]\n",
    "    )\n",
    "    cur.execute(query)\n",
    "    conn.commit()"
   ]
  },
  {
   "cell_type": "markdown",
   "metadata": {},
   "source": [
    "Run `test.ipynb` to see if you've successfully added a record to this table."
   ]
  },
  {
   "cell_type": "markdown",
   "metadata": {},
   "source": [
    "## Process `log_data`\n",
    "In this part, you'll perform ETL on the second dataset, `log_data`, to create the `time` and `users` dimensional tables, as well as the `songplays` fact table.\n",
    "\n",
    "Let's perform ETL on a single log file and load a single record into each table.\n",
    "- Use the `get_files` function provided above to get a list of all log JSON files in `data/log_data`\n",
    "- Select the first log file in this list\n",
    "- Read the log file and view the data"
   ]
  },
  {
   "cell_type": "code",
   "execution_count": null,
   "metadata": {
    "ExecuteTime": {
     "end_time": "2021-08-17T13:45:11.218119Z",
     "start_time": "2021-08-17T13:45:11.200161Z"
    }
   },
   "outputs": [],
   "source": [
    "#|-----20--char-----||-----20--char-----||-----20--char-----||-doc-lim-||code|#\n",
    "log_files = get_files(os.path.join(os.getcwd(), \"data/log_data\"))"
   ]
  },
  {
   "cell_type": "code",
   "execution_count": null,
   "metadata": {
    "ExecuteTime": {
     "end_time": "2021-08-17T13:45:12.476781Z",
     "start_time": "2021-08-17T13:45:12.472792Z"
    }
   },
   "outputs": [],
   "source": [
    "#|-----20--char-----||-----20--char-----||-----20--char-----||-doc-lim-||code|#\n",
    "print(f\"Total number of JSON files: {len(log_files)}\")\n",
    "print(f\"Example index 0: {os.path.basename(log_files[0])}\")"
   ]
  },
  {
   "cell_type": "code",
   "execution_count": null,
   "metadata": {
    "ExecuteTime": {
     "end_time": "2021-08-17T13:45:12.796934Z",
     "start_time": "2021-08-17T13:45:12.791946Z"
    }
   },
   "outputs": [],
   "source": [
    "#|-----20--char-----||-----20--char-----||-----20--char-----||-doc-lim-||code|#\n",
    "filepath = log_files[0]"
   ]
  },
  {
   "cell_type": "code",
   "execution_count": null,
   "metadata": {
    "ExecuteTime": {
     "end_time": "2021-08-17T13:45:13.299606Z",
     "start_time": "2021-08-17T13:45:13.254727Z"
    }
   },
   "outputs": [],
   "source": [
    "#|-----20--char-----||-----20--char-----||-----20--char-----||-doc-lim-||code|#\n",
    "logs_df = pd.read_json(filepath, lines=True)\n",
    "print(f\"Total number of logs: {logs_df.shape[0]}\")\n",
    "logs_df.head()"
   ]
  },
  {
   "cell_type": "code",
   "execution_count": null,
   "metadata": {
    "ExecuteTime": {
     "end_time": "2021-08-17T13:45:13.682589Z",
     "start_time": "2021-08-17T13:45:13.665634Z"
    }
   },
   "outputs": [],
   "source": [
    "logs_df.info()"
   ]
  },
  {
   "cell_type": "code",
   "execution_count": null,
   "metadata": {
    "ExecuteTime": {
     "end_time": "2021-08-17T13:45:14.512392Z",
     "start_time": "2021-08-17T13:45:14.504412Z"
    }
   },
   "outputs": [],
   "source": [
    "logs_df[\"page\"].value_counts()"
   ]
  },
  {
   "cell_type": "markdown",
   "metadata": {},
   "source": [
    "### Load all `log_data`"
   ]
  },
  {
   "cell_type": "code",
   "execution_count": null,
   "metadata": {
    "ExecuteTime": {
     "end_time": "2021-08-17T13:45:17.041693Z",
     "start_time": "2021-08-17T13:45:16.495140Z"
    }
   },
   "outputs": [],
   "source": [
    "#|-----20--char-----||-----20--char-----||-----20--char-----||-doc-lim-||code|#\n",
    "logs_df = pd.DataFrame(columns=logs_df.columns)\n",
    "for filepath in log_files:\n",
    "    logs_df = logs_df.append(\n",
    "        pd.read_json(filepath, lines=True),\n",
    "        ignore_index=True\n",
    "    )\n",
    "\n",
    "print(f\"Total number of logs:\\n{logs_df.shape[0]}\\n\")\n",
    "logs_df.head()"
   ]
  },
  {
   "cell_type": "code",
   "execution_count": null,
   "metadata": {
    "ExecuteTime": {
     "end_time": "2021-08-17T13:46:21.417907Z",
     "start_time": "2021-08-17T13:46:21.358066Z"
    }
   },
   "outputs": [],
   "source": [
    "#|-----20--char-----||-----20--char-----||-----20--char-----||-doc-lim-||code|#\n",
    "filtered_logs_df = logs_df[logs_df[\"page\"] == 'NextSong'].copy()\n",
    "del logs_df\n",
    "print(f\"Total number of logs with useful data:\\n{filtered_logs_df.shape[0]}\\n\")\n",
    "filtered_logs_df.head()"
   ]
  },
  {
   "cell_type": "code",
   "execution_count": null,
   "metadata": {
    "ExecuteTime": {
     "end_time": "2021-08-17T13:47:16.230744Z",
     "start_time": "2021-08-17T13:47:16.204812Z"
    }
   },
   "outputs": [],
   "source": [
    "filtered_logs_df.isnull().sum()"
   ]
  },
  {
   "cell_type": "markdown",
   "metadata": {},
   "source": [
    "### `time` Table"
   ]
  },
  {
   "cell_type": "markdown",
   "metadata": {},
   "source": [
    "#### Extract Data for Time Table"
   ]
  },
  {
   "cell_type": "markdown",
   "metadata": {},
   "source": [
    "- Filter records by `NextSong` action\n",
    "- Convert the `ts` timestamp column to datetime\n",
    "  - Hint: the current timestamp is in milliseconds\n",
    "- Extract the timestamp, hour, day, week of year, month, year, and weekday from the `ts` column and set `time_data` to a list containing these values in order\n",
    "  - Hint: use pandas' [`dt` attribute](https://pandas.pydata.org/pandas-docs/stable/reference/api/pandas.Series.dt.html) to access easily datetimelike properties.\n",
    "- Specify labels for these columns and set to `column_labels`\n",
    "- Create a dataframe, `time_df,` containing the time data for this file by combining `column_labels` and `time_data` into a dictionary and converting this into a dataframe"
   ]
  },
  {
   "cell_type": "code",
   "execution_count": null,
   "metadata": {
    "ExecuteTime": {
     "end_time": "2021-08-17T13:47:32.881923Z",
     "start_time": "2021-08-17T13:47:32.823078Z"
    }
   },
   "outputs": [],
   "source": [
    "#|-----20--char-----||-----20--char-----||-----20--char-----||-doc-lim-||code|#\n",
    "filtered_logs_df['ts'] = pd.to_datetime(filtered_logs_df['ts'], unit='ms')\n",
    "filtered_logs_df = filtered_logs_df.drop_duplicates()\n",
    "print(f\"Total number of logs with useful data:\\n{filtered_logs_df.shape[0]}\\n\")\n",
    "filtered_logs_df.head()"
   ]
  },
  {
   "cell_type": "code",
   "execution_count": null,
   "metadata": {
    "ExecuteTime": {
     "end_time": "2021-08-17T13:47:51.462810Z",
     "start_time": "2021-08-17T13:47:51.376015Z"
    }
   },
   "outputs": [],
   "source": [
    "#|-----20--char-----||-----20--char-----||-----20--char-----||-doc-lim-||code|#\n",
    "time_data = list(\n",
    "    map(\n",
    "        lambda item: [\n",
    "            item.strftime('%Y-%m-%dT%H:%M:%S'),\n",
    "            item.hour,\n",
    "            item.day,\n",
    "            item.week,\n",
    "            item.month,\n",
    "            item.year,\n",
    "            item.weekday() + 1\n",
    "        ],\n",
    "        filtered_logs_df['ts']\n",
    "    )\n",
    ")\n",
    "print(f\"Print element list sample:\\n{time_data[0]}\\n\")\n",
    "column_labels = [\n",
    "    'start_time', 'hour', 'day', 'week', 'month', 'year', 'weekday'\n",
    "]\n",
    "print(f\"Print column names:\\n{column_labels}\\n\")\n",
    "#|-----20--char-----||-----20--char-----||-----20--char-----||-doc-lim-||code|#"
   ]
  },
  {
   "cell_type": "code",
   "execution_count": null,
   "metadata": {
    "ExecuteTime": {
     "end_time": "2021-08-17T13:47:52.114062Z",
     "start_time": "2021-08-17T13:47:52.100093Z"
    }
   },
   "outputs": [],
   "source": [
    "#|-----20--char-----||-----20--char-----||-----20--char-----||-doc-lim-||code|#\n",
    "time_list_dict = [dict(zip(column_labels, row)) for row in time_data]\n",
    "print(f\"Print first row dictionary sample:\\n{time_list_dict[0]}\\n\")"
   ]
  },
  {
   "cell_type": "code",
   "execution_count": null,
   "metadata": {
    "ExecuteTime": {
     "end_time": "2021-08-17T13:47:55.019365Z",
     "start_time": "2021-08-17T13:47:54.984456Z"
    }
   },
   "outputs": [],
   "source": [
    "time_df = pd.DataFrame(time_list_dict)\n",
    "print(f\"Current dataframe dimensions:\\n{time_df.shape}\\n\")\n",
    "time_df.head()"
   ]
  },
  {
   "cell_type": "code",
   "execution_count": null,
   "metadata": {
    "ExecuteTime": {
     "end_time": "2021-08-17T13:48:34.631523Z",
     "start_time": "2021-08-17T13:48:34.597615Z"
    }
   },
   "outputs": [],
   "source": [
    "time_df = pd.DataFrame(time_list_dict)\n",
    "time_df = time_df.drop_duplicates()\n",
    "time_df = time_df.reset_index(drop=True)\n",
    "print(f\"Current dataframe dimensions:\\n{time_df.shape}\\n\")\n",
    "time_df.head()"
   ]
  },
  {
   "cell_type": "markdown",
   "metadata": {},
   "source": [
    "#### Insert Records into Time Table\n",
    "Implement the `time_table_insert` query in `sql_queries.py` and run the cell below to insert records for the timestamps in this log file into the `time` table. Remember to run `create_tables.py` before running the cell below to ensure you've created/resetted the `time` table in the sparkify database."
   ]
  },
  {
   "cell_type": "code",
   "execution_count": null,
   "metadata": {
    "ExecuteTime": {
     "end_time": "2021-08-17T13:48:39.858684Z",
     "start_time": "2021-08-17T13:48:39.852700Z"
    }
   },
   "outputs": [],
   "source": [
    "#|-----20--char-----||-----20--char-----||-----20--char-----||-doc-lim-||code|#\n",
    "# Test query creation\n",
    "query = sq.time_table_insert(dataframe=time_df.iloc[0:5], verbose=True)"
   ]
  },
  {
   "cell_type": "code",
   "execution_count": null,
   "metadata": {
    "ExecuteTime": {
     "end_time": "2021-08-17T13:48:45.008300Z",
     "start_time": "2021-08-17T13:48:44.788877Z"
    }
   },
   "outputs": [],
   "source": [
    "#|-----20--char-----||-----20--char-----||-----20--char-----||-doc-lim-||code|#\n",
    "start_index = 0\n",
    "end_index = time_df.shape[0]\n",
    "batch_size = 5_000\n",
    "for index in range(start_index, end_index, batch_size):\n",
    "    print(f\"Send batch from idx '{index}'...\")\n",
    "    query = sq.time_table_insert(\n",
    "        dataframe=time_df.iloc[index:index + batch_size]\n",
    "    )\n",
    "    cur.execute(query)\n",
    "    conn.commit()"
   ]
  },
  {
   "cell_type": "markdown",
   "metadata": {},
   "source": [
    "Run `test.ipynb` to see if you've successfully added records to this table."
   ]
  },
  {
   "cell_type": "markdown",
   "metadata": {},
   "source": [
    "### `users` Table"
   ]
  },
  {
   "cell_type": "markdown",
   "metadata": {},
   "source": [
    "#### Extract Data for Users Table\n",
    "\n",
    "- Select columns for user ID, first name, last name, gender and level and set to `user_df`\n",
    "- Drop duplicates by ID but keep last user found, this stores the current User level status\n",
    "- Keep in mind that the fact table stores the current level status at hearing the song, but\n",
    "  then the user can change its level."
   ]
  },
  {
   "cell_type": "code",
   "execution_count": null,
   "metadata": {
    "ExecuteTime": {
     "end_time": "2021-08-17T13:49:09.053491Z",
     "start_time": "2021-08-17T13:49:08.995632Z"
    }
   },
   "outputs": [],
   "source": [
    "#|-----20--char-----||-----20--char-----||-----20--char-----||-doc-lim-||code|#\n",
    "columns = [\"userId\", \"firstName\", \"lastName\", \"gender\", \"level\"]\n",
    "user_df = filtered_logs_df[columns].copy()\n",
    "user_df[:][\"firstName\"] = user_df[\"firstName\"].map(\n",
    "    single_quote_converter, na_action='ignore'\n",
    ")\n",
    "user_df[:][\"lastName\"] = user_df[\"lastName\"].map(\n",
    "    single_quote_converter, na_action='ignore'\n",
    ")\n",
    "user_df[:][\"gender\"] = user_df[\"gender\"].str.upper()\n",
    "user_df[:][\"userId\"] = user_df[\"userId\"].astype(str)\n",
    "user_df = user_df.drop_duplicates()\n",
    "user_df = user_df.drop_duplicates(subset='userId', keep='last')\n",
    "user_df = user_df.reset_index(drop=True)\n",
    "print(f\"Total number of users:\\n{user_df.shape}\\n\")\n",
    "user_df.head()"
   ]
  },
  {
   "cell_type": "markdown",
   "metadata": {},
   "source": [
    "#### Insert Records into Users Table"
   ]
  },
  {
   "cell_type": "markdown",
   "metadata": {},
   "source": [
    "Implement the `user_table_insert` query in `sql_queries.py` and run the cell below to insert records for the users in this log file into the `users` table. Remember to run `create_tables.py` before running the cell below to ensure you've created/resetted the `users` table in the sparkify database."
   ]
  },
  {
   "cell_type": "code",
   "execution_count": null,
   "metadata": {
    "ExecuteTime": {
     "end_time": "2021-08-17T13:49:17.090721Z",
     "start_time": "2021-08-17T13:49:17.085728Z"
    }
   },
   "outputs": [],
   "source": [
    "#|-----20--char-----||-----20--char-----||-----20--char-----||-doc-lim-||code|#\n",
    "# Test query creation\n",
    "query = sq.user_table_insert(dataframe=user_df.iloc[0:5], verbose=True)"
   ]
  },
  {
   "cell_type": "code",
   "execution_count": null,
   "metadata": {
    "ExecuteTime": {
     "end_time": "2021-08-17T13:49:20.360059Z",
     "start_time": "2021-08-17T13:49:20.344101Z"
    }
   },
   "outputs": [],
   "source": [
    "#|-----20--char-----||-----20--char-----||-----20--char-----||-doc-lim-||code|#\n",
    "start_index = 0\n",
    "end_index = user_df.shape[0]\n",
    "batch_size = 5_000\n",
    "for index in range(start_index, end_index, batch_size):\n",
    "    print(f\"Send batch from idx '{index}'...\")\n",
    "    query = sq.user_table_insert(\n",
    "        dataframe=user_df.iloc[index:index + batch_size]\n",
    "    )\n",
    "    cur.execute(query)\n",
    "    conn.commit()"
   ]
  },
  {
   "cell_type": "markdown",
   "metadata": {},
   "source": [
    "Run `test.ipynb` to see if you've successfully added records to this table."
   ]
  },
  {
   "cell_type": "markdown",
   "metadata": {},
   "source": [
    "### `songplays` Table"
   ]
  },
  {
   "cell_type": "markdown",
   "metadata": {},
   "source": [
    "#### Extract Data and Songplays Table"
   ]
  },
  {
   "cell_type": "markdown",
   "metadata": {},
   "source": [
    "This one is a little more complicated since information from the songs table, artists table, and original log file are all needed for the `songplays` table. Since the log file does not specify an ID for either the song or the artist, you'll need to get the song ID and artist ID by querying the songs and artists tables to find matches based on song title, artist name, and song duration time.\n",
    "- Implement the `song_select` query in `sql_queries.py` to find the song ID and artist ID based on the title, artist name, and duration of a song.\n",
    "- Select the timestamp, user ID, level, song ID, artist ID, session ID, location, and user agent and set to `songplay_data`\n",
    "\n",
    "> **length** in log files is the song duration in seconds"
   ]
  },
  {
   "cell_type": "markdown",
   "metadata": {},
   "source": [
    "#### Update `artists` and `songs` tables"
   ]
  },
  {
   "cell_type": "markdown",
   "metadata": {},
   "source": [
    "<!--\n",
    "#|-----20--char-----||-----20--char-----||-----20--char-----||-doc-lim-||code|#\n",
    "-->\n",
    "During processing current project, missing artists and songs were identified.\n",
    "\n",
    "The log files contains artists and songs that are not registered in their\n",
    "respective tables `songs` and `artists`. Before perform the inclution data\n",
    "from the songplays, the missing songs and artists are included in the database,\n",
    "creating a predefined system to get own song and artist IDs.\n",
    "\n",
    "\n",
    "<!--\n",
    "#|-----20--char-----||-----20--char-----||-----20--char-----||-doc-lim-||code|#\n",
    "-->"
   ]
  },
  {
   "cell_type": "markdown",
   "metadata": {},
   "source": [
    "##### Get songs and artists from logs"
   ]
  },
  {
   "cell_type": "code",
   "execution_count": null,
   "metadata": {
    "ExecuteTime": {
     "end_time": "2021-08-17T14:22:48.449628Z",
     "start_time": "2021-08-17T14:22:48.426690Z"
    }
   },
   "outputs": [],
   "source": [
    "#|-----20--char-----||-----20--char-----||-----20--char-----||-doc-lim-||code|#\n",
    "songs_columns = [\"song_id\", \"title\", \"artist_id\", \"artist_name\", \"duration\"]\n",
    "all_songs_df = songs_df[songs_columns].copy()\n",
    "all_songs_df = all_songs_df.drop_duplicates()\n",
    "all_songs_df = all_songs_df.reset_index(drop=True)\n",
    "print(f\"Number of songs:\\n{all_songs_df.shape[0]}\\n\")\n",
    "all_songs_df.head()"
   ]
  },
  {
   "cell_type": "code",
   "execution_count": null,
   "metadata": {
    "ExecuteTime": {
     "end_time": "2021-08-17T14:22:49.085936Z",
     "start_time": "2021-08-17T14:22:49.058010Z"
    },
    "scrolled": false
   },
   "outputs": [],
   "source": [
    "#|-----20--char-----||-----20--char-----||-----20--char-----||-doc-lim-||code|#\n",
    "logs_columns = [\"song\", \"artist\", \"length\"]\n",
    "all_logs_df = filtered_logs_df[logs_columns].copy()\n",
    "all_logs_df = all_logs_df.drop_duplicates()\n",
    "all_logs_df = all_logs_df.reset_index(drop=True)\n",
    "print(f\"Number of logs:\\n{all_logs_df.shape[0]}\\n\")\n",
    "all_logs_df.head()"
   ]
  },
  {
   "cell_type": "code",
   "execution_count": null,
   "metadata": {
    "ExecuteTime": {
     "end_time": "2021-08-17T14:22:49.598573Z",
     "start_time": "2021-08-17T14:22:49.587601Z"
    }
   },
   "outputs": [],
   "source": [
    "#|-----20--char-----||-----20--char-----||-----20--char-----||-doc-lim-||code|#\n",
    "print(f\"{len(set(all_logs_df['artist'].tolist()))} different artists.\")\n",
    "print(f\"{len(set(all_logs_df['song'].tolist()))} different songs.\")"
   ]
  },
  {
   "cell_type": "markdown",
   "metadata": {},
   "source": [
    "##### Get missed artists"
   ]
  },
  {
   "cell_type": "markdown",
   "metadata": {},
   "source": [
    "Artists including duplicates."
   ]
  },
  {
   "cell_type": "code",
   "execution_count": null,
   "metadata": {
    "ExecuteTime": {
     "end_time": "2021-08-17T14:22:52.285431Z",
     "start_time": "2021-08-17T14:22:52.280448Z"
    }
   },
   "outputs": [],
   "source": [
    "artist_df = all_logs_df[['artist']]\n",
    "print(f\"Number of artists:\\n{artist_df.shape[0]}\\n\")"
   ]
  },
  {
   "cell_type": "markdown",
   "metadata": {},
   "source": [
    "Current artists in full songs."
   ]
  },
  {
   "cell_type": "code",
   "execution_count": null,
   "metadata": {
    "ExecuteTime": {
     "end_time": "2021-08-17T14:22:54.406795Z",
     "start_time": "2021-08-17T14:22:54.367894Z"
    }
   },
   "outputs": [],
   "source": [
    "len([artist for artist in artist_df['artist'].tolist() if artist in all_songs_df['artist_name'].tolist()])"
   ]
  },
  {
   "cell_type": "markdown",
   "metadata": {},
   "source": [
    "Artists no registered in full songs.\n"
   ]
  },
  {
   "cell_type": "code",
   "execution_count": null,
   "metadata": {
    "ExecuteTime": {
     "end_time": "2021-08-17T14:22:55.432069Z",
     "start_time": "2021-08-17T14:22:55.388182Z"
    }
   },
   "outputs": [],
   "source": [
    "len([artist for artist in artist_df['artist'].tolist() if artist not in all_songs_df['artist_name'].tolist()])"
   ]
  },
  {
   "cell_type": "markdown",
   "metadata": {},
   "source": [
    "Artists no duplicates."
   ]
  },
  {
   "cell_type": "code",
   "execution_count": null,
   "metadata": {
    "ExecuteTime": {
     "end_time": "2021-08-17T14:22:56.186061Z",
     "start_time": "2021-08-17T14:22:56.176086Z"
    }
   },
   "outputs": [],
   "source": [
    "artist_df = artist_df.drop_duplicates()\n",
    "artist_df = artist_df.reset_index(drop=True)\n",
    "print(f\"Number of artists:\\n{artist_df.shape[0]}\\n\")"
   ]
  },
  {
   "cell_type": "markdown",
   "metadata": {},
   "source": [
    "Artists real number registered in full songs."
   ]
  },
  {
   "cell_type": "code",
   "execution_count": null,
   "metadata": {
    "ExecuteTime": {
     "end_time": "2021-08-17T14:22:57.771844Z",
     "start_time": "2021-08-17T14:22:57.742920Z"
    }
   },
   "outputs": [],
   "source": [
    "len([artist for artist in artist_df['artist'].tolist() if artist in all_songs_df['artist_name'].tolist()])"
   ]
  },
  {
   "cell_type": "markdown",
   "metadata": {},
   "source": [
    "Artists real number no registered in full songs."
   ]
  },
  {
   "cell_type": "code",
   "execution_count": null,
   "metadata": {
    "ExecuteTime": {
     "end_time": "2021-08-17T14:22:58.605660Z",
     "start_time": "2021-08-17T14:22:58.575709Z"
    }
   },
   "outputs": [],
   "source": [
    "len([artist for artist in artist_df['artist'].tolist() if artist not in all_songs_df['artist_name'].tolist()])"
   ]
  },
  {
   "cell_type": "code",
   "execution_count": null,
   "metadata": {
    "ExecuteTime": {
     "end_time": "2021-08-17T14:22:59.099327Z",
     "start_time": "2021-08-17T14:22:59.085353Z"
    }
   },
   "outputs": [],
   "source": [
    "#|-----20--char-----||-----20--char-----||-----20--char-----||-doc-lim-||code|#\n",
    "# Keep only artists no located in 'all_songs_df'\n",
    "artist_df = artist_df[\n",
    "    ~artist_df['artist'].isin(all_songs_df['artist_name'])\n",
    "].copy()\n",
    "print(f\"Number of artists:\\n{artist_df.shape[0]}\\n\")\n",
    "artist_df.head()"
   ]
  },
  {
   "cell_type": "markdown",
   "metadata": {},
   "source": [
    "##### Assign UUID to artists"
   ]
  },
  {
   "cell_type": "code",
   "execution_count": null,
   "metadata": {
    "ExecuteTime": {
     "end_time": "2021-08-17T14:23:01.363297Z",
     "start_time": "2021-08-17T14:23:01.324399Z"
    }
   },
   "outputs": [],
   "source": [
    "#|-----20--char-----||-----20--char-----||-----20--char-----||-doc-lim-||code|#\n",
    "artist_df.insert(\n",
    "    loc=0,\n",
    "    column='artist_id',\n",
    "    value=list(\n",
    "        map(\n",
    "            lambda item: uuid.uuid3(uuid.NAMESPACE_URL, item).hex[:18],\n",
    "            artist_df['artist']\n",
    "        )\n",
    "    ),\n",
    "    allow_duplicates=True\n",
    ")\n",
    "artist_df.head()"
   ]
  },
  {
   "cell_type": "code",
   "execution_count": null,
   "metadata": {
    "ExecuteTime": {
     "end_time": "2021-08-17T14:23:07.077142Z",
     "start_time": "2021-08-17T14:23:07.070161Z"
    }
   },
   "outputs": [],
   "source": [
    "artist_df['artist'].is_unique"
   ]
  },
  {
   "cell_type": "code",
   "execution_count": null,
   "metadata": {
    "ExecuteTime": {
     "end_time": "2021-08-17T14:23:07.705471Z",
     "start_time": "2021-08-17T14:23:07.698491Z"
    }
   },
   "outputs": [],
   "source": [
    "artist_df['artist_id'].is_unique"
   ]
  },
  {
   "cell_type": "markdown",
   "metadata": {},
   "source": [
    "##### Generate complete artists dataframe"
   ]
  },
  {
   "cell_type": "code",
   "execution_count": null,
   "metadata": {
    "ExecuteTime": {
     "end_time": "2021-08-17T14:23:16.369898Z",
     "start_time": "2021-08-17T14:23:16.338981Z"
    }
   },
   "outputs": [],
   "source": [
    "#|-----20--char-----||-----20--char-----||-----20--char-----||-doc-lim-||code|#\n",
    "series_nan = nan_list = ['nan']*artist_df.shape[0]\n",
    "artist_df.insert(\n",
    "    loc=artist_df.shape[1],\n",
    "    column='location',\n",
    "    value=series_nan,\n",
    "    allow_duplicates=True\n",
    ")\n",
    "artist_df.insert(\n",
    "    loc=artist_df.shape[1],\n",
    "    column='latitude',\n",
    "    value=series_nan,\n",
    "    allow_duplicates=True\n",
    ")\n",
    "artist_df.insert(\n",
    "    loc=artist_df.shape[1],\n",
    "    column='longitude',\n",
    "    value=series_nan,\n",
    "    allow_duplicates=True\n",
    ")\n",
    "artist_df[:][\"artist\"] = artist_df[\"artist\"].map(\n",
    "    single_quote_converter, na_action='ignore'\n",
    ")\n",
    "print(f\"Number of artists:\\n{artist_df.shape[0]}\\n\")\n",
    "artist_df.head()"
   ]
  },
  {
   "cell_type": "markdown",
   "metadata": {},
   "source": [
    "##### Upload missed artist data to `artists` table"
   ]
  },
  {
   "cell_type": "code",
   "execution_count": null,
   "metadata": {
    "ExecuteTime": {
     "end_time": "2021-08-17T14:23:32.321547Z",
     "start_time": "2021-08-17T14:23:32.180930Z"
    }
   },
   "outputs": [],
   "source": [
    "#|-----20--char-----||-----20--char-----||-----20--char-----||-doc-lim-||code|#\n",
    "start_index = 0\n",
    "end_index = artist_df.shape[0]\n",
    "batch_size = 5_000\n",
    "for index in range(start_index, end_index, batch_size):\n",
    "    print(f\"Send batch from index '{index}'...\")\n",
    "    query = sq.artist_table_insert(\n",
    "        dataframe=artist_df.iloc[index:index + batch_size]\n",
    "    )\n",
    "    cur.execute(query)\n",
    "    conn.commit()"
   ]
  },
  {
   "cell_type": "markdown",
   "metadata": {},
   "source": [
    "##### Get missed songs"
   ]
  },
  {
   "cell_type": "code",
   "execution_count": null,
   "metadata": {},
   "outputs": [],
   "source": [
    "len([item for item in list(all_logs_df['song']) if item not in list(all_songs_df['title'])])"
   ]
  },
  {
   "cell_type": "code",
   "execution_count": null,
   "metadata": {},
   "outputs": [],
   "source": [
    "#|-----20--char-----||-----20--char-----||-----20--char-----||-doc-lim-||code|#\n",
    "# Keep only songs no located in 'all_songs_df'\n",
    "song_df = all_logs_df[\n",
    "    ~all_logs_df[['song', 'artist', 'length']].isin(all_songs_df[['title', 'artist_name', 'duration']])\n",
    "].copy()\n",
    "song_df = song_df.drop_duplicates()\n",
    "song_df = song_df.reset_index(drop=True)\n",
    "print(f\"Number of rows:\\n{song_df.shape[0]}\\n\")\n",
    "song_df.head()"
   ]
  },
  {
   "cell_type": "markdown",
   "metadata": {},
   "source": [
    "##### Assign UUID to songs"
   ]
  },
  {
   "cell_type": "code",
   "execution_count": null,
   "metadata": {},
   "outputs": [],
   "source": [
    "#|-----20--char-----||-----20--char-----||-----20--char-----||-doc-lim-||code|#\n",
    "song_df.insert(\n",
    "    loc=0,\n",
    "    column='song_id',\n",
    "    value=list(\n",
    "        map(\n",
    "            lambda item: uuid.uuid3(uuid.NAMESPACE_URL, item).hex[:18],\n",
    "            song_df[['song', 'length']].apply(\n",
    "                lambda row: row[0]+str(row[1]),\n",
    "                axis=1\n",
    "            )\n",
    "        )\n",
    "    ),\n",
    "    allow_duplicates=True\n",
    ")\n",
    "song_df[:][\"song\"] = song_df[\"song\"].map(\n",
    "    single_quote_converter, na_action='ignore'\n",
    ")\n",
    "song_df.head()"
   ]
  },
  {
   "cell_type": "markdown",
   "metadata": {},
   "source": [
    "##### Get artist id"
   ]
  },
  {
   "cell_type": "code",
   "execution_count": null,
   "metadata": {},
   "outputs": [],
   "source": [
    "#|-----20--char-----||-----20--char-----||-----20--char-----||-doc-lim-||code|#\n",
    "song_df['artist'] = song_df['artist'].map(\n",
    "    lambda item: uuid.uuid3(uuid.NAMESPACE_URL, item).hex[:18]\n",
    ")\n",
    "song_df.head()"
   ]
  },
  {
   "cell_type": "markdown",
   "metadata": {},
   "source": [
    "##### Generate complete songs dataframe"
   ]
  },
  {
   "cell_type": "code",
   "execution_count": null,
   "metadata": {},
   "outputs": [],
   "source": [
    "#|-----20--char-----||-----20--char-----||-----20--char-----||-doc-lim-||code|#\n",
    "series_nan = nan_list = ['nan']*song_df.shape[0]\n",
    "song_df.insert(\n",
    "    loc=3,\n",
    "    column='year',\n",
    "    value=series_nan,\n",
    "    allow_duplicates=True\n",
    ")\n",
    "song_df = song_df.drop_duplicates()\n",
    "song_df.head()"
   ]
  },
  {
   "cell_type": "markdown",
   "metadata": {},
   "source": [
    "##### Upload missed songs data to `songs` table"
   ]
  },
  {
   "cell_type": "markdown",
   "metadata": {},
   "source": [
    "<!--\n",
    "#|-----20--char-----||-----20--char-----||-----20--char-----||-doc-lim-||code|#\n",
    "-->\n",
    "The new UUIDs in songs and artists are in lower case to diferentiate between\n",
    "the IDs from `song_data` and the IDs generated locally. On this step the new\n",
    "songs and artists are uploaded to the `songs` and `artists` tables."
   ]
  },
  {
   "cell_type": "code",
   "execution_count": null,
   "metadata": {},
   "outputs": [],
   "source": [
    "#|-----20--char-----||-----20--char-----||-----20--char-----||-doc-lim-||code|#\n",
    "start_index = 0\n",
    "end_index = song_df.shape[0]\n",
    "batch_size = 5_000\n",
    "for index in range(start_index, end_index, batch_size):\n",
    "    print(f\"Send batch from idx '{index}'...\")\n",
    "    query = sq.song_table_insert(\n",
    "        dataframe=song_df.iloc[index:index + batch_size]\n",
    "    )\n",
    "    cur.execute(query)\n",
    "    conn.commit()"
   ]
  },
  {
   "cell_type": "markdown",
   "metadata": {},
   "source": [
    "#### Insert Records into Songplays Table\n",
    "- Implement the `songplay_table_insert` query and run the cell below to insert records for the songplay actions in this log file into the `songplays` table. Remember to run `create_tables.py` before running the cell below to ensure you've created/resetted the `songplays` table in the sparkify database."
   ]
  },
  {
   "cell_type": "markdown",
   "metadata": {},
   "source": [
    "##### Build base dataframe"
   ]
  },
  {
   "cell_type": "code",
   "execution_count": null,
   "metadata": {},
   "outputs": [],
   "source": [
    "#|-----20--char-----||-----20--char-----||-----20--char-----||-doc-lim-||code|#\n",
    "columns = [\n",
    "    \"ts\",\n",
    "    \"userId\",\n",
    "    \"level\",\n",
    "    \"song\",\n",
    "    \"artist\",\n",
    "    \"sessionId\",\n",
    "    \"location\",\n",
    "    \"userAgent\"\n",
    "]\n",
    "song_plays_df = filtered_logs_df[columns].copy()\n",
    "\n",
    "song_plays_df[\"ts\"] = song_plays_df[\"ts\"].dt.strftime('%Y-%m-%dT%H:%M:%S')\n",
    "song_plays_df[\"userId\"] = song_plays_df[\"userId\"].astype(str)\n",
    "song_plays_df[\"sessionId\"] = song_plays_df[\"sessionId\"].astype(str)\n",
    "song_plays_df = song_plays_df.drop_duplicates()\n",
    "song_plays_df = song_plays_df.reset_index(drop=True)\n",
    "song_plays_df[\"location\"] = song_plays_df[\"location\"].map(\n",
    "    single_quote_converter, na_action='ignore'\n",
    ")\n",
    "song_plays_df[\"userAgent\"] = song_plays_df[\"userAgent\"].map(\n",
    "    single_quote_converter, na_action='ignore'\n",
    ")\n",
    "song_plays_df[\"song\"] = song_plays_df[\"song\"].map(\n",
    "    single_quote_converter, na_action='ignore'\n",
    ")\n",
    "song_plays_df[\"artist\"] = song_plays_df[\"artist\"].map(\n",
    "    single_quote_converter, na_action='ignore'\n",
    ")\n",
    "print(f\"Total number of played songs:\\n{song_plays_df.shape[0]}\\n\")\n",
    "song_plays_df.head()\n",
    "#|-----20--char-----||-----20--char-----||-----20--char-----||-doc-lim-||code|#"
   ]
  },
  {
   "cell_type": "markdown",
   "metadata": {},
   "source": [
    "##### Load corresponding IDs"
   ]
  },
  {
   "cell_type": "code",
   "execution_count": null,
   "metadata": {},
   "outputs": [],
   "source": [
    "#|-----20--char-----||-----20--char-----||-----20--char-----||-doc-lim-||code|#\n",
    "# Test query\n",
    "query = sq.song_select(\n",
    "    dataframe=song_plays_df[[\"song\", \"artist\"]].iloc[:2],\n",
    "    verbose=True\n",
    ")"
   ]
  },
  {
   "cell_type": "code",
   "execution_count": null,
   "metadata": {},
   "outputs": [],
   "source": [
    "query = sq.song_select(\n",
    "        dataframe=song_plays_df[columns].iloc[index:index + batch_size]\n",
    "    )"
   ]
  },
  {
   "cell_type": "code",
   "execution_count": null,
   "metadata": {},
   "outputs": [],
   "source": [
    "#|-----20--char-----||-----20--char-----||-----20--char-----||-doc-lim-||code|#\n",
    "start_index = 0\n",
    "end_index = song_plays_df.shape[0]\n",
    "batch_size = 5_000\n",
    "columns = [\"song\", \"artist\"]\n",
    "for index in range(start_index, end_index, batch_size):\n",
    "    print(f\"Get batch from index '{index}'...\")\n",
    "    query = sq.song_select(\n",
    "        dataframe=song_plays_df[columns].iloc[index:index + batch_size]\n",
    "    )\n",
    "    temp_df = pd.read_sql(query, conn)\n",
    "    song_plays_df.loc[index:index+batch_size, 'song'] = temp_df['song_id']\n",
    "    song_plays_df.loc[index:index+batch_size, 'artist'] = temp_df['artist_id']\n",
    "\n",
    "song_plays_df.head()"
   ]
  },
  {
   "cell_type": "markdown",
   "metadata": {},
   "source": [
    "##### Upload songplays"
   ]
  },
  {
   "cell_type": "code",
   "execution_count": null,
   "metadata": {},
   "outputs": [],
   "source": [
    "#|-----20--char-----||-----20--char-----||-----20--char-----||-doc-lim-||code|#\n",
    "# Test query creation\n",
    "query = sq.songplay_table_insert(\n",
    "    dataframe=song_plays_df.iloc[0:1],\n",
    "    verbose=True\n",
    ")"
   ]
  },
  {
   "cell_type": "code",
   "execution_count": null,
   "metadata": {},
   "outputs": [],
   "source": [
    "song_plays_df.shape"
   ]
  },
  {
   "cell_type": "code",
   "execution_count": null,
   "metadata": {},
   "outputs": [],
   "source": [
    "#|-----20--char-----||-----20--char-----||-----20--char-----||-doc-lim-||code|#\n",
    "start_index = 0\n",
    "end_index = song_plays_df.shape[0]\n",
    "batch_size = 5_000\n",
    "for index in range(start_index, end_index, batch_size):\n",
    "    print(f\"Send batch from idx '{index}'...\")\n",
    "    query = sq.songplay_table_insert(\n",
    "        dataframe=song_plays_df.iloc[index:index+batch_size]\n",
    "    )\n",
    "    cur.execute(query)\n",
    "    conn.commit()"
   ]
  },
  {
   "cell_type": "markdown",
   "metadata": {},
   "source": [
    "Run `test.ipynb` to see if you've successfully added records to this table."
   ]
  },
  {
   "cell_type": "markdown",
   "metadata": {},
   "source": [
    "## Close Connection to Sparkify Database"
   ]
  },
  {
   "cell_type": "code",
   "execution_count": null,
   "metadata": {},
   "outputs": [],
   "source": [
    "conn.close()"
   ]
  },
  {
   "cell_type": "markdown",
   "metadata": {},
   "source": [
    "> Implement `etl.py`\n",
    "> Use what you've completed in this notebook to implement `etl.py`."
   ]
  }
 ],
 "metadata": {
  "kernelspec": {
   "display_name": "Python v.3.9.6 (data_engineer)",
   "language": "python",
   "name": "data_engineer"
  },
  "language_info": {
   "codemirror_mode": {
    "name": "ipython",
    "version": 3
   },
   "file_extension": ".py",
   "mimetype": "text/x-python",
   "name": "python",
   "nbconvert_exporter": "python",
   "pygments_lexer": "ipython3",
   "version": "3.9.6"
  },
  "toc": {
   "base_numbering": 1,
   "nav_menu": {},
   "number_sections": true,
   "sideBar": true,
   "skip_h1_title": true,
   "title_cell": "Table of Contents",
   "title_sidebar": "Contents",
   "toc_cell": false,
   "toc_position": {
    "height": "calc(100% - 180px)",
    "left": "10px",
    "top": "150px",
    "width": "370.133px"
   },
   "toc_section_display": true,
   "toc_window_display": true
  },
  "varInspector": {
   "cols": {
    "lenName": 16,
    "lenType": 16,
    "lenVar": 40
   },
   "kernels_config": {
    "python": {
     "delete_cmd_postfix": "",
     "delete_cmd_prefix": "del ",
     "library": "var_list.py",
     "varRefreshCmd": "print(var_dic_list())"
    },
    "r": {
     "delete_cmd_postfix": ") ",
     "delete_cmd_prefix": "rm(",
     "library": "var_list.r",
     "varRefreshCmd": "cat(var_dic_list()) "
    }
   },
   "types_to_exclude": [
    "module",
    "function",
    "builtin_function_or_method",
    "instance",
    "_Feature"
   ],
   "window_display": false
  }
 },
 "nbformat": 4,
 "nbformat_minor": 2
}
