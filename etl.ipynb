{
 "cells": [
  {
   "cell_type": "markdown",
   "metadata": {},
   "source": [
    "# ETL Processes\n",
    "Use this notebook to develop the ETL process for each of your tables before completing the `etl.py` file to load the whole datasets."
   ]
  },
  {
   "cell_type": "markdown",
   "metadata": {},
   "source": [
    "## Open Connection"
   ]
  },
  {
   "cell_type": "code",
   "execution_count": null,
   "metadata": {
    "ExecuteTime": {
     "end_time": "2021-08-17T12:16:50.947264Z",
     "start_time": "2021-08-17T12:16:49.812134Z"
    }
   },
   "outputs": [],
   "source": [
    "import os\n",
    "import re\n",
    "import glob\n",
    "import uuid\n",
    "import psycopg2\n",
    "import pandas as pd\n",
    "import sql_queries as sq"
   ]
  },
  {
   "cell_type": "code",
   "execution_count": null,
   "metadata": {
    "ExecuteTime": {
     "end_time": "2021-08-17T12:17:41.565577Z",
     "start_time": "2021-08-17T12:17:41.356104Z"
    }
   },
   "outputs": [],
   "source": [
    "#|-----20--char-----||-----20--char-----||-----20--char-----||-doc-lim-||code|#\n",
    "conn = psycopg2.connect(\n",
    "    user=\"admin\",\n",
    "    password=\"<password>\",\n",
    "    host=\"localhost\", \n",
    "    port=\"5432\",\n",
    "    dbname=\"sparkifydb\"\n",
    ")\n",
    "cur = conn.cursor()\n",
    "#|-----20--char-----||-----20--char-----||-----20--char-----||-doc-lim-||code|#"
   ]
  },
  {
   "cell_type": "code",
   "execution_count": null,
   "metadata": {
    "ExecuteTime": {
     "end_time": "2021-08-17T12:17:42.173438Z",
     "start_time": "2021-08-17T12:17:42.167454Z"
    }
   },
   "outputs": [],
   "source": [
    "#|-----20--char-----||-----20--char-----||-----20--char-----||-doc-lim-||code|#\n",
    "def get_files(filepath):\n",
    "    all_files = []\n",
    "    for root, dirs, files in os.walk(filepath):\n",
    "        files = glob.glob(os.path.join(root,'*.json'))\n",
    "        for f in files :\n",
    "            all_files.append(os.path.abspath(f))\n",
    "    \n",
    "    return all_files\n",
    "\n",
    "def single_quote_converter(sentence):\n",
    "    sentence = re.sub(r'\\'', r'<single_quote_tag>', sentence)\n",
    "\n",
    "    return sentence\n",
    "#|-----20--char-----||-----20--char-----||-----20--char-----||-doc-lim-||code|#"
   ]
  },
  {
   "cell_type": "markdown",
   "metadata": {},
   "source": [
    "## Process `song_data`\n",
    "In this first part, you'll perform ETL on the first dataset, `song_data`, to create the `songs` and `artists` dimensional tables.\n",
    "\n",
    "Let's perform ETL on a single song file and load a single record into each table to start.\n",
    "- Use the `get_files` function provided above to get a list of all song JSON files in `data/song_data`\n",
    "- Select the first song in this list\n",
    "- Read the song file and view the data"
   ]
  },
  {
   "cell_type": "code",
   "execution_count": null,
   "metadata": {
    "ExecuteTime": {
     "end_time": "2021-08-17T12:17:43.973347Z",
     "start_time": "2021-08-17T12:17:43.948381Z"
    }
   },
   "outputs": [],
   "source": [
    "#|-----20--char-----||-----20--char-----||-----20--char-----||-doc-lim-||code|#\n",
    "song_files = get_files(os.path.join(os.getcwd(), \"data/song_data\"))"
   ]
  },
  {
   "cell_type": "code",
   "execution_count": null,
   "metadata": {
    "ExecuteTime": {
     "end_time": "2021-08-17T12:17:45.570950Z",
     "start_time": "2021-08-17T12:17:45.566436Z"
    }
   },
   "outputs": [],
   "source": [
    "#|-----20--char-----||-----20--char-----||-----20--char-----||-doc-lim-||code|#\n",
    "print(f\"Total number of JSON files: {len(song_files)}\")\n",
    "print(f\"Example index 0: {os.path.basename(song_files[0])}\")"
   ]
  },
  {
   "cell_type": "code",
   "execution_count": null,
   "metadata": {
    "ExecuteTime": {
     "end_time": "2021-08-17T12:17:46.491128Z",
     "start_time": "2021-08-17T12:17:46.487139Z"
    }
   },
   "outputs": [],
   "source": [
    "#|-----20--char-----||-----20--char-----||-----20--char-----||-doc-lim-||code|#\n",
    "filepath = song_files[0]"
   ]
  },
  {
   "cell_type": "code",
   "execution_count": null,
   "metadata": {
    "ExecuteTime": {
     "end_time": "2021-08-17T12:17:47.175958Z",
     "start_time": "2021-08-17T12:17:47.128086Z"
    }
   },
   "outputs": [],
   "source": [
    "#|-----20--char-----||-----20--char-----||-----20--char-----||-doc-lim-||code|#\n",
    "songs_df = pd.read_json(filepath, lines=True)\n",
    "songs_df.head()"
   ]
  },
  {
   "cell_type": "code",
   "execution_count": null,
   "metadata": {
    "ExecuteTime": {
     "end_time": "2021-08-17T12:17:48.225154Z",
     "start_time": "2021-08-17T12:17:48.218174Z"
    }
   },
   "outputs": [],
   "source": [
    "#|-----20--char-----||-----20--char-----||-----20--char-----||-doc-lim-||code|#\n",
    "print(f\"Artist ID, characters lenght: {len(songs_df['artist_id'].values[0])}\")\n",
    "print(f\"Artist ID, characters lenght: {len(songs_df['song_id'].values[0])}\")"
   ]
  },
  {
   "cell_type": "markdown",
   "metadata": {},
   "source": [
    "### Load all `song_data`"
   ]
  },
  {
   "cell_type": "code",
   "execution_count": null,
   "metadata": {
    "ExecuteTime": {
     "end_time": "2021-08-17T12:17:50.674440Z",
     "start_time": "2021-08-17T12:17:49.854511Z"
    }
   },
   "outputs": [],
   "source": [
    "#|-----20--char-----||-----20--char-----||-----20--char-----||-doc-lim-||code|#\n",
    "songs_df = pd.DataFrame(columns=songs_df.columns)\n",
    "for filepath in song_files:\n",
    "    songs_df = songs_df.append(\n",
    "        pd.read_json(filepath, lines=True),\n",
    "        ignore_index=True\n",
    "    )\n",
    "\n",
    "print(f\"Total number of songs:\\n{songs_df.shape[0]}\\n\")\n",
    "songs_df.head()"
   ]
  },
  {
   "cell_type": "markdown",
   "metadata": {},
   "source": [
    "### `artists` Table"
   ]
  },
  {
   "cell_type": "markdown",
   "metadata": {},
   "source": [
    "#### Extract Data for Artists Table"
   ]
  },
  {
   "cell_type": "markdown",
   "metadata": {},
   "source": [
    "- Select columns for artist ID, name, location, latitude, and longitude\n",
    "- Use `df.values` to select just the values from the dataframe\n",
    "- Index to select the first (only) record in the dataframe\n",
    "- Convert the array to a list and set it to `artist_data`"
   ]
  },
  {
   "cell_type": "code",
   "execution_count": null,
   "metadata": {
    "ExecuteTime": {
     "end_time": "2021-08-17T12:17:52.763573Z",
     "start_time": "2021-08-17T12:17:52.745615Z"
    }
   },
   "outputs": [],
   "source": [
    "#|-----20--char-----||-----20--char-----||-----20--char-----||-doc-lim-||code|#\n",
    "columns = [\n",
    "    \"artist_id\",\n",
    "    \"artist_name\",\n",
    "    \"artist_location\",\n",
    "    \"artist_latitude\",\n",
    "    \"artist_longitude\"\n",
    "]\n",
    "artist_data = songs_df[columns]\n",
    "artist_data[:][\"artist_name\"] = artist_data[\"artist_name\"].map(\n",
    "    single_quote_converter, na_action='ignore'\n",
    ")\n",
    "artist_data[:][\"artist_location\"] = artist_data[\"artist_location\"].map(\n",
    "    single_quote_converter, na_action='ignore'\n",
    ")\n",
    "artist_data = artist_data.drop_duplicates()\n",
    "print(f\"Total number of artists:\\n{artist_data.shape[0]}\\n\")\n",
    "artist_data.head()\n",
    "#|-----20--char-----||-----20--char-----||-----20--char-----||-doc-lim-||code|#"
   ]
  },
  {
   "cell_type": "code",
   "execution_count": null,
   "metadata": {
    "ExecuteTime": {
     "end_time": "2021-08-17T12:17:54.004401Z",
     "start_time": "2021-08-17T12:17:53.997246Z"
    }
   },
   "outputs": [],
   "source": [
    "print(f\"Longest name has {max(artist_data['artist_name'].map(len))} characters.\")"
   ]
  },
  {
   "cell_type": "code",
   "execution_count": null,
   "metadata": {
    "ExecuteTime": {
     "end_time": "2021-08-17T12:17:55.099502Z",
     "start_time": "2021-08-17T12:17:55.093517Z"
    }
   },
   "outputs": [],
   "source": [
    "print(artist_data['artist_name'].iloc[52])"
   ]
  },
  {
   "cell_type": "code",
   "execution_count": null,
   "metadata": {
    "ExecuteTime": {
     "end_time": "2021-08-17T12:17:56.313192Z",
     "start_time": "2021-08-17T12:17:56.302220Z"
    }
   },
   "outputs": [],
   "source": [
    "print(f\"Longest location has {max(artist_data['artist_location'].map(len))} characters.\")"
   ]
  },
  {
   "cell_type": "markdown",
   "metadata": {},
   "source": [
    "##### Insert Record into Artist Table"
   ]
  },
  {
   "cell_type": "markdown",
   "metadata": {},
   "source": [
    "Implement the `artist_table_insert` query in `sql_queries.py` and run the cell below to insert a record for this song's artist into the `artists` table. Remember to run `create_tables.py` before running the cell below to ensure you've created/resetted the `artists` table in the sparkify database."
   ]
  },
  {
   "cell_type": "code",
   "execution_count": null,
   "metadata": {
    "ExecuteTime": {
     "end_time": "2021-08-17T12:17:58.024693Z",
     "start_time": "2021-08-17T12:17:58.018676Z"
    }
   },
   "outputs": [],
   "source": [
    "#|-----20--char-----||-----20--char-----||-----20--char-----||-doc-lim-||code|#\n",
    "# Test query creation\n",
    "print(\"Print a query example (incomplete data, just a sample).\\n\")\n",
    "query = sq.artist_table_insert(dataframe=artist_data[0:5], verbose=True)"
   ]
  },
  {
   "cell_type": "code",
   "execution_count": null,
   "metadata": {
    "ExecuteTime": {
     "end_time": "2021-08-17T12:17:59.280018Z",
     "start_time": "2021-08-17T12:17:59.252092Z"
    }
   },
   "outputs": [],
   "source": [
    "#|-----20--char-----||-----20--char-----||-----20--char-----||-doc-lim-||code|#\n",
    "start_index = 0\n",
    "end_index = artist_data.shape[0]\n",
    "batch_size = 5_000\n",
    "for index in range(start_index, end_index, batch_size):\n",
    "    print(f\"Send batch from idx '{index}'...\")\n",
    "    query = sq.artist_table_insert(\n",
    "        dataframe=artist_data.iloc[index:index + batch_size]\n",
    "    )\n",
    "    cur.execute(query)\n",
    "    conn.commit()"
   ]
  },
  {
   "cell_type": "markdown",
   "metadata": {},
   "source": [
    "Run `test.ipynb` to see if you've successfully added a record to this table."
   ]
  },
  {
   "cell_type": "markdown",
   "metadata": {},
   "source": [
    "### `songs` Table"
   ]
  },
  {
   "cell_type": "markdown",
   "metadata": {},
   "source": [
    "#### Extract Data for Songs Table"
   ]
  },
  {
   "cell_type": "markdown",
   "metadata": {},
   "source": [
    "- Select columns for song ID, title, artist ID, year, and duration\n",
    "- Use `df.values` to select just the values from the dataframe\n",
    "- Index to select the first (only) record in the dataframe\n",
    "- Convert the array to a list and set it to `song_data`"
   ]
  },
  {
   "cell_type": "code",
   "execution_count": null,
   "metadata": {
    "ExecuteTime": {
     "end_time": "2021-08-17T12:18:01.930950Z",
     "start_time": "2021-08-17T12:18:01.912997Z"
    }
   },
   "outputs": [],
   "source": [
    "#|-----20--char-----||-----20--char-----||-----20--char-----||-doc-lim-||code|#\n",
    "columns = [\"song_id\", \"title\", \"artist_id\", \"year\", \"duration\"]\n",
    "song_data = songs_df[columns]\n",
    "song_data[:][\"title\"] = song_data[\"title\"].map(\n",
    "    single_quote_converter, na_action='ignore'\n",
    ")\n",
    "song_data = song_data.drop_duplicates()\n",
    "print(f\"Total number of songs:\\n{song_data.shape[0]}\\n\")\n",
    "song_data.head()"
   ]
  },
  {
   "cell_type": "code",
   "execution_count": null,
   "metadata": {
    "ExecuteTime": {
     "end_time": "2021-08-17T12:18:03.427030Z",
     "start_time": "2021-08-17T12:18:03.421043Z"
    }
   },
   "outputs": [],
   "source": [
    "print(f\"Longest name has {max(song_data['title'].map(len))} characters.\")"
   ]
  },
  {
   "cell_type": "markdown",
   "metadata": {},
   "source": [
    "#### Insert Record into Song Table\n",
    "Implement the `song_table_insert` query in `sql_queries.py` and run the cell below to insert a record for this song into the `songs` table. Remember to run `create_tables.py` before running the cell below to ensure you've created/resetted the `songs` table in the sparkify database."
   ]
  },
  {
   "cell_type": "code",
   "execution_count": null,
   "metadata": {
    "ExecuteTime": {
     "end_time": "2021-08-17T12:18:04.845226Z",
     "start_time": "2021-08-17T12:18:04.839242Z"
    }
   },
   "outputs": [],
   "source": [
    "#|-----20--char-----||-----20--char-----||-----20--char-----||-doc-lim-||code|#\n",
    "# Test query creation\n",
    "query = sq.song_table_insert(dataframe=song_data.iloc[0:5], verbose=True)"
   ]
  },
  {
   "cell_type": "code",
   "execution_count": null,
   "metadata": {
    "ExecuteTime": {
     "end_time": "2021-08-17T12:18:06.457894Z",
     "start_time": "2021-08-17T12:18:06.427972Z"
    }
   },
   "outputs": [],
   "source": [
    "#|-----20--char-----||-----20--char-----||-----20--char-----||-doc-lim-||code|#\n",
    "start_index = 0\n",
    "end_index = song_data.shape[0]\n",
    "batch_size = 5_000\n",
    "for index in range(start_index, end_index, batch_size):\n",
    "    print(f\"Send batch from idx '{index}'...\")\n",
    "    query = sq.song_table_insert(\n",
    "        dataframe=song_data.iloc[index:index + batch_size]\n",
    "    )\n",
    "    cur.execute(query)\n",
    "    conn.commit()"
   ]
  },
  {
   "cell_type": "markdown",
   "metadata": {},
   "source": [
    "Run `test.ipynb` to see if you've successfully added a record to this table."
   ]
  },
  {
   "cell_type": "markdown",
   "metadata": {},
   "source": [
    "## Process `log_data`\n",
    "In this part, you'll perform ETL on the second dataset, `log_data`, to create the `time` and `users` dimensional tables, as well as the `songplays` fact table.\n",
    "\n",
    "Let's perform ETL on a single log file and load a single record into each table.\n",
    "- Use the `get_files` function provided above to get a list of all log JSON files in `data/log_data`\n",
    "- Select the first log file in this list\n",
    "- Read the log file and view the data"
   ]
  },
  {
   "cell_type": "code",
   "execution_count": null,
   "metadata": {
    "ExecuteTime": {
     "end_time": "2021-08-17T12:18:08.479153Z",
     "start_time": "2021-08-17T12:18:08.456838Z"
    }
   },
   "outputs": [],
   "source": [
    "#|-----20--char-----||-----20--char-----||-----20--char-----||-doc-lim-||code|#\n",
    "log_files = get_files(os.path.join(os.getcwd(), \"data/log_data\"))"
   ]
  },
  {
   "cell_type": "code",
   "execution_count": null,
   "metadata": {
    "ExecuteTime": {
     "end_time": "2021-08-17T12:18:10.061134Z",
     "start_time": "2021-08-17T12:18:10.051165Z"
    }
   },
   "outputs": [],
   "source": [
    "#|-----20--char-----||-----20--char-----||-----20--char-----||-doc-lim-||code|#\n",
    "print(f\"Total number of JSON files: {len(log_files)}\")\n",
    "print(f\"Example index 0: {os.path.basename(log_files[0])}\")"
   ]
  },
  {
   "cell_type": "code",
   "execution_count": null,
   "metadata": {
    "ExecuteTime": {
     "end_time": "2021-08-17T12:18:11.348955Z",
     "start_time": "2021-08-17T12:18:11.343965Z"
    }
   },
   "outputs": [],
   "source": [
    "#|-----20--char-----||-----20--char-----||-----20--char-----||-doc-lim-||code|#\n",
    "filepath = log_files[0]"
   ]
  },
  {
   "cell_type": "code",
   "execution_count": null,
   "metadata": {
    "ExecuteTime": {
     "end_time": "2021-08-17T12:18:12.794634Z",
     "start_time": "2021-08-17T12:18:12.749755Z"
    }
   },
   "outputs": [],
   "source": [
    "#|-----20--char-----||-----20--char-----||-----20--char-----||-doc-lim-||code|#\n",
    "logs_df = pd.read_json(filepath, lines=True)\n",
    "print(f\"Total number of logs: {logs_df.shape[0]}\")\n",
    "logs_df.head()"
   ]
  },
  {
   "cell_type": "code",
   "execution_count": null,
   "metadata": {
    "ExecuteTime": {
     "end_time": "2021-08-17T12:18:14.652694Z",
     "start_time": "2021-08-17T12:18:14.637736Z"
    }
   },
   "outputs": [],
   "source": [
    "logs_df.info()"
   ]
  },
  {
   "cell_type": "code",
   "execution_count": null,
   "metadata": {
    "ExecuteTime": {
     "end_time": "2021-08-17T12:18:17.038175Z",
     "start_time": "2021-08-17T12:18:17.029187Z"
    }
   },
   "outputs": [],
   "source": [
    "logs_df[\"page\"].value_counts()"
   ]
  },
  {
   "cell_type": "markdown",
   "metadata": {},
   "source": [
    "### Load all `log_data`"
   ]
  },
  {
   "cell_type": "code",
   "execution_count": null,
   "metadata": {
    "ExecuteTime": {
     "end_time": "2021-08-17T12:18:19.460723Z",
     "start_time": "2021-08-17T12:18:18.843362Z"
    }
   },
   "outputs": [],
   "source": [
    "#|-----20--char-----||-----20--char-----||-----20--char-----||-doc-lim-||code|#\n",
    "logs_df = pd.DataFrame(columns=logs_df.columns)\n",
    "for filepath in log_files:\n",
    "    logs_df = logs_df.append(\n",
    "        pd.read_json(filepath, lines=True),\n",
    "        ignore_index=True\n",
    "    )\n",
    "\n",
    "print(f\"Total number of logs:\\n{logs_df.shape[0]}\\n\")\n",
    "logs_df.head()"
   ]
  },
  {
   "cell_type": "markdown",
   "metadata": {},
   "source": [
    "### `time` Table"
   ]
  },
  {
   "cell_type": "markdown",
   "metadata": {},
   "source": [
    "#### Extract Data for Time Table"
   ]
  },
  {
   "cell_type": "markdown",
   "metadata": {},
   "source": [
    "- Filter records by `NextSong` action\n",
    "- Convert the `ts` timestamp column to datetime\n",
    "  - Hint: the current timestamp is in milliseconds\n",
    "- Extract the timestamp, hour, day, week of year, month, year, and weekday from the `ts` column and set `time_data` to a list containing these values in order\n",
    "  - Hint: use pandas' [`dt` attribute](https://pandas.pydata.org/pandas-docs/stable/reference/api/pandas.Series.dt.html) to access easily datetimelike properties.\n",
    "- Specify labels for these columns and set to `column_labels`\n",
    "- Create a dataframe, `time_df,` containing the time data for this file by combining `column_labels` and `time_data` into a dictionary and converting this into a dataframe"
   ]
  },
  {
   "cell_type": "code",
   "execution_count": null,
   "metadata": {
    "ExecuteTime": {
     "end_time": "2021-08-17T12:18:22.838896Z",
     "start_time": "2021-08-17T12:18:22.793462Z"
    }
   },
   "outputs": [],
   "source": [
    "#|-----20--char-----||-----20--char-----||-----20--char-----||-doc-lim-||code|#\n",
    "filtered_logs_df = logs_df[logs_df[\"page\"] == 'NextSong'].copy()\n",
    "print(f\"Total number of logs with useful data:\\n{filtered_logs_df.shape[0]}\\n\")\n",
    "filtered_logs_df.head()"
   ]
  },
  {
   "cell_type": "code",
   "execution_count": null,
   "metadata": {
    "ExecuteTime": {
     "end_time": "2021-08-17T12:18:25.853683Z",
     "start_time": "2021-08-17T12:18:25.770897Z"
    }
   },
   "outputs": [],
   "source": [
    "#|-----20--char-----||-----20--char-----||-----20--char-----||-doc-lim-||code|#\n",
    "filtered_logs_df['ts'] = pd.to_datetime(filtered_logs_df['ts'], unit='ms')\n",
    "filtered_logs_df = filtered_logs_df.drop_duplicates()\n",
    "print(f\"Total number of logs with useful data:\\n{filtered_logs_df.shape[0]}\\n\")\n",
    "filtered_logs_df.head()"
   ]
  },
  {
   "cell_type": "code",
   "execution_count": null,
   "metadata": {
    "ExecuteTime": {
     "end_time": "2021-08-17T12:18:28.554182Z",
     "start_time": "2021-08-17T12:18:28.449432Z"
    }
   },
   "outputs": [],
   "source": [
    "#|-----20--char-----||-----20--char-----||-----20--char-----||-doc-lim-||code|#\n",
    "time_data = list(\n",
    "    map(\n",
    "        lambda item: [\n",
    "            item.strftime('%Y-%m-%dT%H:%M:%S'),\n",
    "            item.hour,\n",
    "            item.day,\n",
    "            item.week,\n",
    "            item.month,\n",
    "            item.year,\n",
    "            item.weekday() + 1\n",
    "        ],\n",
    "        filtered_logs_df['ts']\n",
    "    )\n",
    ")\n",
    "print(f\"Print element list sample:\\n{time_data[0]}\\n\")\n",
    "column_labels = [\n",
    "    'start_time', 'hour', 'day', 'week', 'month', 'year', 'weekday'\n",
    "]\n",
    "print(f\"Print column names:\\n{column_labels}\\n\")\n",
    "#|-----20--char-----||-----20--char-----||-----20--char-----||-doc-lim-||code|#"
   ]
  },
  {
   "cell_type": "code",
   "execution_count": null,
   "metadata": {
    "ExecuteTime": {
     "end_time": "2021-08-17T12:18:31.038514Z",
     "start_time": "2021-08-17T12:18:31.024550Z"
    }
   },
   "outputs": [],
   "source": [
    "#|-----20--char-----||-----20--char-----||-----20--char-----||-doc-lim-||code|#\n",
    "time_list_dict = [dict(zip(column_labels, row)) for row in time_data]\n",
    "print(f\"Print first row dictionary sample:\\n{time_list_dict[0]}\\n\")"
   ]
  },
  {
   "cell_type": "code",
   "execution_count": null,
   "metadata": {
    "ExecuteTime": {
     "end_time": "2021-08-17T12:18:34.056484Z",
     "start_time": "2021-08-17T12:18:34.021579Z"
    }
   },
   "outputs": [],
   "source": [
    "time_df = pd.DataFrame(time_list_dict)\n",
    "time_df = time_df.drop_duplicates()\n",
    "print(f\"Current dataframe dimensions:\\n{time_df.shape}\\n\")\n",
    "time_df.head()"
   ]
  },
  {
   "cell_type": "markdown",
   "metadata": {},
   "source": [
    "#### Insert Records into Time Table\n",
    "Implement the `time_table_insert` query in `sql_queries.py` and run the cell below to insert records for the timestamps in this log file into the `time` table. Remember to run `create_tables.py` before running the cell below to ensure you've created/resetted the `time` table in the sparkify database."
   ]
  },
  {
   "cell_type": "code",
   "execution_count": null,
   "metadata": {
    "ExecuteTime": {
     "end_time": "2021-08-17T12:18:37.201005Z",
     "start_time": "2021-08-17T12:18:37.196001Z"
    }
   },
   "outputs": [],
   "source": [
    "#|-----20--char-----||-----20--char-----||-----20--char-----||-doc-lim-||code|#\n",
    "# Test query creation\n",
    "query = sq.time_table_insert(dataframe=time_df.iloc[0:5], verbose=True)"
   ]
  },
  {
   "cell_type": "code",
   "execution_count": null,
   "metadata": {
    "ExecuteTime": {
     "end_time": "2021-08-17T12:18:40.394601Z",
     "start_time": "2021-08-17T12:18:40.157226Z"
    }
   },
   "outputs": [],
   "source": [
    "#|-----20--char-----||-----20--char-----||-----20--char-----||-doc-lim-||code|#\n",
    "start_index = 0\n",
    "end_index = time_df.shape[0]\n",
    "batch_size = 5_000\n",
    "for index in range(start_index, end_index, batch_size):\n",
    "    print(f\"Send batch from idx '{index}'...\")\n",
    "    query = sq.time_table_insert(\n",
    "        dataframe=time_df.iloc[index:index + batch_size]\n",
    "    )\n",
    "    cur.execute(query)\n",
    "    conn.commit()"
   ]
  },
  {
   "cell_type": "markdown",
   "metadata": {},
   "source": [
    "Run `test.ipynb` to see if you've successfully added records to this table."
   ]
  },
  {
   "cell_type": "markdown",
   "metadata": {},
   "source": [
    "### `users` Table"
   ]
  },
  {
   "cell_type": "markdown",
   "metadata": {},
   "source": [
    "#### Extract Data for Users Table\n",
    "\n",
    "- Select columns for user ID, first name, last name, gender and level and set to `user_df`\n",
    "- Drop duplicates by ID but keep last user found, this stores the current User level status\n",
    "- Keep in mind that the fact table stores the current level status at hearing the song, but\n",
    "  then the user can change its level."
   ]
  },
  {
   "cell_type": "code",
   "execution_count": null,
   "metadata": {
    "ExecuteTime": {
     "end_time": "2021-08-17T12:18:44.858539Z",
     "start_time": "2021-08-17T12:18:44.737860Z"
    }
   },
   "outputs": [],
   "source": [
    "#|-----20--char-----||-----20--char-----||-----20--char-----||-doc-lim-||code|#\n",
    "columns = [\"userId\", \"firstName\", \"lastName\", \"gender\", \"level\"]\n",
    "user_df = filtered_logs_df[columns].copy()\n",
    "user_df[:][\"firstName\"] = user_df[\"firstName\"].map(\n",
    "    single_quote_converter, na_action='ignore'\n",
    ")\n",
    "user_df[:][\"lastName\"] = user_df[\"lastName\"].map(\n",
    "    single_quote_converter, na_action='ignore'\n",
    ")\n",
    "user_df[:][\"gender\"] = user_df[\"gender\"].str.upper()\n",
    "user_df[:][\"userId\"] = user_df[\"userId\"].astype(str)\n",
    "user_df = user_df.drop_duplicates()\n",
    "user_df = user_df.drop_duplicates(subset='userId', keep='last')\n",
    "user_df = user_df.reset_index(drop=True)\n",
    "print(f\"Total number of users:\\n{user_df.shape}\\n\")\n",
    "user_df.head()"
   ]
  },
  {
   "cell_type": "markdown",
   "metadata": {},
   "source": [
    "#### Insert Records into Users Table"
   ]
  },
  {
   "cell_type": "markdown",
   "metadata": {},
   "source": [
    "Implement the `user_table_insert` query in `sql_queries.py` and run the cell below to insert records for the users in this log file into the `users` table. Remember to run `create_tables.py` before running the cell below to ensure you've created/resetted the `users` table in the sparkify database."
   ]
  },
  {
   "cell_type": "code",
   "execution_count": null,
   "metadata": {
    "ExecuteTime": {
     "end_time": "2021-08-17T12:18:49.531455Z",
     "start_time": "2021-08-17T12:18:49.525454Z"
    }
   },
   "outputs": [],
   "source": [
    "#|-----20--char-----||-----20--char-----||-----20--char-----||-doc-lim-||code|#\n",
    "# Test query creation\n",
    "query = sq.user_table_insert(dataframe=user_df.iloc[0:5], verbose=True)"
   ]
  },
  {
   "cell_type": "code",
   "execution_count": null,
   "metadata": {
    "ExecuteTime": {
     "end_time": "2021-08-17T12:18:53.593203Z",
     "start_time": "2021-08-17T12:18:53.578242Z"
    }
   },
   "outputs": [],
   "source": [
    "#|-----20--char-----||-----20--char-----||-----20--char-----||-doc-lim-||code|#\n",
    "start_index = 0\n",
    "end_index = user_df.shape[0]\n",
    "batch_size = 5_000\n",
    "for index in range(start_index, end_index, batch_size):\n",
    "    print(f\"Send batch from idx '{index}'...\")\n",
    "    query = sq.user_table_insert(\n",
    "        dataframe=user_df.iloc[index:index + batch_size]\n",
    "    )\n",
    "    cur.execute(query)\n",
    "    conn.commit()"
   ]
  },
  {
   "cell_type": "markdown",
   "metadata": {},
   "source": [
    "Run `test.ipynb` to see if you've successfully added records to this table."
   ]
  },
  {
   "cell_type": "markdown",
   "metadata": {},
   "source": [
    "### `songplays` Table"
   ]
  },
  {
   "cell_type": "markdown",
   "metadata": {},
   "source": [
    "#### Extract Data and Songplays Table"
   ]
  },
  {
   "cell_type": "markdown",
   "metadata": {},
   "source": [
    "This one is a little more complicated since information from the songs table, artists table, and original log file are all needed for the `songplays` table. Since the log file does not specify an ID for either the song or the artist, you'll need to get the song ID and artist ID by querying the songs and artists tables to find matches based on song title, artist name, and song duration time.\n",
    "- Implement the `song_select` query in `sql_queries.py` to find the song ID and artist ID based on the title, artist name, and duration of a song.\n",
    "- Select the timestamp, user ID, level, song ID, artist ID, session ID, location, and user agent and set to `songplay_data`\n",
    "\n",
    "> **length** in log files is the song duration in seconds"
   ]
  },
  {
   "cell_type": "markdown",
   "metadata": {},
   "source": [
    "#### Update `artists` and `songs` tables"
   ]
  },
  {
   "cell_type": "markdown",
   "metadata": {},
   "source": [
    "<!--\n",
    "#|-----20--char-----||-----20--char-----||-----20--char-----||-doc-lim-||code|#\n",
    "-->\n",
    "During processing current project, missing artists and songs were identified.\n",
    "\n",
    "The log files contains artists and songs that are not registered in their\n",
    "respective tables `songs` and `artists`. Before perform the inclution data\n",
    "from the songplays, the missing songs and artists are included in the database,\n",
    "creating a predefined system to get own song and artist IDs.\n",
    "\n",
    "\n",
    "<!--\n",
    "#|-----20--char-----||-----20--char-----||-----20--char-----||-doc-lim-||code|#\n",
    "-->"
   ]
  },
  {
   "cell_type": "markdown",
   "metadata": {},
   "source": [
    "##### Get songs and artists from logs"
   ]
  },
  {
   "cell_type": "code",
   "execution_count": null,
   "metadata": {
    "ExecuteTime": {
     "end_time": "2021-08-17T12:18:57.447216Z",
     "start_time": "2021-08-17T12:18:57.430260Z"
    }
   },
   "outputs": [],
   "source": [
    "songs_df.head()"
   ]
  },
  {
   "cell_type": "code",
   "execution_count": null,
   "metadata": {
    "ExecuteTime": {
     "end_time": "2021-08-17T12:19:01.353817Z",
     "start_time": "2021-08-17T12:19:01.327886Z"
    }
   },
   "outputs": [],
   "source": [
    "#|-----20--char-----||-----20--char-----||-----20--char-----||-doc-lim-||code|#\n",
    "songs_columns = [\"song_id\", \"title\", \"artist_id\", \"artist_name\", \"duration\"]\n",
    "all_songs_df = songs_df[songs_columns].copy()\n",
    "all_songs_df = all_songs_df.drop_duplicates()\n",
    "all_songs_df = all_songs_df.reset_index(drop=True)\n",
    "print(f\"Number of rows:\\n{all_songs_df.shape[0]}\\n\")\n",
    "all_songs_df.head()"
   ]
  },
  {
   "cell_type": "code",
   "execution_count": null,
   "metadata": {
    "ExecuteTime": {
     "end_time": "2021-08-17T12:19:05.796107Z",
     "start_time": "2021-08-17T12:19:05.768175Z"
    }
   },
   "outputs": [],
   "source": [
    "filtered_logs_df.head()"
   ]
  },
  {
   "cell_type": "code",
   "execution_count": null,
   "metadata": {
    "ExecuteTime": {
     "end_time": "2021-08-17T12:24:40.503771Z",
     "start_time": "2021-08-17T12:24:40.475332Z"
    },
    "scrolled": false
   },
   "outputs": [],
   "source": [
    "#|-----20--char-----||-----20--char-----||-----20--char-----||-doc-lim-||code|#\n",
    "logs_columns = [\"song\", \"artist\", \"length\"]\n",
    "all_logs_df = filtered_logs_df[logs_columns].copy()\n",
    "all_logs_df = all_logs_df.drop_duplicates()\n",
    "all_logs_df = all_logs_df.reset_index(drop=True)\n",
    "print(f\"Number of rows:\\n{all_logs_df.shape[0]}\\n\")\n",
    "all_logs_df.head()"
   ]
  },
  {
   "cell_type": "markdown",
   "metadata": {},
   "source": [
    "##### Get missed artists"
   ]
  },
  {
   "cell_type": "code",
   "execution_count": null,
   "metadata": {
    "ExecuteTime": {
     "end_time": "2021-08-17T12:24:46.512353Z",
     "start_time": "2021-08-17T12:24:46.483428Z"
    }
   },
   "outputs": [],
   "source": [
    "#|-----20--char-----||-----20--char-----||-----20--char-----||-doc-lim-||code|#\n",
    "# Keep only artists no located in 'all_songs_df'\n",
    "artist_df = all_logs_df[\n",
    "    ~all_logs_df[['artist']].isin(all_songs_df[['artist_name']])\n",
    "].copy()\n",
    "artist_df = artist_df[['artist']]\n",
    "artist_df = artist_df.drop_duplicates()\n",
    "artist_df = artist_df.reset_index(drop=True)\n",
    "print(f\"Number of rows:\\n{artist_df.shape[0]}\\n\")\n",
    "artist_df.head()"
   ]
  },
  {
   "cell_type": "markdown",
   "metadata": {},
   "source": [
    "##### Assign UUID to artists"
   ]
  },
  {
   "cell_type": "code",
   "execution_count": null,
   "metadata": {
    "ExecuteTime": {
     "end_time": "2021-08-17T12:24:50.816056Z",
     "start_time": "2021-08-17T12:24:50.770181Z"
    }
   },
   "outputs": [],
   "source": [
    "#|-----20--char-----||-----20--char-----||-----20--char-----||-doc-lim-||code|#\n",
    "artist_df.insert(\n",
    "    loc=0,\n",
    "    column='artist_id',\n",
    "    value=list(\n",
    "        map(\n",
    "            lambda item: uuid.uuid3(uuid.NAMESPACE_URL, item).hex[:18],\n",
    "            artist_df['artist']\n",
    "        )\n",
    "    ),\n",
    "    allow_duplicates=True\n",
    ")\n",
    "artist_df.head()"
   ]
  },
  {
   "cell_type": "markdown",
   "metadata": {},
   "source": [
    "##### Generate complete artists dataframe"
   ]
  },
  {
   "cell_type": "code",
   "execution_count": null,
   "metadata": {
    "ExecuteTime": {
     "end_time": "2021-08-17T12:24:56.200358Z",
     "start_time": "2021-08-17T12:24:56.178385Z"
    }
   },
   "outputs": [],
   "source": [
    "#|-----20--char-----||-----20--char-----||-----20--char-----||-doc-lim-||code|#\n",
    "series_nan = nan_list = ['nan']*artist_df.shape[0]\n",
    "artist_df.insert(\n",
    "    loc=artist_df.shape[1],\n",
    "    column='location',\n",
    "    value=series_nan,\n",
    "    allow_duplicates=True\n",
    ")\n",
    "artist_df.insert(\n",
    "    loc=artist_df.shape[1],\n",
    "    column='latitude',\n",
    "    value=series_nan,\n",
    "    allow_duplicates=True\n",
    ")\n",
    "artist_df.insert(\n",
    "    loc=artist_df.shape[1],\n",
    "    column='longitude',\n",
    "    value=series_nan,\n",
    "    allow_duplicates=True\n",
    ")\n",
    "artist_df[:][\"artist\"] = artist_df[\"artist\"].map(\n",
    "    single_quote_converter, na_action='ignore'\n",
    ")\n",
    "artist_df.head()"
   ]
  },
  {
   "cell_type": "markdown",
   "metadata": {},
   "source": [
    "##### Upload missed artist data to `artists` table"
   ]
  },
  {
   "cell_type": "code",
   "execution_count": null,
   "metadata": {
    "ExecuteTime": {
     "end_time": "2021-08-17T12:25:00.796918Z",
     "start_time": "2021-08-17T12:25:00.582491Z"
    }
   },
   "outputs": [],
   "source": [
    "#|-----20--char-----||-----20--char-----||-----20--char-----||-doc-lim-||code|#\n",
    "start_index = 0\n",
    "end_index = artist_df.shape[0]\n",
    "batch_size = 5_000\n",
    "for index in range(start_index, end_index, batch_size):\n",
    "    print(f\"Send batch from index '{index}'...\")\n",
    "    query = sq.artist_table_insert(\n",
    "        dataframe=artist_df.iloc[index:index + batch_size]\n",
    "    )\n",
    "    cur.execute(query)\n",
    "    conn.commit()"
   ]
  },
  {
   "cell_type": "markdown",
   "metadata": {},
   "source": [
    "##### Get missed songs"
   ]
  },
  {
   "cell_type": "code",
   "execution_count": null,
   "metadata": {
    "ExecuteTime": {
     "end_time": "2021-08-17T12:25:04.975733Z",
     "start_time": "2021-08-17T12:25:04.883971Z"
    }
   },
   "outputs": [],
   "source": [
    "len([item for item in list(all_logs_df['song']) if item not in list(all_songs_df['title'])])"
   ]
  },
  {
   "cell_type": "code",
   "execution_count": null,
   "metadata": {
    "ExecuteTime": {
     "end_time": "2021-08-17T12:25:08.998560Z",
     "start_time": "2021-08-17T12:25:08.965137Z"
    }
   },
   "outputs": [],
   "source": [
    "#|-----20--char-----||-----20--char-----||-----20--char-----||-doc-lim-||code|#\n",
    "# Keep only songs no located in 'all_songs_df'\n",
    "song_df = all_logs_df[\n",
    "    ~all_logs_df[['song', 'artist', 'length']].isin(all_songs_df[['title', 'artist_name', 'duration']])\n",
    "].copy()\n",
    "song_df = song_df.drop_duplicates()\n",
    "song_df = song_df.reset_index(drop=True)\n",
    "print(f\"Number of rows:\\n{song_df.shape[0]}\\n\")\n",
    "song_df.head()"
   ]
  },
  {
   "cell_type": "markdown",
   "metadata": {},
   "source": [
    "##### Assign UUID to songs"
   ]
  },
  {
   "cell_type": "code",
   "execution_count": null,
   "metadata": {
    "ExecuteTime": {
     "end_time": "2021-08-17T12:25:14.090060Z",
     "start_time": "2021-08-17T12:25:13.985342Z"
    }
   },
   "outputs": [],
   "source": [
    "#|-----20--char-----||-----20--char-----||-----20--char-----||-doc-lim-||code|#\n",
    "song_df.insert(\n",
    "    loc=0,\n",
    "    column='song_id',\n",
    "    value=list(\n",
    "        map(\n",
    "            lambda item: uuid.uuid3(uuid.NAMESPACE_URL, item).hex[:18],\n",
    "            song_df[['song', 'length']].apply(\n",
    "                lambda row: row[0]+str(row[1]),\n",
    "                axis=1\n",
    "            )\n",
    "        )\n",
    "    ),\n",
    "    allow_duplicates=True\n",
    ")\n",
    "song_df[:][\"song\"] = song_df[\"song\"].map(\n",
    "    single_quote_converter, na_action='ignore'\n",
    ")\n",
    "song_df.head()"
   ]
  },
  {
   "cell_type": "markdown",
   "metadata": {},
   "source": [
    "##### Get artist id"
   ]
  },
  {
   "cell_type": "code",
   "execution_count": null,
   "metadata": {
    "ExecuteTime": {
     "end_time": "2021-08-17T12:25:18.843684Z",
     "start_time": "2021-08-17T12:25:18.772873Z"
    }
   },
   "outputs": [],
   "source": [
    "#|-----20--char-----||-----20--char-----||-----20--char-----||-doc-lim-||code|#\n",
    "song_df['artist'] = song_df['artist'].map(\n",
    "    lambda item: uuid.uuid3(uuid.NAMESPACE_URL, item).hex[:18]\n",
    ")\n",
    "song_df.head()"
   ]
  },
  {
   "cell_type": "markdown",
   "metadata": {},
   "source": [
    "##### Generate complete songs dataframe"
   ]
  },
  {
   "cell_type": "code",
   "execution_count": null,
   "metadata": {
    "ExecuteTime": {
     "end_time": "2021-08-17T12:25:23.128744Z",
     "start_time": "2021-08-17T12:25:23.103811Z"
    }
   },
   "outputs": [],
   "source": [
    "#|-----20--char-----||-----20--char-----||-----20--char-----||-doc-lim-||code|#\n",
    "series_nan = nan_list = ['nan']*song_df.shape[0]\n",
    "song_df.insert(\n",
    "    loc=3,\n",
    "    column='year',\n",
    "    value=series_nan,\n",
    "    allow_duplicates=True\n",
    ")\n",
    "song_df = song_df.drop_duplicates()\n",
    "song_df.head()"
   ]
  },
  {
   "cell_type": "markdown",
   "metadata": {},
   "source": [
    "##### Upload missed songs data to `songs` table"
   ]
  },
  {
   "cell_type": "markdown",
   "metadata": {},
   "source": [
    "<!--\n",
    "#|-----20--char-----||-----20--char-----||-----20--char-----||-doc-lim-||code|#\n",
    "-->\n",
    "The new UUIDs in songs and artists are in lower case to diferentiate between\n",
    "the IDs from `song_data` and the IDs generated locally. On this step the new\n",
    "songs and artists are uploaded to the `songs` and `artists` tables."
   ]
  },
  {
   "cell_type": "code",
   "execution_count": null,
   "metadata": {
    "ExecuteTime": {
     "end_time": "2021-08-17T12:25:29.473837Z",
     "start_time": "2021-08-17T12:25:29.007991Z"
    }
   },
   "outputs": [],
   "source": [
    "#|-----20--char-----||-----20--char-----||-----20--char-----||-doc-lim-||code|#\n",
    "start_index = 0\n",
    "end_index = song_df.shape[0]\n",
    "batch_size = 5_000\n",
    "for index in range(start_index, end_index, batch_size):\n",
    "    print(f\"Send batch from idx '{index}'...\")\n",
    "    query = sq.song_table_insert(\n",
    "        dataframe=song_df.iloc[index:index + batch_size]\n",
    "    )\n",
    "    cur.execute(query)\n",
    "    conn.commit()"
   ]
  },
  {
   "cell_type": "markdown",
   "metadata": {},
   "source": [
    "#### Insert Records into Songplays Table\n",
    "- Implement the `songplay_table_insert` query and run the cell below to insert records for the songplay actions in this log file into the `songplays` table. Remember to run `create_tables.py` before running the cell below to ensure you've created/resetted the `songplays` table in the sparkify database."
   ]
  },
  {
   "cell_type": "markdown",
   "metadata": {},
   "source": [
    "##### Build base dataframe"
   ]
  },
  {
   "cell_type": "code",
   "execution_count": null,
   "metadata": {
    "ExecuteTime": {
     "end_time": "2021-08-17T12:34:28.568910Z",
     "start_time": "2021-08-17T12:34:28.346909Z"
    }
   },
   "outputs": [],
   "source": [
    "#|-----20--char-----||-----20--char-----||-----20--char-----||-doc-lim-||code|#\n",
    "columns = [\n",
    "    \"ts\",\n",
    "    \"userId\",\n",
    "    \"level\",\n",
    "    \"song\",\n",
    "    \"artist\",\n",
    "    \"sessionId\",\n",
    "    \"location\",\n",
    "    \"userAgent\"\n",
    "]\n",
    "song_plays_df = filtered_logs_df[columns].copy()\n",
    "\n",
    "song_plays_df[\"ts\"] = song_plays_df[\"ts\"].dt.strftime('%Y-%m-%dT%H:%M:%S')\n",
    "song_plays_df[\"userId\"] = song_plays_df[\"userId\"].astype(str)\n",
    "song_plays_df[\"sessionId\"] = song_plays_df[\"sessionId\"].astype(str)\n",
    "song_plays_df = song_plays_df.drop_duplicates()\n",
    "song_plays_df = song_plays_df.reset_index(drop=True)\n",
    "song_plays_df[\"location\"] = song_plays_df[\"location\"].map(\n",
    "    single_quote_converter, na_action='ignore'\n",
    ")\n",
    "song_plays_df[\"userAgent\"] = song_plays_df[\"userAgent\"].map(\n",
    "    single_quote_converter, na_action='ignore'\n",
    ")\n",
    "song_plays_df[\"song\"] = song_plays_df[\"song\"].map(\n",
    "    single_quote_converter, na_action='ignore'\n",
    ")\n",
    "song_plays_df[\"artist\"] = song_plays_df[\"artist\"].map(\n",
    "    single_quote_converter, na_action='ignore'\n",
    ")\n",
    "print(f\"Total number of played songs:\\n{song_plays_df.shape[0]}\\n\")\n",
    "song_plays_df.head()\n",
    "#|-----20--char-----||-----20--char-----||-----20--char-----||-doc-lim-||code|#"
   ]
  },
  {
   "cell_type": "markdown",
   "metadata": {},
   "source": [
    "##### Load corresponding IDs"
   ]
  },
  {
   "cell_type": "code",
   "execution_count": null,
   "metadata": {
    "ExecuteTime": {
     "end_time": "2021-08-17T12:34:33.995440Z",
     "start_time": "2021-08-17T12:34:33.988459Z"
    }
   },
   "outputs": [],
   "source": [
    "#|-----20--char-----||-----20--char-----||-----20--char-----||-doc-lim-||code|#\n",
    "# Test query\n",
    "query = sq.song_select(\n",
    "    dataframe=song_plays_df[[\"song\", \"artist\"]].iloc[:2],\n",
    "    verbose=True\n",
    ")"
   ]
  },
  {
   "cell_type": "code",
   "execution_count": null,
   "metadata": {
    "ExecuteTime": {
     "end_time": "2021-08-17T12:34:39.085066Z",
     "start_time": "2021-08-17T12:34:39.055148Z"
    }
   },
   "outputs": [],
   "source": [
    "query = sq.song_select(\n",
    "        dataframe=song_plays_df[columns].iloc[index:index + batch_size]\n",
    "    )"
   ]
  },
  {
   "cell_type": "code",
   "execution_count": null,
   "metadata": {
    "ExecuteTime": {
     "end_time": "2021-08-17T12:35:16.542534Z",
     "start_time": "2021-08-17T12:35:16.358135Z"
    }
   },
   "outputs": [],
   "source": [
    "#|-----20--char-----||-----20--char-----||-----20--char-----||-doc-lim-||code|#\n",
    "start_index = 0\n",
    "end_index = song_plays_df.shape[0]\n",
    "batch_size = 5_000\n",
    "columns = [\"song\", \"artist\"]\n",
    "for index in range(start_index, end_index, batch_size):\n",
    "    print(f\"Get batch from index '{index}'...\")\n",
    "    query = sq.song_select(\n",
    "        dataframe=song_plays_df[columns].iloc[index:index + batch_size]\n",
    "    )\n",
    "    temp_df = pd.read_sql(query, conn)\n",
    "    song_plays_df.loc[index:index+batch_size, 'song'] = temp_df['song_id']\n",
    "    song_plays_df.loc[index:index+batch_size, 'artist'] = temp_df['artist_id']\n",
    "\n",
    "song_plays_df.head()"
   ]
  },
  {
   "cell_type": "markdown",
   "metadata": {},
   "source": [
    "##### Upload songplays"
   ]
  },
  {
   "cell_type": "code",
   "execution_count": null,
   "metadata": {
    "ExecuteTime": {
     "end_time": "2021-08-17T12:35:27.342750Z",
     "start_time": "2021-08-17T12:35:27.338762Z"
    }
   },
   "outputs": [],
   "source": [
    "#|-----20--char-----||-----20--char-----||-----20--char-----||-doc-lim-||code|#\n",
    "# Test query creation\n",
    "query = sq.songplay_table_insert(\n",
    "    dataframe=song_plays_df.iloc[0:1],\n",
    "    verbose=True\n",
    ")"
   ]
  },
  {
   "cell_type": "code",
   "execution_count": null,
   "metadata": {
    "ExecuteTime": {
     "end_time": "2021-08-17T12:35:32.086043Z",
     "start_time": "2021-08-17T12:35:32.079062Z"
    }
   },
   "outputs": [],
   "source": [
    "song_plays_df.shape"
   ]
  },
  {
   "cell_type": "code",
   "execution_count": null,
   "metadata": {
    "ExecuteTime": {
     "end_time": "2021-08-17T12:35:37.906055Z",
     "start_time": "2021-08-17T12:35:36.999367Z"
    }
   },
   "outputs": [],
   "source": [
    "#|-----20--char-----||-----20--char-----||-----20--char-----||-doc-lim-||code|#\n",
    "start_index = 0\n",
    "end_index = song_plays_df.shape[0]\n",
    "batch_size = 5_000\n",
    "for index in range(start_index, end_index, batch_size):\n",
    "    print(f\"Send batch from idx '{index}'...\")\n",
    "    query = sq.songplay_table_insert(\n",
    "        dataframe=song_plays_df.iloc[index:index+batch_size]\n",
    "    )\n",
    "    cur.execute(query)\n",
    "    conn.commit()"
   ]
  },
  {
   "cell_type": "markdown",
   "metadata": {},
   "source": [
    "Run `test.ipynb` to see if you've successfully added records to this table."
   ]
  },
  {
   "cell_type": "markdown",
   "metadata": {},
   "source": [
    "## Close Connection to Sparkify Database"
   ]
  },
  {
   "cell_type": "code",
   "execution_count": null,
   "metadata": {
    "ExecuteTime": {
     "end_time": "2021-08-17T12:35:43.892912Z",
     "start_time": "2021-08-17T12:35:43.888921Z"
    }
   },
   "outputs": [],
   "source": [
    "conn.close()"
   ]
  },
  {
   "cell_type": "markdown",
   "metadata": {},
   "source": [
    "> Implement `etl.py`\n",
    "> Use what you've completed in this notebook to implement `etl.py`."
   ]
  }
 ],
 "metadata": {
  "kernelspec": {
   "display_name": "Python v.3.9.6 (data_engineer)",
   "language": "python",
   "name": "data_engineer"
  },
  "toc": {
   "base_numbering": 1,
   "nav_menu": {},
   "number_sections": true,
   "sideBar": true,
   "skip_h1_title": true,
   "title_cell": "Table of Contents",
   "title_sidebar": "Contents",
   "toc_cell": false,
   "toc_position": {
    "height": "calc(100% - 180px)",
    "left": "10px",
    "top": "150px",
    "width": "370.133px"
   },
   "toc_section_display": true,
   "toc_window_display": true
  },
  "varInspector": {
   "cols": {
    "lenName": 16,
    "lenType": 16,
    "lenVar": 40
   },
   "kernels_config": {
    "python": {
     "delete_cmd_postfix": "",
     "delete_cmd_prefix": "del ",
     "library": "var_list.py",
     "varRefreshCmd": "print(var_dic_list())"
    },
    "r": {
     "delete_cmd_postfix": ") ",
     "delete_cmd_prefix": "rm(",
     "library": "var_list.r",
     "varRefreshCmd": "cat(var_dic_list()) "
    }
   },
   "types_to_exclude": [
    "module",
    "function",
    "builtin_function_or_method",
    "instance",
    "_Feature"
   ],
   "window_display": false
  }
 },
 "nbformat": 4,
 "nbformat_minor": 2
}
