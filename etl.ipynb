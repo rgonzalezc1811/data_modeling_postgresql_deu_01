{
 "cells": [
  {
   "cell_type": "markdown",
   "metadata": {},
   "source": [
    "# ETL Processes\n",
    "Use this notebook to develop the ETL process for each of your tables before completing the `etl.py` file to load the whole datasets."
   ]
  },
  {
   "cell_type": "markdown",
   "metadata": {},
   "source": [
    "## Open Connection"
   ]
  },
  {
   "cell_type": "code",
   "execution_count": 1,
   "metadata": {},
   "outputs": [],
   "source": [
    "import os\n",
    "import re\n",
    "import glob\n",
    "import uuid\n",
    "import psycopg2\n",
    "import pandas as pd\n",
    "import sql_queries as sq"
   ]
  },
  {
   "cell_type": "code",
   "execution_count": 3,
   "metadata": {},
   "outputs": [],
   "source": [
    "#|-----20--char-----||-----20--char-----||-----20--char-----||-doc-lim-||code|#\n",
    "conn = psycopg2.connect(\n",
    "    user=\"admin\",\n",
    "    password=\"<password>\",\n",
    "    host=\"localhost\", \n",
    "    port=\"5432\",\n",
    "    dbname=\"sparkifydb\"\n",
    ")\n",
    "cur = conn.cursor()\n",
    "#|-----20--char-----||-----20--char-----||-----20--char-----||-doc-lim-||code|#"
   ]
  },
  {
   "cell_type": "code",
   "execution_count": 4,
   "metadata": {},
   "outputs": [],
   "source": [
    "#|-----20--char-----||-----20--char-----||-----20--char-----||-doc-lim-||code|#\n",
    "def get_files(filepath):\n",
    "    all_files = []\n",
    "    for root, dirs, files in os.walk(filepath):\n",
    "        files = glob.glob(os.path.join(root,'*.json'))\n",
    "        for f in files :\n",
    "            all_files.append(os.path.abspath(f))\n",
    "    \n",
    "    return all_files\n",
    "\n",
    "def single_quote_converter(sentence):\n",
    "    sentence = re.sub(r'\\'', r'<single_quote_tag>', sentence)\n",
    "\n",
    "    return sentence\n",
    "#|-----20--char-----||-----20--char-----||-----20--char-----||-doc-lim-||code|#"
   ]
  },
  {
   "cell_type": "markdown",
   "metadata": {},
   "source": [
    "## Process `song_data`\n",
    "In this first part, you'll perform ETL on the first dataset, `song_data`, to create the `songs` and `artists` dimensional tables.\n",
    "\n",
    "Let's perform ETL on a single song file and load a single record into each table to start.\n",
    "- Use the `get_files` function provided above to get a list of all song JSON files in `data/song_data`\n",
    "- Select the first song in this list\n",
    "- Read the song file and view the data"
   ]
  },
  {
   "cell_type": "code",
   "execution_count": 5,
   "metadata": {},
   "outputs": [],
   "source": [
    "#|-----20--char-----||-----20--char-----||-----20--char-----||-doc-lim-||code|#\n",
    "song_files = get_files(os.path.join(os.getcwd(), \"data/song_data\"))"
   ]
  },
  {
   "cell_type": "code",
   "execution_count": 6,
   "metadata": {},
   "outputs": [
    {
     "name": "stdout",
     "output_type": "stream",
     "text": [
      "Total number of JSON files: 71\n",
      "Example index 0: TRAAAAW128F429D538.json\n"
     ]
    }
   ],
   "source": [
    "#|-----20--char-----||-----20--char-----||-----20--char-----||-doc-lim-||code|#\n",
    "print(f\"Total number of JSON files: {len(song_files)}\")\n",
    "print(f\"Example index 0: {os.path.basename(song_files[0])}\")"
   ]
  },
  {
   "cell_type": "code",
   "execution_count": 7,
   "metadata": {},
   "outputs": [],
   "source": [
    "#|-----20--char-----||-----20--char-----||-----20--char-----||-doc-lim-||code|#\n",
    "filepath = song_files[0]"
   ]
  },
  {
   "cell_type": "code",
   "execution_count": 8,
   "metadata": {},
   "outputs": [
    {
     "data": {
      "text/html": [
       "<div>\n",
       "<style scoped>\n",
       "    .dataframe tbody tr th:only-of-type {\n",
       "        vertical-align: middle;\n",
       "    }\n",
       "\n",
       "    .dataframe tbody tr th {\n",
       "        vertical-align: top;\n",
       "    }\n",
       "\n",
       "    .dataframe thead th {\n",
       "        text-align: right;\n",
       "    }\n",
       "</style>\n",
       "<table border=\"1\" class=\"dataframe\">\n",
       "  <thead>\n",
       "    <tr style=\"text-align: right;\">\n",
       "      <th></th>\n",
       "      <th>num_songs</th>\n",
       "      <th>artist_id</th>\n",
       "      <th>artist_latitude</th>\n",
       "      <th>artist_longitude</th>\n",
       "      <th>artist_location</th>\n",
       "      <th>artist_name</th>\n",
       "      <th>song_id</th>\n",
       "      <th>title</th>\n",
       "      <th>duration</th>\n",
       "      <th>year</th>\n",
       "    </tr>\n",
       "  </thead>\n",
       "  <tbody>\n",
       "    <tr>\n",
       "      <th>0</th>\n",
       "      <td>1</td>\n",
       "      <td>ARD7TVE1187B99BFB1</td>\n",
       "      <td>NaN</td>\n",
       "      <td>NaN</td>\n",
       "      <td>California - LA</td>\n",
       "      <td>Casual</td>\n",
       "      <td>SOMZWCG12A8C13C480</td>\n",
       "      <td>I Didn't Mean To</td>\n",
       "      <td>218.93179</td>\n",
       "      <td>0</td>\n",
       "    </tr>\n",
       "  </tbody>\n",
       "</table>\n",
       "</div>"
      ],
      "text/plain": [
       "   num_songs           artist_id  artist_latitude  artist_longitude  \\\n",
       "0          1  ARD7TVE1187B99BFB1              NaN               NaN   \n",
       "\n",
       "   artist_location artist_name             song_id             title  \\\n",
       "0  California - LA      Casual  SOMZWCG12A8C13C480  I Didn't Mean To   \n",
       "\n",
       "    duration  year  \n",
       "0  218.93179     0  "
      ]
     },
     "execution_count": 8,
     "metadata": {},
     "output_type": "execute_result"
    }
   ],
   "source": [
    "#|-----20--char-----||-----20--char-----||-----20--char-----||-doc-lim-||code|#\n",
    "songs_df = pd.read_json(filepath, lines=True)\n",
    "songs_df.head()"
   ]
  },
  {
   "cell_type": "code",
   "execution_count": 9,
   "metadata": {},
   "outputs": [
    {
     "name": "stdout",
     "output_type": "stream",
     "text": [
      "Artist ID, characters lenght: 18\n",
      "Artist ID, characters lenght: 18\n"
     ]
    }
   ],
   "source": [
    "#|-----20--char-----||-----20--char-----||-----20--char-----||-doc-lim-||code|#\n",
    "print(f\"Artist ID, characters lenght: {len(songs_df['artist_id'].values[0])}\")\n",
    "print(f\"Artist ID, characters lenght: {len(songs_df['song_id'].values[0])}\")"
   ]
  },
  {
   "cell_type": "markdown",
   "metadata": {},
   "source": [
    "### `artists` Table"
   ]
  },
  {
   "cell_type": "markdown",
   "metadata": {},
   "source": [
    "#### Extract Data for Artists Table"
   ]
  },
  {
   "cell_type": "markdown",
   "metadata": {},
   "source": [
    "- Select columns for artist ID, name, location, latitude, and longitude\n",
    "- Use `df.values` to select just the values from the dataframe\n",
    "- Index to select the first (only) record in the dataframe\n",
    "- Convert the array to a list and set it to `artist_data`"
   ]
  },
  {
   "cell_type": "code",
   "execution_count": 10,
   "metadata": {},
   "outputs": [
    {
     "name": "stdout",
     "output_type": "stream",
     "text": [
      "Total number of artists:\n",
      "1\n",
      "\n"
     ]
    },
    {
     "data": {
      "text/html": [
       "<div>\n",
       "<style scoped>\n",
       "    .dataframe tbody tr th:only-of-type {\n",
       "        vertical-align: middle;\n",
       "    }\n",
       "\n",
       "    .dataframe tbody tr th {\n",
       "        vertical-align: top;\n",
       "    }\n",
       "\n",
       "    .dataframe thead th {\n",
       "        text-align: right;\n",
       "    }\n",
       "</style>\n",
       "<table border=\"1\" class=\"dataframe\">\n",
       "  <thead>\n",
       "    <tr style=\"text-align: right;\">\n",
       "      <th></th>\n",
       "      <th>artist_id</th>\n",
       "      <th>artist_name</th>\n",
       "      <th>artist_location</th>\n",
       "      <th>artist_latitude</th>\n",
       "      <th>artist_longitude</th>\n",
       "    </tr>\n",
       "  </thead>\n",
       "  <tbody>\n",
       "    <tr>\n",
       "      <th>0</th>\n",
       "      <td>ARD7TVE1187B99BFB1</td>\n",
       "      <td>Casual</td>\n",
       "      <td>California - LA</td>\n",
       "      <td>NaN</td>\n",
       "      <td>NaN</td>\n",
       "    </tr>\n",
       "  </tbody>\n",
       "</table>\n",
       "</div>"
      ],
      "text/plain": [
       "            artist_id artist_name  artist_location  artist_latitude  \\\n",
       "0  ARD7TVE1187B99BFB1      Casual  California - LA              NaN   \n",
       "\n",
       "   artist_longitude  \n",
       "0               NaN  "
      ]
     },
     "execution_count": 10,
     "metadata": {},
     "output_type": "execute_result"
    }
   ],
   "source": [
    "#|-----20--char-----||-----20--char-----||-----20--char-----||-doc-lim-||code|#\n",
    "columns = [\n",
    "    \"artist_id\",\n",
    "    \"artist_name\",\n",
    "    \"artist_location\",\n",
    "    \"artist_latitude\",\n",
    "    \"artist_longitude\"\n",
    "]\n",
    "artist_data = songs_df[columns].copy()\n",
    "artist_data[\"artist_name\"] = artist_data[\"artist_name\"].map(\n",
    "    single_quote_converter, na_action='ignore'\n",
    ")\n",
    "artist_data[\"artist_location\"] = artist_data[\"artist_location\"].map(\n",
    "    single_quote_converter, na_action='ignore'\n",
    ")\n",
    "artist_data = artist_data.drop_duplicates()\n",
    "artist_data = artist_data.reset_index(drop=True)\n",
    "print(f\"Total number of artists:\\n{artist_data.shape[0]}\\n\")\n",
    "artist_data.head()\n",
    "#|-----20--char-----||-----20--char-----||-----20--char-----||-doc-lim-||code|#"
   ]
  },
  {
   "cell_type": "markdown",
   "metadata": {},
   "source": [
    "##### Insert Record into Artist Table"
   ]
  },
  {
   "cell_type": "markdown",
   "metadata": {},
   "source": [
    "Implement the `artist_table_insert` query in `sql_queries.py` and run the cell below to insert a record for this song's artist into the `artists` table. Remember to run `create_tables.py` before running the cell below to ensure you've created/resetted the `artists` table in the sparkify database."
   ]
  },
  {
   "cell_type": "code",
   "execution_count": 11,
   "metadata": {},
   "outputs": [
    {
     "name": "stdout",
     "output_type": "stream",
     "text": [
      "Print a query example (incomplete data, just a sample).\n",
      "\n",
      "SQL statement:\n",
      "INSERT INTO artists\n",
      "(artist_id, \"name\", location, latitude, longitude)\n",
      "VALUES\n",
      "    ('ARD7TVE1187B99BFB1', 'Casual', 'California - LA', NULL, NULL)\n",
      "ON CONFLICT (artist_id)\n",
      "DO UPDATE SET\n",
      "\"name\" = EXCLUDED.\"name\",\n",
      "location = EXCLUDED.location,\n",
      "latitude = EXCLUDED.latitude,\n",
      "longitude = EXCLUDED.longitude;\n",
      "\n",
      "\n"
     ]
    }
   ],
   "source": [
    "#|-----20--char-----||-----20--char-----||-----20--char-----||-doc-lim-||code|#\n",
    "# Test query creation\n",
    "print(\"Print a query example (incomplete data, just a sample).\\n\")\n",
    "query = sq.artist_table_insert(dataframe=artist_data[0:5], verbose=True)"
   ]
  },
  {
   "cell_type": "code",
   "execution_count": 12,
   "metadata": {},
   "outputs": [
    {
     "name": "stdout",
     "output_type": "stream",
     "text": [
      "Send batch from idx '0'...\n"
     ]
    }
   ],
   "source": [
    "#|-----20--char-----||-----20--char-----||-----20--char-----||-doc-lim-||code|#\n",
    "start_index = 0\n",
    "end_index = artist_data.shape[0]\n",
    "batch_size = 5_000\n",
    "for index in range(start_index, end_index, batch_size):\n",
    "    print(f\"Send batch from idx '{index}'...\")\n",
    "    query = sq.artist_table_insert(\n",
    "        dataframe=artist_data.iloc[index:index + batch_size]\n",
    "    )\n",
    "    cur.execute(query)\n",
    "    conn.commit()"
   ]
  },
  {
   "cell_type": "markdown",
   "metadata": {},
   "source": [
    "Run `test.ipynb` to see if you've successfully added a record to this table."
   ]
  },
  {
   "cell_type": "markdown",
   "metadata": {},
   "source": [
    "##### Results (DBeaver)"
   ]
  },
  {
   "cell_type": "markdown",
   "metadata": {},
   "source": [
    "<!--\n",
    "#|-----20--char-----||-----20--char-----||-----20--char-----||-doc-lim-||code|#\n",
    "-->\n",
    "\n",
    "<!-- Original image size [563 164] -->\n",
    "<br/><br/> <!-- Blank line -->\n",
    "<div align=\"center\">\n",
    "  <img width=\"563\" height=\"164\" src=\"img/artists_results.png\" />\n",
    "</div>\n",
    "<br/><br/> <!-- Blank line -->"
   ]
  },
  {
   "cell_type": "markdown",
   "metadata": {},
   "source": [
    "### `songs` Table"
   ]
  },
  {
   "cell_type": "markdown",
   "metadata": {},
   "source": [
    "#### Extract Data for Songs Table"
   ]
  },
  {
   "cell_type": "markdown",
   "metadata": {},
   "source": [
    "- Select columns for song ID, title, artist ID, year, and duration\n",
    "- Use `df.values` to select just the values from the dataframe\n",
    "- Index to select the first (only) record in the dataframe\n",
    "- Convert the array to a list and set it to `song_data`"
   ]
  },
  {
   "cell_type": "code",
   "execution_count": 13,
   "metadata": {},
   "outputs": [
    {
     "name": "stdout",
     "output_type": "stream",
     "text": [
      "Total number of songs:\n",
      "1\n",
      "\n"
     ]
    },
    {
     "data": {
      "text/html": [
       "<div>\n",
       "<style scoped>\n",
       "    .dataframe tbody tr th:only-of-type {\n",
       "        vertical-align: middle;\n",
       "    }\n",
       "\n",
       "    .dataframe tbody tr th {\n",
       "        vertical-align: top;\n",
       "    }\n",
       "\n",
       "    .dataframe thead th {\n",
       "        text-align: right;\n",
       "    }\n",
       "</style>\n",
       "<table border=\"1\" class=\"dataframe\">\n",
       "  <thead>\n",
       "    <tr style=\"text-align: right;\">\n",
       "      <th></th>\n",
       "      <th>song_id</th>\n",
       "      <th>title</th>\n",
       "      <th>artist_id</th>\n",
       "      <th>year</th>\n",
       "      <th>duration</th>\n",
       "    </tr>\n",
       "  </thead>\n",
       "  <tbody>\n",
       "    <tr>\n",
       "      <th>0</th>\n",
       "      <td>SOMZWCG12A8C13C480</td>\n",
       "      <td>I Didn&lt;single_quote_tag&gt;t Mean To</td>\n",
       "      <td>ARD7TVE1187B99BFB1</td>\n",
       "      <td>0</td>\n",
       "      <td>218.93179</td>\n",
       "    </tr>\n",
       "  </tbody>\n",
       "</table>\n",
       "</div>"
      ],
      "text/plain": [
       "              song_id                              title           artist_id  \\\n",
       "0  SOMZWCG12A8C13C480  I Didn<single_quote_tag>t Mean To  ARD7TVE1187B99BFB1   \n",
       "\n",
       "   year   duration  \n",
       "0     0  218.93179  "
      ]
     },
     "execution_count": 13,
     "metadata": {},
     "output_type": "execute_result"
    }
   ],
   "source": [
    "#|-----20--char-----||-----20--char-----||-----20--char-----||-doc-lim-||code|#\n",
    "columns = [\"song_id\", \"title\", \"artist_id\", \"year\", \"duration\"]\n",
    "song_data = songs_df[columns].copy()\n",
    "song_data[\"title\"] = song_data[\"title\"].map(\n",
    "    single_quote_converter, na_action='ignore'\n",
    ")\n",
    "song_data = song_data.drop_duplicates()\n",
    "song_data = song_data.reset_index(drop=True)\n",
    "print(f\"Total number of songs:\\n{song_data.shape[0]}\\n\")\n",
    "song_data.head()"
   ]
  },
  {
   "cell_type": "markdown",
   "metadata": {},
   "source": [
    "#### Insert Record into Song Table\n",
    "Implement the `song_table_insert` query in `sql_queries.py` and run the cell below to insert a record for this song into the `songs` table. Remember to run `create_tables.py` before running the cell below to ensure you've created/resetted the `songs` table in the sparkify database."
   ]
  },
  {
   "cell_type": "code",
   "execution_count": 14,
   "metadata": {},
   "outputs": [
    {
     "name": "stdout",
     "output_type": "stream",
     "text": [
      "SQL statement:\n",
      "INSERT INTO songs\n",
      "(song_id, title, artist_id, \"year\", duration)\n",
      "VALUES\n",
      "    ('SOMZWCG12A8C13C480', 'I Didn''t Mean To', 'ARD7TVE1187B99BFB1', 0, 218.93179)\n",
      "ON CONFLICT (song_id)\n",
      "DO UPDATE SET\n",
      "title = EXCLUDED.title,\n",
      "artist_id = EXCLUDED.artist_id,\n",
      "\"year\" = EXCLUDED.\"year\",\n",
      "duration = EXCLUDED.duration;\n",
      "\n",
      "\n"
     ]
    }
   ],
   "source": [
    "#|-----20--char-----||-----20--char-----||-----20--char-----||-doc-lim-||code|#\n",
    "# Test query creation\n",
    "query = sq.song_table_insert(dataframe=song_data.iloc[0:5], verbose=True)"
   ]
  },
  {
   "cell_type": "code",
   "execution_count": 15,
   "metadata": {},
   "outputs": [
    {
     "name": "stdout",
     "output_type": "stream",
     "text": [
      "Send batch from idx '0'...\n"
     ]
    }
   ],
   "source": [
    "#|-----20--char-----||-----20--char-----||-----20--char-----||-doc-lim-||code|#\n",
    "start_index = 0\n",
    "end_index = song_data.shape[0]\n",
    "batch_size = 5_000\n",
    "for index in range(start_index, end_index, batch_size):\n",
    "    print(f\"Send batch from idx '{index}'...\")\n",
    "    query = sq.song_table_insert(\n",
    "        dataframe=song_data.iloc[index:index + batch_size]\n",
    "    )\n",
    "    cur.execute(query)\n",
    "    conn.commit()"
   ]
  },
  {
   "cell_type": "markdown",
   "metadata": {},
   "source": [
    "Run `test.ipynb` to see if you've successfully added a record to this table."
   ]
  },
  {
   "cell_type": "markdown",
   "metadata": {},
   "source": [
    "##### Results (DBeaver)"
   ]
  },
  {
   "cell_type": "markdown",
   "metadata": {},
   "source": [
    "<!--\n",
    "#|-----20--char-----||-----20--char-----||-----20--char-----||-doc-lim-||code|#\n",
    "-->\n",
    "\n",
    "<!-- Original image size [569 162] -->\n",
    "<br/><br/> <!-- Blank line -->\n",
    "<div align=\"center\">\n",
    "  <img width=\"569\" height=\"162\" src=\"img/songs_results.png\" />\n",
    "</div>\n",
    "<br/><br/> <!-- Blank line -->"
   ]
  },
  {
   "cell_type": "markdown",
   "metadata": {},
   "source": [
    "## Process `log_data`\n",
    "In this part, you'll perform ETL on the second dataset, `log_data`, to create the `time` and `users` dimensional tables, as well as the `songplays` fact table.\n",
    "\n",
    "Let's perform ETL on a single log file and load a single record into each table.\n",
    "- Use the `get_files` function provided above to get a list of all log JSON files in `data/log_data`\n",
    "- Select the first log file in this list\n",
    "- Read the log file and view the data"
   ]
  },
  {
   "cell_type": "code",
   "execution_count": 16,
   "metadata": {},
   "outputs": [],
   "source": [
    "#|-----20--char-----||-----20--char-----||-----20--char-----||-doc-lim-||code|#\n",
    "log_files = get_files(os.path.join(os.getcwd(), \"data/log_data\"))"
   ]
  },
  {
   "cell_type": "code",
   "execution_count": 17,
   "metadata": {},
   "outputs": [
    {
     "name": "stdout",
     "output_type": "stream",
     "text": [
      "Total number of JSON files: 30\n",
      "Example index 0: 2018-11-01-events.json\n"
     ]
    }
   ],
   "source": [
    "#|-----20--char-----||-----20--char-----||-----20--char-----||-doc-lim-||code|#\n",
    "print(f\"Total number of JSON files: {len(log_files)}\")\n",
    "print(f\"Example index 0: {os.path.basename(log_files[0])}\")"
   ]
  },
  {
   "cell_type": "code",
   "execution_count": 18,
   "metadata": {},
   "outputs": [],
   "source": [
    "#|-----20--char-----||-----20--char-----||-----20--char-----||-doc-lim-||code|#\n",
    "filepath = log_files[0]"
   ]
  },
  {
   "cell_type": "code",
   "execution_count": 19,
   "metadata": {},
   "outputs": [
    {
     "name": "stdout",
     "output_type": "stream",
     "text": [
      "Total number of logs: 15\n"
     ]
    },
    {
     "data": {
      "text/html": [
       "<div>\n",
       "<style scoped>\n",
       "    .dataframe tbody tr th:only-of-type {\n",
       "        vertical-align: middle;\n",
       "    }\n",
       "\n",
       "    .dataframe tbody tr th {\n",
       "        vertical-align: top;\n",
       "    }\n",
       "\n",
       "    .dataframe thead th {\n",
       "        text-align: right;\n",
       "    }\n",
       "</style>\n",
       "<table border=\"1\" class=\"dataframe\">\n",
       "  <thead>\n",
       "    <tr style=\"text-align: right;\">\n",
       "      <th></th>\n",
       "      <th>artist</th>\n",
       "      <th>auth</th>\n",
       "      <th>firstName</th>\n",
       "      <th>gender</th>\n",
       "      <th>itemInSession</th>\n",
       "      <th>lastName</th>\n",
       "      <th>length</th>\n",
       "      <th>level</th>\n",
       "      <th>location</th>\n",
       "      <th>method</th>\n",
       "      <th>page</th>\n",
       "      <th>registration</th>\n",
       "      <th>sessionId</th>\n",
       "      <th>song</th>\n",
       "      <th>status</th>\n",
       "      <th>ts</th>\n",
       "      <th>userAgent</th>\n",
       "      <th>userId</th>\n",
       "    </tr>\n",
       "  </thead>\n",
       "  <tbody>\n",
       "    <tr>\n",
       "      <th>0</th>\n",
       "      <td>None</td>\n",
       "      <td>Logged In</td>\n",
       "      <td>Walter</td>\n",
       "      <td>M</td>\n",
       "      <td>0</td>\n",
       "      <td>Frye</td>\n",
       "      <td>NaN</td>\n",
       "      <td>free</td>\n",
       "      <td>San Francisco-Oakland-Hayward, CA</td>\n",
       "      <td>GET</td>\n",
       "      <td>Home</td>\n",
       "      <td>1540919166796</td>\n",
       "      <td>38</td>\n",
       "      <td>None</td>\n",
       "      <td>200</td>\n",
       "      <td>1541105830796</td>\n",
       "      <td>\"Mozilla/5.0 (Macintosh; Intel Mac OS X 10_9_4...</td>\n",
       "      <td>39</td>\n",
       "    </tr>\n",
       "    <tr>\n",
       "      <th>1</th>\n",
       "      <td>None</td>\n",
       "      <td>Logged In</td>\n",
       "      <td>Kaylee</td>\n",
       "      <td>F</td>\n",
       "      <td>0</td>\n",
       "      <td>Summers</td>\n",
       "      <td>NaN</td>\n",
       "      <td>free</td>\n",
       "      <td>Phoenix-Mesa-Scottsdale, AZ</td>\n",
       "      <td>GET</td>\n",
       "      <td>Home</td>\n",
       "      <td>1540344794796</td>\n",
       "      <td>139</td>\n",
       "      <td>None</td>\n",
       "      <td>200</td>\n",
       "      <td>1541106106796</td>\n",
       "      <td>\"Mozilla/5.0 (Windows NT 6.1; WOW64) AppleWebK...</td>\n",
       "      <td>8</td>\n",
       "    </tr>\n",
       "    <tr>\n",
       "      <th>2</th>\n",
       "      <td>Des'ree</td>\n",
       "      <td>Logged In</td>\n",
       "      <td>Kaylee</td>\n",
       "      <td>F</td>\n",
       "      <td>1</td>\n",
       "      <td>Summers</td>\n",
       "      <td>246.30812</td>\n",
       "      <td>free</td>\n",
       "      <td>Phoenix-Mesa-Scottsdale, AZ</td>\n",
       "      <td>PUT</td>\n",
       "      <td>NextSong</td>\n",
       "      <td>1540344794796</td>\n",
       "      <td>139</td>\n",
       "      <td>You Gotta Be</td>\n",
       "      <td>200</td>\n",
       "      <td>1541106106796</td>\n",
       "      <td>\"Mozilla/5.0 (Windows NT 6.1; WOW64) AppleWebK...</td>\n",
       "      <td>8</td>\n",
       "    </tr>\n",
       "    <tr>\n",
       "      <th>3</th>\n",
       "      <td>None</td>\n",
       "      <td>Logged In</td>\n",
       "      <td>Kaylee</td>\n",
       "      <td>F</td>\n",
       "      <td>2</td>\n",
       "      <td>Summers</td>\n",
       "      <td>NaN</td>\n",
       "      <td>free</td>\n",
       "      <td>Phoenix-Mesa-Scottsdale, AZ</td>\n",
       "      <td>GET</td>\n",
       "      <td>Upgrade</td>\n",
       "      <td>1540344794796</td>\n",
       "      <td>139</td>\n",
       "      <td>None</td>\n",
       "      <td>200</td>\n",
       "      <td>1541106132796</td>\n",
       "      <td>\"Mozilla/5.0 (Windows NT 6.1; WOW64) AppleWebK...</td>\n",
       "      <td>8</td>\n",
       "    </tr>\n",
       "    <tr>\n",
       "      <th>4</th>\n",
       "      <td>Mr Oizo</td>\n",
       "      <td>Logged In</td>\n",
       "      <td>Kaylee</td>\n",
       "      <td>F</td>\n",
       "      <td>3</td>\n",
       "      <td>Summers</td>\n",
       "      <td>144.03873</td>\n",
       "      <td>free</td>\n",
       "      <td>Phoenix-Mesa-Scottsdale, AZ</td>\n",
       "      <td>PUT</td>\n",
       "      <td>NextSong</td>\n",
       "      <td>1540344794796</td>\n",
       "      <td>139</td>\n",
       "      <td>Flat 55</td>\n",
       "      <td>200</td>\n",
       "      <td>1541106352796</td>\n",
       "      <td>\"Mozilla/5.0 (Windows NT 6.1; WOW64) AppleWebK...</td>\n",
       "      <td>8</td>\n",
       "    </tr>\n",
       "  </tbody>\n",
       "</table>\n",
       "</div>"
      ],
      "text/plain": [
       "    artist       auth firstName gender  itemInSession lastName     length  \\\n",
       "0     None  Logged In    Walter      M              0     Frye        NaN   \n",
       "1     None  Logged In    Kaylee      F              0  Summers        NaN   \n",
       "2  Des'ree  Logged In    Kaylee      F              1  Summers  246.30812   \n",
       "3     None  Logged In    Kaylee      F              2  Summers        NaN   \n",
       "4  Mr Oizo  Logged In    Kaylee      F              3  Summers  144.03873   \n",
       "\n",
       "  level                           location method      page   registration  \\\n",
       "0  free  San Francisco-Oakland-Hayward, CA    GET      Home  1540919166796   \n",
       "1  free        Phoenix-Mesa-Scottsdale, AZ    GET      Home  1540344794796   \n",
       "2  free        Phoenix-Mesa-Scottsdale, AZ    PUT  NextSong  1540344794796   \n",
       "3  free        Phoenix-Mesa-Scottsdale, AZ    GET   Upgrade  1540344794796   \n",
       "4  free        Phoenix-Mesa-Scottsdale, AZ    PUT  NextSong  1540344794796   \n",
       "\n",
       "   sessionId          song  status             ts  \\\n",
       "0         38          None     200  1541105830796   \n",
       "1        139          None     200  1541106106796   \n",
       "2        139  You Gotta Be     200  1541106106796   \n",
       "3        139          None     200  1541106132796   \n",
       "4        139       Flat 55     200  1541106352796   \n",
       "\n",
       "                                           userAgent  userId  \n",
       "0  \"Mozilla/5.0 (Macintosh; Intel Mac OS X 10_9_4...      39  \n",
       "1  \"Mozilla/5.0 (Windows NT 6.1; WOW64) AppleWebK...       8  \n",
       "2  \"Mozilla/5.0 (Windows NT 6.1; WOW64) AppleWebK...       8  \n",
       "3  \"Mozilla/5.0 (Windows NT 6.1; WOW64) AppleWebK...       8  \n",
       "4  \"Mozilla/5.0 (Windows NT 6.1; WOW64) AppleWebK...       8  "
      ]
     },
     "execution_count": 19,
     "metadata": {},
     "output_type": "execute_result"
    }
   ],
   "source": [
    "#|-----20--char-----||-----20--char-----||-----20--char-----||-doc-lim-||code|#\n",
    "logs_df = pd.read_json(filepath, lines=True)\n",
    "print(f\"Total number of logs: {logs_df.shape[0]}\")\n",
    "logs_df.head()"
   ]
  },
  {
   "cell_type": "code",
   "execution_count": 20,
   "metadata": {},
   "outputs": [
    {
     "name": "stdout",
     "output_type": "stream",
     "text": [
      "<class 'pandas.core.frame.DataFrame'>\n",
      "RangeIndex: 15 entries, 0 to 14\n",
      "Data columns (total 18 columns):\n",
      " #   Column         Non-Null Count  Dtype  \n",
      "---  ------         --------------  -----  \n",
      " 0   artist         11 non-null     object \n",
      " 1   auth           15 non-null     object \n",
      " 2   firstName      15 non-null     object \n",
      " 3   gender         15 non-null     object \n",
      " 4   itemInSession  15 non-null     int64  \n",
      " 5   lastName       15 non-null     object \n",
      " 6   length         11 non-null     float64\n",
      " 7   level          15 non-null     object \n",
      " 8   location       15 non-null     object \n",
      " 9   method         15 non-null     object \n",
      " 10  page           15 non-null     object \n",
      " 11  registration   15 non-null     int64  \n",
      " 12  sessionId      15 non-null     int64  \n",
      " 13  song           11 non-null     object \n",
      " 14  status         15 non-null     int64  \n",
      " 15  ts             15 non-null     int64  \n",
      " 16  userAgent      15 non-null     object \n",
      " 17  userId         15 non-null     int64  \n",
      "dtypes: float64(1), int64(6), object(11)\n",
      "memory usage: 2.2+ KB\n"
     ]
    }
   ],
   "source": [
    "logs_df.info()"
   ]
  },
  {
   "cell_type": "code",
   "execution_count": 21,
   "metadata": {},
   "outputs": [
    {
     "data": {
      "text/plain": [
       "NextSong    11\n",
       "Home         3\n",
       "Upgrade      1\n",
       "Name: page, dtype: int64"
      ]
     },
     "execution_count": 21,
     "metadata": {},
     "output_type": "execute_result"
    }
   ],
   "source": [
    "logs_df[\"page\"].value_counts()"
   ]
  },
  {
   "cell_type": "markdown",
   "metadata": {},
   "source": [
    "### Filter `log_data`"
   ]
  },
  {
   "cell_type": "code",
   "execution_count": 22,
   "metadata": {},
   "outputs": [
    {
     "name": "stdout",
     "output_type": "stream",
     "text": [
      "Total number of logs with useful data:\n",
      "11\n",
      "\n"
     ]
    },
    {
     "data": {
      "text/html": [
       "<div>\n",
       "<style scoped>\n",
       "    .dataframe tbody tr th:only-of-type {\n",
       "        vertical-align: middle;\n",
       "    }\n",
       "\n",
       "    .dataframe tbody tr th {\n",
       "        vertical-align: top;\n",
       "    }\n",
       "\n",
       "    .dataframe thead th {\n",
       "        text-align: right;\n",
       "    }\n",
       "</style>\n",
       "<table border=\"1\" class=\"dataframe\">\n",
       "  <thead>\n",
       "    <tr style=\"text-align: right;\">\n",
       "      <th></th>\n",
       "      <th>artist</th>\n",
       "      <th>auth</th>\n",
       "      <th>firstName</th>\n",
       "      <th>gender</th>\n",
       "      <th>itemInSession</th>\n",
       "      <th>lastName</th>\n",
       "      <th>length</th>\n",
       "      <th>level</th>\n",
       "      <th>location</th>\n",
       "      <th>method</th>\n",
       "      <th>page</th>\n",
       "      <th>registration</th>\n",
       "      <th>sessionId</th>\n",
       "      <th>song</th>\n",
       "      <th>status</th>\n",
       "      <th>ts</th>\n",
       "      <th>userAgent</th>\n",
       "      <th>userId</th>\n",
       "    </tr>\n",
       "  </thead>\n",
       "  <tbody>\n",
       "    <tr>\n",
       "      <th>2</th>\n",
       "      <td>Des'ree</td>\n",
       "      <td>Logged In</td>\n",
       "      <td>Kaylee</td>\n",
       "      <td>F</td>\n",
       "      <td>1</td>\n",
       "      <td>Summers</td>\n",
       "      <td>246.30812</td>\n",
       "      <td>free</td>\n",
       "      <td>Phoenix-Mesa-Scottsdale, AZ</td>\n",
       "      <td>PUT</td>\n",
       "      <td>NextSong</td>\n",
       "      <td>1540344794796</td>\n",
       "      <td>139</td>\n",
       "      <td>You Gotta Be</td>\n",
       "      <td>200</td>\n",
       "      <td>1541106106796</td>\n",
       "      <td>\"Mozilla/5.0 (Windows NT 6.1; WOW64) AppleWebK...</td>\n",
       "      <td>8</td>\n",
       "    </tr>\n",
       "    <tr>\n",
       "      <th>4</th>\n",
       "      <td>Mr Oizo</td>\n",
       "      <td>Logged In</td>\n",
       "      <td>Kaylee</td>\n",
       "      <td>F</td>\n",
       "      <td>3</td>\n",
       "      <td>Summers</td>\n",
       "      <td>144.03873</td>\n",
       "      <td>free</td>\n",
       "      <td>Phoenix-Mesa-Scottsdale, AZ</td>\n",
       "      <td>PUT</td>\n",
       "      <td>NextSong</td>\n",
       "      <td>1540344794796</td>\n",
       "      <td>139</td>\n",
       "      <td>Flat 55</td>\n",
       "      <td>200</td>\n",
       "      <td>1541106352796</td>\n",
       "      <td>\"Mozilla/5.0 (Windows NT 6.1; WOW64) AppleWebK...</td>\n",
       "      <td>8</td>\n",
       "    </tr>\n",
       "    <tr>\n",
       "      <th>5</th>\n",
       "      <td>Tamba Trio</td>\n",
       "      <td>Logged In</td>\n",
       "      <td>Kaylee</td>\n",
       "      <td>F</td>\n",
       "      <td>4</td>\n",
       "      <td>Summers</td>\n",
       "      <td>177.18812</td>\n",
       "      <td>free</td>\n",
       "      <td>Phoenix-Mesa-Scottsdale, AZ</td>\n",
       "      <td>PUT</td>\n",
       "      <td>NextSong</td>\n",
       "      <td>1540344794796</td>\n",
       "      <td>139</td>\n",
       "      <td>Quem Quiser Encontrar O Amor</td>\n",
       "      <td>200</td>\n",
       "      <td>1541106496796</td>\n",
       "      <td>\"Mozilla/5.0 (Windows NT 6.1; WOW64) AppleWebK...</td>\n",
       "      <td>8</td>\n",
       "    </tr>\n",
       "    <tr>\n",
       "      <th>6</th>\n",
       "      <td>The Mars Volta</td>\n",
       "      <td>Logged In</td>\n",
       "      <td>Kaylee</td>\n",
       "      <td>F</td>\n",
       "      <td>5</td>\n",
       "      <td>Summers</td>\n",
       "      <td>380.42077</td>\n",
       "      <td>free</td>\n",
       "      <td>Phoenix-Mesa-Scottsdale, AZ</td>\n",
       "      <td>PUT</td>\n",
       "      <td>NextSong</td>\n",
       "      <td>1540344794796</td>\n",
       "      <td>139</td>\n",
       "      <td>Eriatarka</td>\n",
       "      <td>200</td>\n",
       "      <td>1541106673796</td>\n",
       "      <td>\"Mozilla/5.0 (Windows NT 6.1; WOW64) AppleWebK...</td>\n",
       "      <td>8</td>\n",
       "    </tr>\n",
       "    <tr>\n",
       "      <th>7</th>\n",
       "      <td>Infected Mushroom</td>\n",
       "      <td>Logged In</td>\n",
       "      <td>Kaylee</td>\n",
       "      <td>F</td>\n",
       "      <td>6</td>\n",
       "      <td>Summers</td>\n",
       "      <td>440.26730</td>\n",
       "      <td>free</td>\n",
       "      <td>Phoenix-Mesa-Scottsdale, AZ</td>\n",
       "      <td>PUT</td>\n",
       "      <td>NextSong</td>\n",
       "      <td>1540344794796</td>\n",
       "      <td>139</td>\n",
       "      <td>Becoming Insane</td>\n",
       "      <td>200</td>\n",
       "      <td>1541107053796</td>\n",
       "      <td>\"Mozilla/5.0 (Windows NT 6.1; WOW64) AppleWebK...</td>\n",
       "      <td>8</td>\n",
       "    </tr>\n",
       "  </tbody>\n",
       "</table>\n",
       "</div>"
      ],
      "text/plain": [
       "              artist       auth firstName gender  itemInSession lastName  \\\n",
       "2            Des'ree  Logged In    Kaylee      F              1  Summers   \n",
       "4            Mr Oizo  Logged In    Kaylee      F              3  Summers   \n",
       "5         Tamba Trio  Logged In    Kaylee      F              4  Summers   \n",
       "6     The Mars Volta  Logged In    Kaylee      F              5  Summers   \n",
       "7  Infected Mushroom  Logged In    Kaylee      F              6  Summers   \n",
       "\n",
       "      length level                     location method      page  \\\n",
       "2  246.30812  free  Phoenix-Mesa-Scottsdale, AZ    PUT  NextSong   \n",
       "4  144.03873  free  Phoenix-Mesa-Scottsdale, AZ    PUT  NextSong   \n",
       "5  177.18812  free  Phoenix-Mesa-Scottsdale, AZ    PUT  NextSong   \n",
       "6  380.42077  free  Phoenix-Mesa-Scottsdale, AZ    PUT  NextSong   \n",
       "7  440.26730  free  Phoenix-Mesa-Scottsdale, AZ    PUT  NextSong   \n",
       "\n",
       "    registration  sessionId                          song  status  \\\n",
       "2  1540344794796        139                  You Gotta Be     200   \n",
       "4  1540344794796        139                       Flat 55     200   \n",
       "5  1540344794796        139  Quem Quiser Encontrar O Amor     200   \n",
       "6  1540344794796        139                     Eriatarka     200   \n",
       "7  1540344794796        139               Becoming Insane     200   \n",
       "\n",
       "              ts                                          userAgent  userId  \n",
       "2  1541106106796  \"Mozilla/5.0 (Windows NT 6.1; WOW64) AppleWebK...       8  \n",
       "4  1541106352796  \"Mozilla/5.0 (Windows NT 6.1; WOW64) AppleWebK...       8  \n",
       "5  1541106496796  \"Mozilla/5.0 (Windows NT 6.1; WOW64) AppleWebK...       8  \n",
       "6  1541106673796  \"Mozilla/5.0 (Windows NT 6.1; WOW64) AppleWebK...       8  \n",
       "7  1541107053796  \"Mozilla/5.0 (Windows NT 6.1; WOW64) AppleWebK...       8  "
      ]
     },
     "execution_count": 22,
     "metadata": {},
     "output_type": "execute_result"
    }
   ],
   "source": [
    "#|-----20--char-----||-----20--char-----||-----20--char-----||-doc-lim-||code|#\n",
    "filtered_logs_df = logs_df[logs_df[\"page\"] == 'NextSong'].copy()\n",
    "del logs_df\n",
    "print(f\"Total number of logs with useful data:\\n{filtered_logs_df.shape[0]}\\n\")\n",
    "filtered_logs_df.head()"
   ]
  },
  {
   "cell_type": "markdown",
   "metadata": {},
   "source": [
    "### `time` Table"
   ]
  },
  {
   "cell_type": "markdown",
   "metadata": {},
   "source": [
    "#### Extract Data for Time Table"
   ]
  },
  {
   "cell_type": "markdown",
   "metadata": {},
   "source": [
    "- Filter records by `NextSong` action\n",
    "- Convert the `ts` timestamp column to datetime\n",
    "  - Hint: the current timestamp is in milliseconds\n",
    "- Extract the timestamp, hour, day, week of year, month, year, and weekday from the `ts` column and set `time_data` to a list containing these values in order\n",
    "  - Hint: use pandas' [`dt` attribute](https://pandas.pydata.org/pandas-docs/stable/reference/api/pandas.Series.dt.html) to access easily datetimelike properties.\n",
    "- Specify labels for these columns and set to `column_labels`\n",
    "- Create a dataframe, `time_df,` containing the time data for this file by combining `column_labels` and `time_data` into a dictionary and converting this into a dataframe"
   ]
  },
  {
   "cell_type": "code",
   "execution_count": 23,
   "metadata": {},
   "outputs": [
    {
     "name": "stdout",
     "output_type": "stream",
     "text": [
      "Total number of logs with useful data:\n",
      "11\n",
      "\n"
     ]
    },
    {
     "data": {
      "text/html": [
       "<div>\n",
       "<style scoped>\n",
       "    .dataframe tbody tr th:only-of-type {\n",
       "        vertical-align: middle;\n",
       "    }\n",
       "\n",
       "    .dataframe tbody tr th {\n",
       "        vertical-align: top;\n",
       "    }\n",
       "\n",
       "    .dataframe thead th {\n",
       "        text-align: right;\n",
       "    }\n",
       "</style>\n",
       "<table border=\"1\" class=\"dataframe\">\n",
       "  <thead>\n",
       "    <tr style=\"text-align: right;\">\n",
       "      <th></th>\n",
       "      <th>artist</th>\n",
       "      <th>auth</th>\n",
       "      <th>firstName</th>\n",
       "      <th>gender</th>\n",
       "      <th>itemInSession</th>\n",
       "      <th>lastName</th>\n",
       "      <th>length</th>\n",
       "      <th>level</th>\n",
       "      <th>location</th>\n",
       "      <th>method</th>\n",
       "      <th>page</th>\n",
       "      <th>registration</th>\n",
       "      <th>sessionId</th>\n",
       "      <th>song</th>\n",
       "      <th>status</th>\n",
       "      <th>ts</th>\n",
       "      <th>userAgent</th>\n",
       "      <th>userId</th>\n",
       "    </tr>\n",
       "  </thead>\n",
       "  <tbody>\n",
       "    <tr>\n",
       "      <th>2</th>\n",
       "      <td>Des'ree</td>\n",
       "      <td>Logged In</td>\n",
       "      <td>Kaylee</td>\n",
       "      <td>F</td>\n",
       "      <td>1</td>\n",
       "      <td>Summers</td>\n",
       "      <td>246.30812</td>\n",
       "      <td>free</td>\n",
       "      <td>Phoenix-Mesa-Scottsdale, AZ</td>\n",
       "      <td>PUT</td>\n",
       "      <td>NextSong</td>\n",
       "      <td>1540344794796</td>\n",
       "      <td>139</td>\n",
       "      <td>You Gotta Be</td>\n",
       "      <td>200</td>\n",
       "      <td>2018-11-01 21:01:46.796</td>\n",
       "      <td>\"Mozilla/5.0 (Windows NT 6.1; WOW64) AppleWebK...</td>\n",
       "      <td>8</td>\n",
       "    </tr>\n",
       "    <tr>\n",
       "      <th>4</th>\n",
       "      <td>Mr Oizo</td>\n",
       "      <td>Logged In</td>\n",
       "      <td>Kaylee</td>\n",
       "      <td>F</td>\n",
       "      <td>3</td>\n",
       "      <td>Summers</td>\n",
       "      <td>144.03873</td>\n",
       "      <td>free</td>\n",
       "      <td>Phoenix-Mesa-Scottsdale, AZ</td>\n",
       "      <td>PUT</td>\n",
       "      <td>NextSong</td>\n",
       "      <td>1540344794796</td>\n",
       "      <td>139</td>\n",
       "      <td>Flat 55</td>\n",
       "      <td>200</td>\n",
       "      <td>2018-11-01 21:05:52.796</td>\n",
       "      <td>\"Mozilla/5.0 (Windows NT 6.1; WOW64) AppleWebK...</td>\n",
       "      <td>8</td>\n",
       "    </tr>\n",
       "    <tr>\n",
       "      <th>5</th>\n",
       "      <td>Tamba Trio</td>\n",
       "      <td>Logged In</td>\n",
       "      <td>Kaylee</td>\n",
       "      <td>F</td>\n",
       "      <td>4</td>\n",
       "      <td>Summers</td>\n",
       "      <td>177.18812</td>\n",
       "      <td>free</td>\n",
       "      <td>Phoenix-Mesa-Scottsdale, AZ</td>\n",
       "      <td>PUT</td>\n",
       "      <td>NextSong</td>\n",
       "      <td>1540344794796</td>\n",
       "      <td>139</td>\n",
       "      <td>Quem Quiser Encontrar O Amor</td>\n",
       "      <td>200</td>\n",
       "      <td>2018-11-01 21:08:16.796</td>\n",
       "      <td>\"Mozilla/5.0 (Windows NT 6.1; WOW64) AppleWebK...</td>\n",
       "      <td>8</td>\n",
       "    </tr>\n",
       "    <tr>\n",
       "      <th>6</th>\n",
       "      <td>The Mars Volta</td>\n",
       "      <td>Logged In</td>\n",
       "      <td>Kaylee</td>\n",
       "      <td>F</td>\n",
       "      <td>5</td>\n",
       "      <td>Summers</td>\n",
       "      <td>380.42077</td>\n",
       "      <td>free</td>\n",
       "      <td>Phoenix-Mesa-Scottsdale, AZ</td>\n",
       "      <td>PUT</td>\n",
       "      <td>NextSong</td>\n",
       "      <td>1540344794796</td>\n",
       "      <td>139</td>\n",
       "      <td>Eriatarka</td>\n",
       "      <td>200</td>\n",
       "      <td>2018-11-01 21:11:13.796</td>\n",
       "      <td>\"Mozilla/5.0 (Windows NT 6.1; WOW64) AppleWebK...</td>\n",
       "      <td>8</td>\n",
       "    </tr>\n",
       "    <tr>\n",
       "      <th>7</th>\n",
       "      <td>Infected Mushroom</td>\n",
       "      <td>Logged In</td>\n",
       "      <td>Kaylee</td>\n",
       "      <td>F</td>\n",
       "      <td>6</td>\n",
       "      <td>Summers</td>\n",
       "      <td>440.26730</td>\n",
       "      <td>free</td>\n",
       "      <td>Phoenix-Mesa-Scottsdale, AZ</td>\n",
       "      <td>PUT</td>\n",
       "      <td>NextSong</td>\n",
       "      <td>1540344794796</td>\n",
       "      <td>139</td>\n",
       "      <td>Becoming Insane</td>\n",
       "      <td>200</td>\n",
       "      <td>2018-11-01 21:17:33.796</td>\n",
       "      <td>\"Mozilla/5.0 (Windows NT 6.1; WOW64) AppleWebK...</td>\n",
       "      <td>8</td>\n",
       "    </tr>\n",
       "  </tbody>\n",
       "</table>\n",
       "</div>"
      ],
      "text/plain": [
       "              artist       auth firstName gender  itemInSession lastName  \\\n",
       "2            Des'ree  Logged In    Kaylee      F              1  Summers   \n",
       "4            Mr Oizo  Logged In    Kaylee      F              3  Summers   \n",
       "5         Tamba Trio  Logged In    Kaylee      F              4  Summers   \n",
       "6     The Mars Volta  Logged In    Kaylee      F              5  Summers   \n",
       "7  Infected Mushroom  Logged In    Kaylee      F              6  Summers   \n",
       "\n",
       "      length level                     location method      page  \\\n",
       "2  246.30812  free  Phoenix-Mesa-Scottsdale, AZ    PUT  NextSong   \n",
       "4  144.03873  free  Phoenix-Mesa-Scottsdale, AZ    PUT  NextSong   \n",
       "5  177.18812  free  Phoenix-Mesa-Scottsdale, AZ    PUT  NextSong   \n",
       "6  380.42077  free  Phoenix-Mesa-Scottsdale, AZ    PUT  NextSong   \n",
       "7  440.26730  free  Phoenix-Mesa-Scottsdale, AZ    PUT  NextSong   \n",
       "\n",
       "    registration  sessionId                          song  status  \\\n",
       "2  1540344794796        139                  You Gotta Be     200   \n",
       "4  1540344794796        139                       Flat 55     200   \n",
       "5  1540344794796        139  Quem Quiser Encontrar O Amor     200   \n",
       "6  1540344794796        139                     Eriatarka     200   \n",
       "7  1540344794796        139               Becoming Insane     200   \n",
       "\n",
       "                       ts                                          userAgent  \\\n",
       "2 2018-11-01 21:01:46.796  \"Mozilla/5.0 (Windows NT 6.1; WOW64) AppleWebK...   \n",
       "4 2018-11-01 21:05:52.796  \"Mozilla/5.0 (Windows NT 6.1; WOW64) AppleWebK...   \n",
       "5 2018-11-01 21:08:16.796  \"Mozilla/5.0 (Windows NT 6.1; WOW64) AppleWebK...   \n",
       "6 2018-11-01 21:11:13.796  \"Mozilla/5.0 (Windows NT 6.1; WOW64) AppleWebK...   \n",
       "7 2018-11-01 21:17:33.796  \"Mozilla/5.0 (Windows NT 6.1; WOW64) AppleWebK...   \n",
       "\n",
       "   userId  \n",
       "2       8  \n",
       "4       8  \n",
       "5       8  \n",
       "6       8  \n",
       "7       8  "
      ]
     },
     "execution_count": 23,
     "metadata": {},
     "output_type": "execute_result"
    }
   ],
   "source": [
    "#|-----20--char-----||-----20--char-----||-----20--char-----||-doc-lim-||code|#\n",
    "filtered_logs_df['ts'] = pd.to_datetime(filtered_logs_df['ts'], unit='ms')\n",
    "filtered_logs_df = filtered_logs_df.drop_duplicates()\n",
    "print(f\"Total number of logs with useful data:\\n{filtered_logs_df.shape[0]}\\n\")\n",
    "filtered_logs_df.head()"
   ]
  },
  {
   "cell_type": "code",
   "execution_count": 24,
   "metadata": {},
   "outputs": [
    {
     "name": "stdout",
     "output_type": "stream",
     "text": [
      "Print element list sample:\n",
      "['2018-11-01T21:01:46', 21, 1, 44, 11, 2018, 4]\n",
      "\n",
      "Print column names:\n",
      "['start_time', 'hour', 'day', 'week', 'month', 'year', 'weekday']\n",
      "\n"
     ]
    }
   ],
   "source": [
    "#|-----20--char-----||-----20--char-----||-----20--char-----||-doc-lim-||code|#\n",
    "time_data = list(\n",
    "    map(\n",
    "        lambda item: [\n",
    "            item.strftime('%Y-%m-%dT%H:%M:%S'),\n",
    "            item.hour,\n",
    "            item.day,\n",
    "            item.week,\n",
    "            item.month,\n",
    "            item.year,\n",
    "            item.weekday() + 1\n",
    "        ],\n",
    "        filtered_logs_df['ts'].copy()\n",
    "    )\n",
    ")\n",
    "print(f\"Print element list sample:\\n{time_data[0]}\\n\")\n",
    "column_labels = [\n",
    "    'start_time', 'hour', 'day', 'week', 'month', 'year', 'weekday'\n",
    "]\n",
    "print(f\"Print column names:\\n{column_labels}\\n\")\n",
    "#|-----20--char-----||-----20--char-----||-----20--char-----||-doc-lim-||code|#"
   ]
  },
  {
   "cell_type": "code",
   "execution_count": 25,
   "metadata": {},
   "outputs": [
    {
     "name": "stdout",
     "output_type": "stream",
     "text": [
      "Print first row dictionary sample:\n",
      "{'start_time': '2018-11-01T21:01:46', 'hour': 21, 'day': 1, 'week': 44, 'month': 11, 'year': 2018, 'weekday': 4}\n",
      "\n"
     ]
    }
   ],
   "source": [
    "#|-----20--char-----||-----20--char-----||-----20--char-----||-doc-lim-||code|#\n",
    "time_list_dict = [dict(zip(column_labels, row)) for row in time_data]\n",
    "print(f\"Print first row dictionary sample:\\n{time_list_dict[0]}\\n\")"
   ]
  },
  {
   "cell_type": "code",
   "execution_count": 26,
   "metadata": {},
   "outputs": [
    {
     "name": "stdout",
     "output_type": "stream",
     "text": [
      "Current dataframe dimensions:\n",
      "(11, 7)\n",
      "\n"
     ]
    },
    {
     "data": {
      "text/html": [
       "<div>\n",
       "<style scoped>\n",
       "    .dataframe tbody tr th:only-of-type {\n",
       "        vertical-align: middle;\n",
       "    }\n",
       "\n",
       "    .dataframe tbody tr th {\n",
       "        vertical-align: top;\n",
       "    }\n",
       "\n",
       "    .dataframe thead th {\n",
       "        text-align: right;\n",
       "    }\n",
       "</style>\n",
       "<table border=\"1\" class=\"dataframe\">\n",
       "  <thead>\n",
       "    <tr style=\"text-align: right;\">\n",
       "      <th></th>\n",
       "      <th>start_time</th>\n",
       "      <th>hour</th>\n",
       "      <th>day</th>\n",
       "      <th>week</th>\n",
       "      <th>month</th>\n",
       "      <th>year</th>\n",
       "      <th>weekday</th>\n",
       "    </tr>\n",
       "  </thead>\n",
       "  <tbody>\n",
       "    <tr>\n",
       "      <th>0</th>\n",
       "      <td>2018-11-01T21:01:46</td>\n",
       "      <td>21</td>\n",
       "      <td>1</td>\n",
       "      <td>44</td>\n",
       "      <td>11</td>\n",
       "      <td>2018</td>\n",
       "      <td>4</td>\n",
       "    </tr>\n",
       "    <tr>\n",
       "      <th>1</th>\n",
       "      <td>2018-11-01T21:05:52</td>\n",
       "      <td>21</td>\n",
       "      <td>1</td>\n",
       "      <td>44</td>\n",
       "      <td>11</td>\n",
       "      <td>2018</td>\n",
       "      <td>4</td>\n",
       "    </tr>\n",
       "    <tr>\n",
       "      <th>2</th>\n",
       "      <td>2018-11-01T21:08:16</td>\n",
       "      <td>21</td>\n",
       "      <td>1</td>\n",
       "      <td>44</td>\n",
       "      <td>11</td>\n",
       "      <td>2018</td>\n",
       "      <td>4</td>\n",
       "    </tr>\n",
       "    <tr>\n",
       "      <th>3</th>\n",
       "      <td>2018-11-01T21:11:13</td>\n",
       "      <td>21</td>\n",
       "      <td>1</td>\n",
       "      <td>44</td>\n",
       "      <td>11</td>\n",
       "      <td>2018</td>\n",
       "      <td>4</td>\n",
       "    </tr>\n",
       "    <tr>\n",
       "      <th>4</th>\n",
       "      <td>2018-11-01T21:17:33</td>\n",
       "      <td>21</td>\n",
       "      <td>1</td>\n",
       "      <td>44</td>\n",
       "      <td>11</td>\n",
       "      <td>2018</td>\n",
       "      <td>4</td>\n",
       "    </tr>\n",
       "  </tbody>\n",
       "</table>\n",
       "</div>"
      ],
      "text/plain": [
       "            start_time  hour  day  week  month  year  weekday\n",
       "0  2018-11-01T21:01:46    21    1    44     11  2018        4\n",
       "1  2018-11-01T21:05:52    21    1    44     11  2018        4\n",
       "2  2018-11-01T21:08:16    21    1    44     11  2018        4\n",
       "3  2018-11-01T21:11:13    21    1    44     11  2018        4\n",
       "4  2018-11-01T21:17:33    21    1    44     11  2018        4"
      ]
     },
     "execution_count": 26,
     "metadata": {},
     "output_type": "execute_result"
    }
   ],
   "source": [
    "time_df = pd.DataFrame(time_list_dict)\n",
    "time_df = time_df[column_labels]\n",
    "time_df = time_df.drop_duplicates()\n",
    "time_df = time_df.reset_index(drop=True)\n",
    "print(f\"Current dataframe dimensions:\\n{time_df.shape}\\n\")\n",
    "time_df.head()"
   ]
  },
  {
   "cell_type": "markdown",
   "metadata": {},
   "source": [
    "#### Insert Records into Time Table\n",
    "Implement the `time_table_insert` query in `sql_queries.py` and run the cell below to insert records for the timestamps in this log file into the `time` table. Remember to run `create_tables.py` before running the cell below to ensure you've created/resetted the `time` table in the sparkify database."
   ]
  },
  {
   "cell_type": "code",
   "execution_count": 28,
   "metadata": {},
   "outputs": [
    {
     "name": "stdout",
     "output_type": "stream",
     "text": [
      "SQL statement:\n",
      "INSERT INTO time\n",
      "(start_time, hour, day, week, month, year, weekday)\n",
      "VALUES\n",
      "    ('2018-11-01T21:01:46', 21, 1, 44, 11, 2018, 4),\n",
      "    ('2018-11-01T21:05:52', 21, 1, 44, 11, 2018, 4),\n",
      "    ('2018-11-01T21:08:16', 21, 1, 44, 11, 2018, 4),\n",
      "    ('2018-11-01T21:11:13', 21, 1, 44, 11, 2018, 4),\n",
      "    ('2018-11-01T21:17:33', 21, 1, 44, 11, 2018, 4)\n",
      "ON CONFLICT (start_time)\n",
      "DO UPDATE SET\n",
      "hour = EXCLUDED.hour,\n",
      "day = EXCLUDED.day,\n",
      "week = EXCLUDED.week,\n",
      "month = EXCLUDED.month,\n",
      "year = EXCLUDED.year,\n",
      "weekday = EXCLUDED.weekday;\n",
      "\n",
      "\n"
     ]
    }
   ],
   "source": [
    "#|-----20--char-----||-----20--char-----||-----20--char-----||-doc-lim-||code|#\n",
    "# Test query creation\n",
    "query = sq.time_table_insert(dataframe=time_df.iloc[0:5], verbose=True)"
   ]
  },
  {
   "cell_type": "code",
   "execution_count": 29,
   "metadata": {},
   "outputs": [
    {
     "name": "stdout",
     "output_type": "stream",
     "text": [
      "Send batch from idx '0'...\n"
     ]
    }
   ],
   "source": [
    "#|-----20--char-----||-----20--char-----||-----20--char-----||-doc-lim-||code|#\n",
    "start_index = 0\n",
    "end_index = time_df.shape[0]\n",
    "batch_size = 5_000\n",
    "for index in range(start_index, end_index, batch_size):\n",
    "    print(f\"Send batch from idx '{index}'...\")\n",
    "    query = sq.time_table_insert(\n",
    "        dataframe=time_df.iloc[index:index + batch_size]\n",
    "    )\n",
    "    cur.execute(query)\n",
    "    conn.commit()"
   ]
  },
  {
   "cell_type": "markdown",
   "metadata": {},
   "source": [
    "Run `test.ipynb` to see if you've successfully added records to this table."
   ]
  },
  {
   "cell_type": "markdown",
   "metadata": {},
   "source": [
    "#### Results (DBeaver)"
   ]
  },
  {
   "cell_type": "markdown",
   "metadata": {},
   "source": [
    "<!--\n",
    "#|-----20--char-----||-----20--char-----||-----20--char-----||-doc-lim-||code|#\n",
    "-->\n",
    "\n",
    "<!-- Original image size [570 316] -->\n",
    "<br/><br/> <!-- Blank line -->\n",
    "<div align=\"center\">\n",
    "  <img width=\"570\" height=\"316\" src=\"img/time_results.png\" />\n",
    "</div>\n",
    "<br/><br/> <!-- Blank line -->"
   ]
  },
  {
   "cell_type": "markdown",
   "metadata": {},
   "source": [
    "### `users` Table"
   ]
  },
  {
   "cell_type": "markdown",
   "metadata": {},
   "source": [
    "#### Extract Data for Users Table\n",
    "\n",
    "- Select columns for user ID, first name, last name, gender and level and set to `user_df`\n",
    "- Drop duplicates by ID but keep last user found, this stores the current User level status\n",
    "- Keep in mind that the fact table stores the current level status at hearing the song, but\n",
    "  then the user can change its level."
   ]
  },
  {
   "cell_type": "code",
   "execution_count": 30,
   "metadata": {},
   "outputs": [
    {
     "name": "stdout",
     "output_type": "stream",
     "text": [
      "Total number of users:\n",
      "(4, 5)\n",
      "\n"
     ]
    },
    {
     "data": {
      "text/html": [
       "<div>\n",
       "<style scoped>\n",
       "    .dataframe tbody tr th:only-of-type {\n",
       "        vertical-align: middle;\n",
       "    }\n",
       "\n",
       "    .dataframe tbody tr th {\n",
       "        vertical-align: top;\n",
       "    }\n",
       "\n",
       "    .dataframe thead th {\n",
       "        text-align: right;\n",
       "    }\n",
       "</style>\n",
       "<table border=\"1\" class=\"dataframe\">\n",
       "  <thead>\n",
       "    <tr style=\"text-align: right;\">\n",
       "      <th></th>\n",
       "      <th>userId</th>\n",
       "      <th>firstName</th>\n",
       "      <th>lastName</th>\n",
       "      <th>gender</th>\n",
       "      <th>level</th>\n",
       "    </tr>\n",
       "  </thead>\n",
       "  <tbody>\n",
       "    <tr>\n",
       "      <th>0</th>\n",
       "      <td>8</td>\n",
       "      <td>Kaylee</td>\n",
       "      <td>Summers</td>\n",
       "      <td>F</td>\n",
       "      <td>free</td>\n",
       "    </tr>\n",
       "    <tr>\n",
       "      <th>1</th>\n",
       "      <td>10</td>\n",
       "      <td>Sylvie</td>\n",
       "      <td>Cruz</td>\n",
       "      <td>F</td>\n",
       "      <td>free</td>\n",
       "    </tr>\n",
       "    <tr>\n",
       "      <th>2</th>\n",
       "      <td>26</td>\n",
       "      <td>Ryan</td>\n",
       "      <td>Smith</td>\n",
       "      <td>M</td>\n",
       "      <td>free</td>\n",
       "    </tr>\n",
       "    <tr>\n",
       "      <th>3</th>\n",
       "      <td>101</td>\n",
       "      <td>Jayden</td>\n",
       "      <td>Fox</td>\n",
       "      <td>M</td>\n",
       "      <td>free</td>\n",
       "    </tr>\n",
       "  </tbody>\n",
       "</table>\n",
       "</div>"
      ],
      "text/plain": [
       "  userId firstName lastName gender level\n",
       "0      8    Kaylee  Summers      F  free\n",
       "1     10    Sylvie     Cruz      F  free\n",
       "2     26      Ryan    Smith      M  free\n",
       "3    101    Jayden      Fox      M  free"
      ]
     },
     "execution_count": 30,
     "metadata": {},
     "output_type": "execute_result"
    }
   ],
   "source": [
    "#|-----20--char-----||-----20--char-----||-----20--char-----||-doc-lim-||code|#\n",
    "columns = [\"userId\", \"firstName\", \"lastName\", \"gender\", \"level\"]\n",
    "user_df = filtered_logs_df[columns].copy()\n",
    "user_df[\"firstName\"] = user_df[\"firstName\"].map(\n",
    "    single_quote_converter, na_action='ignore'\n",
    ")\n",
    "user_df[\"lastName\"] = user_df[\"lastName\"].map(\n",
    "    single_quote_converter, na_action='ignore'\n",
    ")\n",
    "user_df[\"gender\"] = user_df[\"gender\"].str.upper()\n",
    "user_df[\"userId\"] = user_df[\"userId\"].astype(str)\n",
    "user_df = user_df.drop_duplicates()\n",
    "user_df = user_df.drop_duplicates(subset='userId', keep='last')\n",
    "user_df = user_df.reset_index(drop=True)\n",
    "print(f\"Total number of users:\\n{user_df.shape}\\n\")\n",
    "user_df.head()"
   ]
  },
  {
   "cell_type": "markdown",
   "metadata": {},
   "source": [
    "#### Insert Records into Users Table"
   ]
  },
  {
   "cell_type": "markdown",
   "metadata": {},
   "source": [
    "Implement the `user_table_insert` query in `sql_queries.py` and run the cell below to insert records for the users in this log file into the `users` table. Remember to run `create_tables.py` before running the cell below to ensure you've created/resetted the `users` table in the sparkify database."
   ]
  },
  {
   "cell_type": "code",
   "execution_count": 31,
   "metadata": {},
   "outputs": [
    {
     "name": "stdout",
     "output_type": "stream",
     "text": [
      "SQL statement:\n",
      "INSERT INTO users\n",
      "(user_id, first_name, last_name, gender, level)\n",
      "VALUES\n",
      "    ('8', 'Kaylee', 'Summers', 'F', 'free'),\n",
      "    ('10', 'Sylvie', 'Cruz', 'F', 'free'),\n",
      "    ('26', 'Ryan', 'Smith', 'M', 'free'),\n",
      "    ('101', 'Jayden', 'Fox', 'M', 'free')\n",
      "ON CONFLICT (user_id)\n",
      "DO UPDATE SET\n",
      "first_name = EXCLUDED.first_name,\n",
      "last_name = EXCLUDED.last_name,\n",
      "gender = EXCLUDED.gender,\n",
      "level = EXCLUDED.level;\n",
      "\n",
      "\n"
     ]
    }
   ],
   "source": [
    "#|-----20--char-----||-----20--char-----||-----20--char-----||-doc-lim-||code|#\n",
    "# Test query creation\n",
    "query = sq.user_table_insert(dataframe=user_df.iloc[0:5], verbose=True)"
   ]
  },
  {
   "cell_type": "code",
   "execution_count": 32,
   "metadata": {},
   "outputs": [
    {
     "name": "stdout",
     "output_type": "stream",
     "text": [
      "Send batch from idx '0'...\n"
     ]
    }
   ],
   "source": [
    "#|-----20--char-----||-----20--char-----||-----20--char-----||-doc-lim-||code|#\n",
    "start_index = 0\n",
    "end_index = user_df.shape[0]\n",
    "batch_size = 5_000\n",
    "for index in range(start_index, end_index, batch_size):\n",
    "    print(f\"Send batch from idx '{index}'...\")\n",
    "    query = sq.user_table_insert(\n",
    "        dataframe=user_df.iloc[index:index + batch_size]\n",
    "    )\n",
    "    cur.execute(query)\n",
    "    conn.commit()"
   ]
  },
  {
   "cell_type": "markdown",
   "metadata": {},
   "source": [
    "Run `test.ipynb` to see if you've successfully added records to this table."
   ]
  },
  {
   "cell_type": "markdown",
   "metadata": {},
   "source": [
    "#### Results (DBeaver)"
   ]
  },
  {
   "cell_type": "markdown",
   "metadata": {},
   "source": [
    "<!--\n",
    "#|-----20--char-----||-----20--char-----||-----20--char-----||-doc-lim-||code|#\n",
    "-->\n",
    "\n",
    "<!-- Original image size [494 192] -->\n",
    "<br/><br/> <!-- Blank line -->\n",
    "<div align=\"center\">\n",
    "  <img width=\"494\" height=\"192\" src=\"img/users_results.png\" />\n",
    "</div>\n",
    "<br/><br/> <!-- Blank line -->"
   ]
  },
  {
   "cell_type": "markdown",
   "metadata": {},
   "source": [
    "### `songplays` Table"
   ]
  },
  {
   "cell_type": "markdown",
   "metadata": {},
   "source": [
    "#### Extract Data and Songplays Table"
   ]
  },
  {
   "cell_type": "markdown",
   "metadata": {},
   "source": [
    "This one is a little more complicated since information from the songs table, artists table, and original log file are all needed for the `songplays` table. Since the log file does not specify an ID for either the song or the artist, you'll need to get the song ID and artist ID by querying the songs and artists tables to find matches based on song title, artist name, and song duration time.\n",
    "- Implement the `song_select` query in `sql_queries.py` to find the song ID and artist ID based on the title, artist name, and duration of a song.\n",
    "- Select the timestamp, user ID, level, song ID, artist ID, session ID, location, and user agent and set to `songplay_data`\n",
    "\n",
    "> **length** in log files is the song duration in seconds"
   ]
  },
  {
   "cell_type": "code",
   "execution_count": 98,
   "metadata": {},
   "outputs": [
    {
     "name": "stdout",
     "output_type": "stream",
     "text": [
      "Total number of songplay:\n",
      "(11, 10)\n",
      "\n"
     ]
    },
    {
     "data": {
      "text/html": [
       "<div>\n",
       "<style scoped>\n",
       "    .dataframe tbody tr th:only-of-type {\n",
       "        vertical-align: middle;\n",
       "    }\n",
       "\n",
       "    .dataframe tbody tr th {\n",
       "        vertical-align: top;\n",
       "    }\n",
       "\n",
       "    .dataframe thead th {\n",
       "        text-align: right;\n",
       "    }\n",
       "</style>\n",
       "<table border=\"1\" class=\"dataframe\">\n",
       "  <thead>\n",
       "    <tr style=\"text-align: right;\">\n",
       "      <th></th>\n",
       "      <th>index</th>\n",
       "      <th>ts</th>\n",
       "      <th>userId</th>\n",
       "      <th>level</th>\n",
       "      <th>song</th>\n",
       "      <th>artist</th>\n",
       "      <th>length</th>\n",
       "      <th>sessionId</th>\n",
       "      <th>location</th>\n",
       "      <th>userAgent</th>\n",
       "    </tr>\n",
       "  </thead>\n",
       "  <tbody>\n",
       "    <tr>\n",
       "      <th>0</th>\n",
       "      <td>0</td>\n",
       "      <td>2018-11-01T21:01:46</td>\n",
       "      <td>8</td>\n",
       "      <td>free</td>\n",
       "      <td>You Gotta Be</td>\n",
       "      <td>Des&lt;single_quote_tag&gt;ree</td>\n",
       "      <td>246.30812</td>\n",
       "      <td>139</td>\n",
       "      <td>Phoenix-Mesa-Scottsdale, AZ</td>\n",
       "      <td>\"Mozilla/5.0 (Windows NT 6.1; WOW64) AppleWebK...</td>\n",
       "    </tr>\n",
       "    <tr>\n",
       "      <th>1</th>\n",
       "      <td>1</td>\n",
       "      <td>2018-11-01T21:05:52</td>\n",
       "      <td>8</td>\n",
       "      <td>free</td>\n",
       "      <td>Flat 55</td>\n",
       "      <td>Mr Oizo</td>\n",
       "      <td>144.03873</td>\n",
       "      <td>139</td>\n",
       "      <td>Phoenix-Mesa-Scottsdale, AZ</td>\n",
       "      <td>\"Mozilla/5.0 (Windows NT 6.1; WOW64) AppleWebK...</td>\n",
       "    </tr>\n",
       "    <tr>\n",
       "      <th>2</th>\n",
       "      <td>2</td>\n",
       "      <td>2018-11-01T21:08:16</td>\n",
       "      <td>8</td>\n",
       "      <td>free</td>\n",
       "      <td>Quem Quiser Encontrar O Amor</td>\n",
       "      <td>Tamba Trio</td>\n",
       "      <td>177.18812</td>\n",
       "      <td>139</td>\n",
       "      <td>Phoenix-Mesa-Scottsdale, AZ</td>\n",
       "      <td>\"Mozilla/5.0 (Windows NT 6.1; WOW64) AppleWebK...</td>\n",
       "    </tr>\n",
       "    <tr>\n",
       "      <th>3</th>\n",
       "      <td>3</td>\n",
       "      <td>2018-11-01T21:11:13</td>\n",
       "      <td>8</td>\n",
       "      <td>free</td>\n",
       "      <td>Eriatarka</td>\n",
       "      <td>The Mars Volta</td>\n",
       "      <td>380.42077</td>\n",
       "      <td>139</td>\n",
       "      <td>Phoenix-Mesa-Scottsdale, AZ</td>\n",
       "      <td>\"Mozilla/5.0 (Windows NT 6.1; WOW64) AppleWebK...</td>\n",
       "    </tr>\n",
       "    <tr>\n",
       "      <th>4</th>\n",
       "      <td>4</td>\n",
       "      <td>2018-11-01T21:17:33</td>\n",
       "      <td>8</td>\n",
       "      <td>free</td>\n",
       "      <td>Becoming Insane</td>\n",
       "      <td>Infected Mushroom</td>\n",
       "      <td>440.26730</td>\n",
       "      <td>139</td>\n",
       "      <td>Phoenix-Mesa-Scottsdale, AZ</td>\n",
       "      <td>\"Mozilla/5.0 (Windows NT 6.1; WOW64) AppleWebK...</td>\n",
       "    </tr>\n",
       "  </tbody>\n",
       "</table>\n",
       "</div>"
      ],
      "text/plain": [
       "   index                   ts  userId level                          song  \\\n",
       "0      0  2018-11-01T21:01:46       8  free                  You Gotta Be   \n",
       "1      1  2018-11-01T21:05:52       8  free                       Flat 55   \n",
       "2      2  2018-11-01T21:08:16       8  free  Quem Quiser Encontrar O Amor   \n",
       "3      3  2018-11-01T21:11:13       8  free                     Eriatarka   \n",
       "4      4  2018-11-01T21:17:33       8  free               Becoming Insane   \n",
       "\n",
       "                     artist     length  sessionId  \\\n",
       "0  Des<single_quote_tag>ree  246.30812        139   \n",
       "1                   Mr Oizo  144.03873        139   \n",
       "2                Tamba Trio  177.18812        139   \n",
       "3            The Mars Volta  380.42077        139   \n",
       "4         Infected Mushroom  440.26730        139   \n",
       "\n",
       "                      location  \\\n",
       "0  Phoenix-Mesa-Scottsdale, AZ   \n",
       "1  Phoenix-Mesa-Scottsdale, AZ   \n",
       "2  Phoenix-Mesa-Scottsdale, AZ   \n",
       "3  Phoenix-Mesa-Scottsdale, AZ   \n",
       "4  Phoenix-Mesa-Scottsdale, AZ   \n",
       "\n",
       "                                           userAgent  \n",
       "0  \"Mozilla/5.0 (Windows NT 6.1; WOW64) AppleWebK...  \n",
       "1  \"Mozilla/5.0 (Windows NT 6.1; WOW64) AppleWebK...  \n",
       "2  \"Mozilla/5.0 (Windows NT 6.1; WOW64) AppleWebK...  \n",
       "3  \"Mozilla/5.0 (Windows NT 6.1; WOW64) AppleWebK...  \n",
       "4  \"Mozilla/5.0 (Windows NT 6.1; WOW64) AppleWebK...  "
      ]
     },
     "execution_count": 98,
     "metadata": {},
     "output_type": "execute_result"
    }
   ],
   "source": [
    "# insert songplay records\n",
    "columns = [\n",
    "    \"ts\",\n",
    "    \"userId\",\n",
    "    \"level\",\n",
    "    \"song\",\n",
    "    \"artist\",\n",
    "    \"length\",\n",
    "    \"sessionId\",\n",
    "    \"location\",\n",
    "    \"userAgent\"\n",
    "]\n",
    "df = filtered_logs_df[columns].copy()\n",
    "\n",
    "# Format timestamp tp be upload in the database\n",
    "df[\"ts\"] = df[\"ts\"].dt.strftime('%Y-%m-%dT%H:%M:%S')\n",
    "\n",
    "# Apply filtering of single quotes\n",
    "df[\"song\"] = df[\"song\"].map(\n",
    "    single_quote_converter, na_action='ignore'\n",
    ")\n",
    "df[\"artist\"] = df[\"artist\"].map(\n",
    "    single_quote_converter, na_action='ignore'\n",
    ")\n",
    "df[\"location\"] = df[\"location\"].map(\n",
    "    single_quote_converter, na_action='ignore'\n",
    ")\n",
    "df = df.drop_duplicates()\n",
    "df = df.reset_index(drop=True)\n",
    "df = df.reset_index(level=0)\n",
    "print(f\"Total number of songplay:\\n{df.shape}\\n\")\n",
    "df.head()"
   ]
  },
  {
   "cell_type": "code",
   "execution_count": 99,
   "metadata": {},
   "outputs": [
    {
     "name": "stdout",
     "output_type": "stream",
     "text": [
      "SQL statement:\n",
      "SELECT\n",
      "    song_artist.song_id song, --input_data.song\n",
      "    song_artist.artist_id artist --input_data.artist\n",
      "FROM (\n",
      "    SELECT idx, song, artist, duration\n",
      "    FROM (\n",
      "        VALUES\n",
      "        (0, 'You Gotta Be', 'Des''ree', 246.30812),\n",
      "        (1, 'Flat 55', 'Mr Oizo', 144.03873),\n",
      "        (2, 'Quem Quiser Encontrar O Amor', 'Tamba Trio', 177.18812),\n",
      "        (3, 'Eriatarka', 'The Mars Volta', 380.42077),\n",
      "        (4, 'Becoming Insane', 'Infected Mushroom', 440.2673)\n",
      "    ) AS headers (idx, song, artist, duration)\n",
      ") AS input_data\n",
      "LEFT JOIN (\n",
      "    SELECT\n",
      "        songs.song_id,\n",
      "        songs.title,\n",
      "        songs.duration,\n",
      "        artists.artist_id,\n",
      "        artists.\"name\"\n",
      "    FROM songs\n",
      "    LEFT JOIN artists\n",
      "    ON songs.artist_id = artists.artist_id\n",
      ") song_artist\n",
      "ON input_data.song = song_artist.title\n",
      "AND input_data.artist = song_artist.\"name\"\n",
      "AND input_data.duration = song_artist.duration\n",
      "ORDER BY input_data.idx ASC;\n",
      "\n",
      "\n"
     ]
    }
   ],
   "source": [
    "#|-----20--char-----||-----20--char-----||-----20--char-----||-doc-lim-||code|#\n",
    "# Test query creation\n",
    "columns_in = [\"index\", \"song\", \"artist\", \"length\"]\n",
    "query = sq.song_select(\n",
    "    dataframe=df[columns_in].iloc[0:5],\n",
    "    verbose=True\n",
    ")"
   ]
  },
  {
   "cell_type": "code",
   "execution_count": 101,
   "metadata": {},
   "outputs": [
    {
     "name": "stdout",
     "output_type": "stream",
     "text": [
      "Send batch from idx '0'...\n"
     ]
    },
    {
     "data": {
      "text/html": [
       "<div>\n",
       "<style scoped>\n",
       "    .dataframe tbody tr th:only-of-type {\n",
       "        vertical-align: middle;\n",
       "    }\n",
       "\n",
       "    .dataframe tbody tr th {\n",
       "        vertical-align: top;\n",
       "    }\n",
       "\n",
       "    .dataframe thead th {\n",
       "        text-align: right;\n",
       "    }\n",
       "</style>\n",
       "<table border=\"1\" class=\"dataframe\">\n",
       "  <thead>\n",
       "    <tr style=\"text-align: right;\">\n",
       "      <th></th>\n",
       "      <th>ts</th>\n",
       "      <th>userId</th>\n",
       "      <th>level</th>\n",
       "      <th>song</th>\n",
       "      <th>artist</th>\n",
       "      <th>sessionId</th>\n",
       "      <th>location</th>\n",
       "      <th>userAgent</th>\n",
       "    </tr>\n",
       "  </thead>\n",
       "  <tbody>\n",
       "    <tr>\n",
       "      <th>0</th>\n",
       "      <td>2018-11-01T21:01:46</td>\n",
       "      <td>8</td>\n",
       "      <td>free</td>\n",
       "      <td>nan</td>\n",
       "      <td>nan</td>\n",
       "      <td>139</td>\n",
       "      <td>Phoenix-Mesa-Scottsdale, AZ</td>\n",
       "      <td>\"Mozilla/5.0 (Windows NT 6.1; WOW64) AppleWebK...</td>\n",
       "    </tr>\n",
       "    <tr>\n",
       "      <th>1</th>\n",
       "      <td>2018-11-01T21:05:52</td>\n",
       "      <td>8</td>\n",
       "      <td>free</td>\n",
       "      <td>nan</td>\n",
       "      <td>nan</td>\n",
       "      <td>139</td>\n",
       "      <td>Phoenix-Mesa-Scottsdale, AZ</td>\n",
       "      <td>\"Mozilla/5.0 (Windows NT 6.1; WOW64) AppleWebK...</td>\n",
       "    </tr>\n",
       "    <tr>\n",
       "      <th>2</th>\n",
       "      <td>2018-11-01T21:08:16</td>\n",
       "      <td>8</td>\n",
       "      <td>free</td>\n",
       "      <td>nan</td>\n",
       "      <td>nan</td>\n",
       "      <td>139</td>\n",
       "      <td>Phoenix-Mesa-Scottsdale, AZ</td>\n",
       "      <td>\"Mozilla/5.0 (Windows NT 6.1; WOW64) AppleWebK...</td>\n",
       "    </tr>\n",
       "    <tr>\n",
       "      <th>3</th>\n",
       "      <td>2018-11-01T21:11:13</td>\n",
       "      <td>8</td>\n",
       "      <td>free</td>\n",
       "      <td>nan</td>\n",
       "      <td>nan</td>\n",
       "      <td>139</td>\n",
       "      <td>Phoenix-Mesa-Scottsdale, AZ</td>\n",
       "      <td>\"Mozilla/5.0 (Windows NT 6.1; WOW64) AppleWebK...</td>\n",
       "    </tr>\n",
       "    <tr>\n",
       "      <th>4</th>\n",
       "      <td>2018-11-01T21:17:33</td>\n",
       "      <td>8</td>\n",
       "      <td>free</td>\n",
       "      <td>nan</td>\n",
       "      <td>nan</td>\n",
       "      <td>139</td>\n",
       "      <td>Phoenix-Mesa-Scottsdale, AZ</td>\n",
       "      <td>\"Mozilla/5.0 (Windows NT 6.1; WOW64) AppleWebK...</td>\n",
       "    </tr>\n",
       "  </tbody>\n",
       "</table>\n",
       "</div>"
      ],
      "text/plain": [
       "                    ts  userId level song artist  sessionId  \\\n",
       "0  2018-11-01T21:01:46       8  free  nan    nan        139   \n",
       "1  2018-11-01T21:05:52       8  free  nan    nan        139   \n",
       "2  2018-11-01T21:08:16       8  free  nan    nan        139   \n",
       "3  2018-11-01T21:11:13       8  free  nan    nan        139   \n",
       "4  2018-11-01T21:17:33       8  free  nan    nan        139   \n",
       "\n",
       "                      location  \\\n",
       "0  Phoenix-Mesa-Scottsdale, AZ   \n",
       "1  Phoenix-Mesa-Scottsdale, AZ   \n",
       "2  Phoenix-Mesa-Scottsdale, AZ   \n",
       "3  Phoenix-Mesa-Scottsdale, AZ   \n",
       "4  Phoenix-Mesa-Scottsdale, AZ   \n",
       "\n",
       "                                           userAgent  \n",
       "0  \"Mozilla/5.0 (Windows NT 6.1; WOW64) AppleWebK...  \n",
       "1  \"Mozilla/5.0 (Windows NT 6.1; WOW64) AppleWebK...  \n",
       "2  \"Mozilla/5.0 (Windows NT 6.1; WOW64) AppleWebK...  \n",
       "3  \"Mozilla/5.0 (Windows NT 6.1; WOW64) AppleWebK...  \n",
       "4  \"Mozilla/5.0 (Windows NT 6.1; WOW64) AppleWebK...  "
      ]
     },
     "execution_count": 101,
     "metadata": {},
     "output_type": "execute_result"
    }
   ],
   "source": [
    "#|-----20--char-----||-----20--char-----||-----20--char-----||-doc-lim-||code|#\n",
    "start_index = 0\n",
    "end_index = df.shape[0]\n",
    "batch_size = 5_000\n",
    "columns_in = [\"index\", \"song\", \"artist\", \"length\"]\n",
    "columns_out = [\"song\", \"artist\"]\n",
    "for index in range(start_index, end_index, batch_size):\n",
    "    print(f\"Send batch from idx '{index}'...\")\n",
    "    query = sq.song_select(\n",
    "        dataframe=df[columns_in].iloc[index:index + batch_size]\n",
    "    )\n",
    "    temp_df = pd.read_sql(query, conn)\n",
    "    df.loc[index:index + temp_df.shape[0], columns_out] = temp_df\n",
    "\n",
    "df[columns_out] = df[columns_out].astype(str)\n",
    "df[columns_out[0]] = df[columns_out[0]].map(\n",
    "    lambda val: val if val != 'None' else 'nan'\n",
    ")\n",
    "df[columns_out[1]] = df[columns_out[1]].map(null_dict)\n",
    "df = df.drop(columns=['index', 'length'])\n",
    "df.head()"
   ]
  },
  {
   "cell_type": "markdown",
   "metadata": {},
   "source": [
    "#### Upload data"
   ]
  },
  {
   "cell_type": "code",
   "execution_count": 102,
   "metadata": {},
   "outputs": [
    {
     "name": "stdout",
     "output_type": "stream",
     "text": [
      "Send batch from idx '0'...\n"
     ]
    }
   ],
   "source": [
    "#|-----20--char-----||-----20--char-----||-----20--char-----||-doc-lim-||code|#\n",
    "start_index = 0\n",
    "end_index = df.shape[0]\n",
    "batch_size = 5_000\n",
    "for index in range(start_index, end_index, batch_size):\n",
    "    print(f\"Send batch from idx '{index}'...\")\n",
    "    query = sq.songplay_table_insert(\n",
    "        dataframe=df.iloc[index:index + batch_size]\n",
    "    )\n",
    "    cur.execute(query)\n",
    "    conn.commit()"
   ]
  },
  {
   "cell_type": "markdown",
   "metadata": {},
   "source": [
    "Run `test.ipynb` to see if you've successfully added records to this table."
   ]
  },
  {
   "cell_type": "markdown",
   "metadata": {},
   "source": [
    "#### Results (DBeaver)"
   ]
  },
  {
   "cell_type": "markdown",
   "metadata": {},
   "source": [
    "<!--\n",
    "#|-----20--char-----||-----20--char-----||-----20--char-----||-doc-lim-||code|#\n",
    "-->\n",
    "\n",
    "<!-- Original image size [796 316] -->\n",
    "<br/><br/> <!-- Blank line -->\n",
    "<div align=\"center\">\n",
    "  <img width=\"796\" height=\"316\" src=\"img/songplays_results.png\" />\n",
    "</div>\n",
    "<br/><br/> <!-- Blank line -->"
   ]
  },
  {
   "cell_type": "markdown",
   "metadata": {},
   "source": [
    "## Close Connection to Sparkify Database"
   ]
  },
  {
   "cell_type": "code",
   "execution_count": 103,
   "metadata": {},
   "outputs": [],
   "source": [
    "conn.close()"
   ]
  },
  {
   "cell_type": "markdown",
   "metadata": {},
   "source": [
    "> Implement `etl.py`\n",
    "> Use what you've completed in this notebook to implement `etl.py`."
   ]
  }
 ],
 "metadata": {
  "kernelspec": {
   "display_name": "Python v.3.9.6 (data_engineer)",
   "language": "python",
   "name": "data_engineer"
  },
  "language_info": {
   "codemirror_mode": {
    "name": "ipython",
    "version": 3
   },
   "file_extension": ".py",
   "mimetype": "text/x-python",
   "name": "python",
   "nbconvert_exporter": "python",
   "pygments_lexer": "ipython3",
   "version": "3.9.6"
  },
  "toc": {
   "base_numbering": 1,
   "nav_menu": {},
   "number_sections": true,
   "sideBar": true,
   "skip_h1_title": true,
   "title_cell": "Table of Contents",
   "title_sidebar": "Contents",
   "toc_cell": false,
   "toc_position": {
    "height": "calc(100% - 180px)",
    "left": "10px",
    "top": "150px",
    "width": "370.133px"
   },
   "toc_section_display": true,
   "toc_window_display": true
  },
  "varInspector": {
   "cols": {
    "lenName": 16,
    "lenType": 16,
    "lenVar": 40
   },
   "kernels_config": {
    "python": {
     "delete_cmd_postfix": "",
     "delete_cmd_prefix": "del ",
     "library": "var_list.py",
     "varRefreshCmd": "print(var_dic_list())"
    },
    "r": {
     "delete_cmd_postfix": ") ",
     "delete_cmd_prefix": "rm(",
     "library": "var_list.r",
     "varRefreshCmd": "cat(var_dic_list()) "
    }
   },
   "types_to_exclude": [
    "module",
    "function",
    "builtin_function_or_method",
    "instance",
    "_Feature"
   ],
   "window_display": false
  }
 },
 "nbformat": 4,
 "nbformat_minor": 2
}
